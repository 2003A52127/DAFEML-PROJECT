{
  "nbformat": 4,
  "nbformat_minor": 0,
  "metadata": {
    "colab": {
      "provenance": []
    },
    "kernelspec": {
      "name": "python3",
      "display_name": "Python 3"
    },
    "language_info": {
      "name": "python"
    }
  },
  "cells": [
    {
      "cell_type": "code",
      "execution_count": 2,
      "metadata": {
        "id": "tyDZ-rnfpfQQ"
      },
      "outputs": [],
      "source": [
        "import numpy as np\n",
        "import pandas as pd\n",
        "from matplotlib import pyplot as plt\n",
        "import seaborn as sns"
      ]
    },
    {
      "cell_type": "code",
      "source": [
        "df = pd.read_excel('/content/drive/MyDrive/dafemlproject.xlsx')\n"
      ],
      "metadata": {
        "id": "xneYw9YGqEdG"
      },
      "execution_count": 97,
      "outputs": []
    },
    {
      "cell_type": "code",
      "source": [
        "df.shape"
      ],
      "metadata": {
        "colab": {
          "base_uri": "https://localhost:8080/"
        },
        "id": "MU1q0jRZqhOk",
        "outputId": "840e1846-2c51-449b-a389-da59f55a2321"
      },
      "execution_count": 11,
      "outputs": [
        {
          "output_type": "execute_result",
          "data": {
            "text/plain": [
              "(1198, 8)"
            ]
          },
          "metadata": {},
          "execution_count": 11
        }
      ]
    },
    {
      "cell_type": "code",
      "source": [
        "df.head()"
      ],
      "metadata": {
        "colab": {
          "base_uri": "https://localhost:8080/",
          "height": 206
        },
        "id": "VzaSWFZLqeUn",
        "outputId": "644a3ed3-8b40-4a3f-87d0-61c1ed393aea"
      },
      "execution_count": 23,
      "outputs": [
        {
          "output_type": "execute_result",
          "data": {
            "text/plain": [
              "   GRE Score  TOEFL Score  University Rating  SOP  LOR   CGPA  Research  \\\n",
              "0      337.0        118.0                  4  4.5   4.5  9.65         1   \n",
              "1      264.0        107.0                  4  4.0   4.5  8.87         1   \n",
              "2      216.0        104.0                  3  3.0   3.5  8.00         1   \n",
              "3      271.0        110.0                  3  3.5   2.5  8.67         1   \n",
              "4      203.0        103.0                  2  2.0   3.0  8.21         0   \n",
              "\n",
              "   Chance of Admit   \n",
              "0              0.92  \n",
              "1              0.76  \n",
              "2              0.72  \n",
              "3              0.80  \n",
              "4              0.65  "
            ],
            "text/html": [
              "\n",
              "  <div id=\"df-416eab9f-495a-421a-ba62-52a31a325a3e\">\n",
              "    <div class=\"colab-df-container\">\n",
              "      <div>\n",
              "<style scoped>\n",
              "    .dataframe tbody tr th:only-of-type {\n",
              "        vertical-align: middle;\n",
              "    }\n",
              "\n",
              "    .dataframe tbody tr th {\n",
              "        vertical-align: top;\n",
              "    }\n",
              "\n",
              "    .dataframe thead th {\n",
              "        text-align: right;\n",
              "    }\n",
              "</style>\n",
              "<table border=\"1\" class=\"dataframe\">\n",
              "  <thead>\n",
              "    <tr style=\"text-align: right;\">\n",
              "      <th></th>\n",
              "      <th>GRE Score</th>\n",
              "      <th>TOEFL Score</th>\n",
              "      <th>University Rating</th>\n",
              "      <th>SOP</th>\n",
              "      <th>LOR</th>\n",
              "      <th>CGPA</th>\n",
              "      <th>Research</th>\n",
              "      <th>Chance of Admit</th>\n",
              "    </tr>\n",
              "  </thead>\n",
              "  <tbody>\n",
              "    <tr>\n",
              "      <th>0</th>\n",
              "      <td>337.0</td>\n",
              "      <td>118.0</td>\n",
              "      <td>4</td>\n",
              "      <td>4.5</td>\n",
              "      <td>4.5</td>\n",
              "      <td>9.65</td>\n",
              "      <td>1</td>\n",
              "      <td>0.92</td>\n",
              "    </tr>\n",
              "    <tr>\n",
              "      <th>1</th>\n",
              "      <td>264.0</td>\n",
              "      <td>107.0</td>\n",
              "      <td>4</td>\n",
              "      <td>4.0</td>\n",
              "      <td>4.5</td>\n",
              "      <td>8.87</td>\n",
              "      <td>1</td>\n",
              "      <td>0.76</td>\n",
              "    </tr>\n",
              "    <tr>\n",
              "      <th>2</th>\n",
              "      <td>216.0</td>\n",
              "      <td>104.0</td>\n",
              "      <td>3</td>\n",
              "      <td>3.0</td>\n",
              "      <td>3.5</td>\n",
              "      <td>8.00</td>\n",
              "      <td>1</td>\n",
              "      <td>0.72</td>\n",
              "    </tr>\n",
              "    <tr>\n",
              "      <th>3</th>\n",
              "      <td>271.0</td>\n",
              "      <td>110.0</td>\n",
              "      <td>3</td>\n",
              "      <td>3.5</td>\n",
              "      <td>2.5</td>\n",
              "      <td>8.67</td>\n",
              "      <td>1</td>\n",
              "      <td>0.80</td>\n",
              "    </tr>\n",
              "    <tr>\n",
              "      <th>4</th>\n",
              "      <td>203.0</td>\n",
              "      <td>103.0</td>\n",
              "      <td>2</td>\n",
              "      <td>2.0</td>\n",
              "      <td>3.0</td>\n",
              "      <td>8.21</td>\n",
              "      <td>0</td>\n",
              "      <td>0.65</td>\n",
              "    </tr>\n",
              "  </tbody>\n",
              "</table>\n",
              "</div>\n",
              "      <button class=\"colab-df-convert\" onclick=\"convertToInteractive('df-416eab9f-495a-421a-ba62-52a31a325a3e')\"\n",
              "              title=\"Convert this dataframe to an interactive table.\"\n",
              "              style=\"display:none;\">\n",
              "        \n",
              "  <svg xmlns=\"http://www.w3.org/2000/svg\" height=\"24px\"viewBox=\"0 0 24 24\"\n",
              "       width=\"24px\">\n",
              "    <path d=\"M0 0h24v24H0V0z\" fill=\"none\"/>\n",
              "    <path d=\"M18.56 5.44l.94 2.06.94-2.06 2.06-.94-2.06-.94-.94-2.06-.94 2.06-2.06.94zm-11 1L8.5 8.5l.94-2.06 2.06-.94-2.06-.94L8.5 2.5l-.94 2.06-2.06.94zm10 10l.94 2.06.94-2.06 2.06-.94-2.06-.94-.94-2.06-.94 2.06-2.06.94z\"/><path d=\"M17.41 7.96l-1.37-1.37c-.4-.4-.92-.59-1.43-.59-.52 0-1.04.2-1.43.59L10.3 9.45l-7.72 7.72c-.78.78-.78 2.05 0 2.83L4 21.41c.39.39.9.59 1.41.59.51 0 1.02-.2 1.41-.59l7.78-7.78 2.81-2.81c.8-.78.8-2.07 0-2.86zM5.41 20L4 18.59l7.72-7.72 1.47 1.35L5.41 20z\"/>\n",
              "  </svg>\n",
              "      </button>\n",
              "      \n",
              "  <style>\n",
              "    .colab-df-container {\n",
              "      display:flex;\n",
              "      flex-wrap:wrap;\n",
              "      gap: 12px;\n",
              "    }\n",
              "\n",
              "    .colab-df-convert {\n",
              "      background-color: #E8F0FE;\n",
              "      border: none;\n",
              "      border-radius: 50%;\n",
              "      cursor: pointer;\n",
              "      display: none;\n",
              "      fill: #1967D2;\n",
              "      height: 32px;\n",
              "      padding: 0 0 0 0;\n",
              "      width: 32px;\n",
              "    }\n",
              "\n",
              "    .colab-df-convert:hover {\n",
              "      background-color: #E2EBFA;\n",
              "      box-shadow: 0px 1px 2px rgba(60, 64, 67, 0.3), 0px 1px 3px 1px rgba(60, 64, 67, 0.15);\n",
              "      fill: #174EA6;\n",
              "    }\n",
              "\n",
              "    [theme=dark] .colab-df-convert {\n",
              "      background-color: #3B4455;\n",
              "      fill: #D2E3FC;\n",
              "    }\n",
              "\n",
              "    [theme=dark] .colab-df-convert:hover {\n",
              "      background-color: #434B5C;\n",
              "      box-shadow: 0px 1px 3px 1px rgba(0, 0, 0, 0.15);\n",
              "      filter: drop-shadow(0px 1px 2px rgba(0, 0, 0, 0.3));\n",
              "      fill: #FFFFFF;\n",
              "    }\n",
              "  </style>\n",
              "\n",
              "      <script>\n",
              "        const buttonEl =\n",
              "          document.querySelector('#df-416eab9f-495a-421a-ba62-52a31a325a3e button.colab-df-convert');\n",
              "        buttonEl.style.display =\n",
              "          google.colab.kernel.accessAllowed ? 'block' : 'none';\n",
              "\n",
              "        async function convertToInteractive(key) {\n",
              "          const element = document.querySelector('#df-416eab9f-495a-421a-ba62-52a31a325a3e');\n",
              "          const dataTable =\n",
              "            await google.colab.kernel.invokeFunction('convertToInteractive',\n",
              "                                                     [key], {});\n",
              "          if (!dataTable) return;\n",
              "\n",
              "          const docLinkHtml = 'Like what you see? Visit the ' +\n",
              "            '<a target=\"_blank\" href=https://colab.research.google.com/notebooks/data_table.ipynb>data table notebook</a>'\n",
              "            + ' to learn more about interactive tables.';\n",
              "          element.innerHTML = '';\n",
              "          dataTable['output_type'] = 'display_data';\n",
              "          await google.colab.output.renderOutput(dataTable, element);\n",
              "          const docLink = document.createElement('div');\n",
              "          docLink.innerHTML = docLinkHtml;\n",
              "          element.appendChild(docLink);\n",
              "        }\n",
              "      </script>\n",
              "    </div>\n",
              "  </div>\n",
              "  "
            ]
          },
          "metadata": {},
          "execution_count": 23
        }
      ]
    },
    {
      "cell_type": "code",
      "source": [
        "df.tail()"
      ],
      "metadata": {
        "colab": {
          "base_uri": "https://localhost:8080/",
          "height": 206
        },
        "id": "RUMUUk6OqmbY",
        "outputId": "1810be64-aee3-4b93-a24f-5a9230e090da"
      },
      "execution_count": null,
      "outputs": [
        {
          "output_type": "execute_result",
          "data": {
            "text/plain": [
              "      GRE Score  TOEFL Score  University Rating  SOP  LOR   CGPA  Research  \\\n",
              "1193      264.0        110.0                  3  3.5   3.5  9.04         1   \n",
              "1194      105.0        107.0                  3  3.0   3.5  9.11         1   \n",
              "1195      259.0        116.0                  4  5.0   4.5  9.45         1   \n",
              "1196      202.0        103.0                  3  3.5   4.0  8.78         0   \n",
              "1197        0.0        117.0                  4  5.0   4.0  9.66         1   \n",
              "\n",
              "      Chance of Admit   \n",
              "1193              0.82  \n",
              "1194              0.84  \n",
              "1195              0.91  \n",
              "1196              0.67  \n",
              "1197              0.95  "
            ],
            "text/html": [
              "\n",
              "  <div id=\"df-acd571fd-33fc-43ed-980a-ab099dfef242\">\n",
              "    <div class=\"colab-df-container\">\n",
              "      <div>\n",
              "<style scoped>\n",
              "    .dataframe tbody tr th:only-of-type {\n",
              "        vertical-align: middle;\n",
              "    }\n",
              "\n",
              "    .dataframe tbody tr th {\n",
              "        vertical-align: top;\n",
              "    }\n",
              "\n",
              "    .dataframe thead th {\n",
              "        text-align: right;\n",
              "    }\n",
              "</style>\n",
              "<table border=\"1\" class=\"dataframe\">\n",
              "  <thead>\n",
              "    <tr style=\"text-align: right;\">\n",
              "      <th></th>\n",
              "      <th>GRE Score</th>\n",
              "      <th>TOEFL Score</th>\n",
              "      <th>University Rating</th>\n",
              "      <th>SOP</th>\n",
              "      <th>LOR</th>\n",
              "      <th>CGPA</th>\n",
              "      <th>Research</th>\n",
              "      <th>Chance of Admit</th>\n",
              "    </tr>\n",
              "  </thead>\n",
              "  <tbody>\n",
              "    <tr>\n",
              "      <th>1193</th>\n",
              "      <td>264.0</td>\n",
              "      <td>110.0</td>\n",
              "      <td>3</td>\n",
              "      <td>3.5</td>\n",
              "      <td>3.5</td>\n",
              "      <td>9.04</td>\n",
              "      <td>1</td>\n",
              "      <td>0.82</td>\n",
              "    </tr>\n",
              "    <tr>\n",
              "      <th>1194</th>\n",
              "      <td>105.0</td>\n",
              "      <td>107.0</td>\n",
              "      <td>3</td>\n",
              "      <td>3.0</td>\n",
              "      <td>3.5</td>\n",
              "      <td>9.11</td>\n",
              "      <td>1</td>\n",
              "      <td>0.84</td>\n",
              "    </tr>\n",
              "    <tr>\n",
              "      <th>1195</th>\n",
              "      <td>259.0</td>\n",
              "      <td>116.0</td>\n",
              "      <td>4</td>\n",
              "      <td>5.0</td>\n",
              "      <td>4.5</td>\n",
              "      <td>9.45</td>\n",
              "      <td>1</td>\n",
              "      <td>0.91</td>\n",
              "    </tr>\n",
              "    <tr>\n",
              "      <th>1196</th>\n",
              "      <td>202.0</td>\n",
              "      <td>103.0</td>\n",
              "      <td>3</td>\n",
              "      <td>3.5</td>\n",
              "      <td>4.0</td>\n",
              "      <td>8.78</td>\n",
              "      <td>0</td>\n",
              "      <td>0.67</td>\n",
              "    </tr>\n",
              "    <tr>\n",
              "      <th>1197</th>\n",
              "      <td>0.0</td>\n",
              "      <td>117.0</td>\n",
              "      <td>4</td>\n",
              "      <td>5.0</td>\n",
              "      <td>4.0</td>\n",
              "      <td>9.66</td>\n",
              "      <td>1</td>\n",
              "      <td>0.95</td>\n",
              "    </tr>\n",
              "  </tbody>\n",
              "</table>\n",
              "</div>\n",
              "      <button class=\"colab-df-convert\" onclick=\"convertToInteractive('df-acd571fd-33fc-43ed-980a-ab099dfef242')\"\n",
              "              title=\"Convert this dataframe to an interactive table.\"\n",
              "              style=\"display:none;\">\n",
              "        \n",
              "  <svg xmlns=\"http://www.w3.org/2000/svg\" height=\"24px\"viewBox=\"0 0 24 24\"\n",
              "       width=\"24px\">\n",
              "    <path d=\"M0 0h24v24H0V0z\" fill=\"none\"/>\n",
              "    <path d=\"M18.56 5.44l.94 2.06.94-2.06 2.06-.94-2.06-.94-.94-2.06-.94 2.06-2.06.94zm-11 1L8.5 8.5l.94-2.06 2.06-.94-2.06-.94L8.5 2.5l-.94 2.06-2.06.94zm10 10l.94 2.06.94-2.06 2.06-.94-2.06-.94-.94-2.06-.94 2.06-2.06.94z\"/><path d=\"M17.41 7.96l-1.37-1.37c-.4-.4-.92-.59-1.43-.59-.52 0-1.04.2-1.43.59L10.3 9.45l-7.72 7.72c-.78.78-.78 2.05 0 2.83L4 21.41c.39.39.9.59 1.41.59.51 0 1.02-.2 1.41-.59l7.78-7.78 2.81-2.81c.8-.78.8-2.07 0-2.86zM5.41 20L4 18.59l7.72-7.72 1.47 1.35L5.41 20z\"/>\n",
              "  </svg>\n",
              "      </button>\n",
              "      \n",
              "  <style>\n",
              "    .colab-df-container {\n",
              "      display:flex;\n",
              "      flex-wrap:wrap;\n",
              "      gap: 12px;\n",
              "    }\n",
              "\n",
              "    .colab-df-convert {\n",
              "      background-color: #E8F0FE;\n",
              "      border: none;\n",
              "      border-radius: 50%;\n",
              "      cursor: pointer;\n",
              "      display: none;\n",
              "      fill: #1967D2;\n",
              "      height: 32px;\n",
              "      padding: 0 0 0 0;\n",
              "      width: 32px;\n",
              "    }\n",
              "\n",
              "    .colab-df-convert:hover {\n",
              "      background-color: #E2EBFA;\n",
              "      box-shadow: 0px 1px 2px rgba(60, 64, 67, 0.3), 0px 1px 3px 1px rgba(60, 64, 67, 0.15);\n",
              "      fill: #174EA6;\n",
              "    }\n",
              "\n",
              "    [theme=dark] .colab-df-convert {\n",
              "      background-color: #3B4455;\n",
              "      fill: #D2E3FC;\n",
              "    }\n",
              "\n",
              "    [theme=dark] .colab-df-convert:hover {\n",
              "      background-color: #434B5C;\n",
              "      box-shadow: 0px 1px 3px 1px rgba(0, 0, 0, 0.15);\n",
              "      filter: drop-shadow(0px 1px 2px rgba(0, 0, 0, 0.3));\n",
              "      fill: #FFFFFF;\n",
              "    }\n",
              "  </style>\n",
              "\n",
              "      <script>\n",
              "        const buttonEl =\n",
              "          document.querySelector('#df-acd571fd-33fc-43ed-980a-ab099dfef242 button.colab-df-convert');\n",
              "        buttonEl.style.display =\n",
              "          google.colab.kernel.accessAllowed ? 'block' : 'none';\n",
              "\n",
              "        async function convertToInteractive(key) {\n",
              "          const element = document.querySelector('#df-acd571fd-33fc-43ed-980a-ab099dfef242');\n",
              "          const dataTable =\n",
              "            await google.colab.kernel.invokeFunction('convertToInteractive',\n",
              "                                                     [key], {});\n",
              "          if (!dataTable) return;\n",
              "\n",
              "          const docLinkHtml = 'Like what you see? Visit the ' +\n",
              "            '<a target=\"_blank\" href=https://colab.research.google.com/notebooks/data_table.ipynb>data table notebook</a>'\n",
              "            + ' to learn more about interactive tables.';\n",
              "          element.innerHTML = '';\n",
              "          dataTable['output_type'] = 'display_data';\n",
              "          await google.colab.output.renderOutput(dataTable, element);\n",
              "          const docLink = document.createElement('div');\n",
              "          docLink.innerHTML = docLinkHtml;\n",
              "          element.appendChild(docLink);\n",
              "        }\n",
              "      </script>\n",
              "    </div>\n",
              "  </div>\n",
              "  "
            ]
          },
          "metadata": {},
          "execution_count": 8
        }
      ]
    },
    {
      "cell_type": "code",
      "source": [
        "df.info()"
      ],
      "metadata": {
        "colab": {
          "base_uri": "https://localhost:8080/"
        },
        "id": "tZpsnerUqv5T",
        "outputId": "f950c4d6-2fc3-4021-cf72-bdc0d43daa43"
      },
      "execution_count": null,
      "outputs": [
        {
          "output_type": "stream",
          "name": "stdout",
          "text": [
            "<class 'pandas.core.frame.DataFrame'>\n",
            "RangeIndex: 1198 entries, 0 to 1197\n",
            "Data columns (total 8 columns):\n",
            " #   Column             Non-Null Count  Dtype  \n",
            "---  ------             --------------  -----  \n",
            " 0   GRE Score          1178 non-null   float64\n",
            " 1   TOEFL Score        1185 non-null   float64\n",
            " 2   University Rating  1198 non-null   int64  \n",
            " 3   SOP                1198 non-null   float64\n",
            " 4   LOR                1198 non-null   float64\n",
            " 5   CGPA               1198 non-null   float64\n",
            " 6   Research           1198 non-null   int64  \n",
            " 7   Chance of Admit    1198 non-null   float64\n",
            "dtypes: float64(6), int64(2)\n",
            "memory usage: 75.0 KB\n"
          ]
        }
      ]
    },
    {
      "cell_type": "code",
      "source": [
        "df.isnull().any()"
      ],
      "metadata": {
        "colab": {
          "base_uri": "https://localhost:8080/"
        },
        "id": "YUSKEuptqz7b",
        "outputId": "8b1c9053-c591-4876-c6ce-f0ccbf82d9b1"
      },
      "execution_count": null,
      "outputs": [
        {
          "output_type": "execute_result",
          "data": {
            "text/plain": [
              "GRE Score             True\n",
              "TOEFL Score           True\n",
              "University Rating    False\n",
              "SOP                  False\n",
              "LOR                  False\n",
              "CGPA                 False\n",
              "Research             False\n",
              "Chance of Admit      False\n",
              "dtype: bool"
            ]
          },
          "metadata": {},
          "execution_count": 10
        }
      ]
    },
    {
      "cell_type": "code",
      "source": [
        "df.describe()"
      ],
      "metadata": {
        "colab": {
          "base_uri": "https://localhost:8080/",
          "height": 300
        },
        "id": "3gZJynkZrfdx",
        "outputId": "9b806123-dd64-442d-8de6-d1d2844fffbd"
      },
      "execution_count": null,
      "outputs": [
        {
          "output_type": "execute_result",
          "data": {
            "text/plain": [
              "         GRE Score  TOEFL Score  University Rating          SOP         LOR   \\\n",
              "count  1178.000000  1185.000000        1198.000000  1198.000000  1198.000000   \n",
              "mean    224.246180   107.403376           3.085977     3.398164     3.450751   \n",
              "std      71.747235     6.058219           1.143119     1.005862     0.897455   \n",
              "min       0.000000    92.000000           1.000000     1.000000     1.000000   \n",
              "25%     195.000000   103.000000           2.000000     2.500000     3.000000   \n",
              "50%     236.500000   107.000000           3.000000     3.500000     3.500000   \n",
              "75%     271.000000   112.000000           4.000000     4.000000     4.000000   \n",
              "max     339.000000   120.000000           5.000000     5.000000     5.000000   \n",
              "\n",
              "              CGPA     Research  Chance of Admit   \n",
              "count  1198.000000  1198.000000       1198.000000  \n",
              "mean      8.597170     0.546745          0.724023  \n",
              "std       0.594765     0.498018          0.142385  \n",
              "min       6.800000     0.000000          0.340000  \n",
              "25%       8.170000     0.000000          0.640000  \n",
              "50%       8.600000     1.000000          0.730000  \n",
              "75%       9.060000     1.000000          0.830000  \n",
              "max       9.920000     1.000000          0.970000  "
            ],
            "text/html": [
              "\n",
              "  <div id=\"df-ad9e0b0d-adce-4886-a491-ad8847e06647\">\n",
              "    <div class=\"colab-df-container\">\n",
              "      <div>\n",
              "<style scoped>\n",
              "    .dataframe tbody tr th:only-of-type {\n",
              "        vertical-align: middle;\n",
              "    }\n",
              "\n",
              "    .dataframe tbody tr th {\n",
              "        vertical-align: top;\n",
              "    }\n",
              "\n",
              "    .dataframe thead th {\n",
              "        text-align: right;\n",
              "    }\n",
              "</style>\n",
              "<table border=\"1\" class=\"dataframe\">\n",
              "  <thead>\n",
              "    <tr style=\"text-align: right;\">\n",
              "      <th></th>\n",
              "      <th>GRE Score</th>\n",
              "      <th>TOEFL Score</th>\n",
              "      <th>University Rating</th>\n",
              "      <th>SOP</th>\n",
              "      <th>LOR</th>\n",
              "      <th>CGPA</th>\n",
              "      <th>Research</th>\n",
              "      <th>Chance of Admit</th>\n",
              "    </tr>\n",
              "  </thead>\n",
              "  <tbody>\n",
              "    <tr>\n",
              "      <th>count</th>\n",
              "      <td>1178.000000</td>\n",
              "      <td>1185.000000</td>\n",
              "      <td>1198.000000</td>\n",
              "      <td>1198.000000</td>\n",
              "      <td>1198.000000</td>\n",
              "      <td>1198.000000</td>\n",
              "      <td>1198.000000</td>\n",
              "      <td>1198.000000</td>\n",
              "    </tr>\n",
              "    <tr>\n",
              "      <th>mean</th>\n",
              "      <td>224.246180</td>\n",
              "      <td>107.403376</td>\n",
              "      <td>3.085977</td>\n",
              "      <td>3.398164</td>\n",
              "      <td>3.450751</td>\n",
              "      <td>8.597170</td>\n",
              "      <td>0.546745</td>\n",
              "      <td>0.724023</td>\n",
              "    </tr>\n",
              "    <tr>\n",
              "      <th>std</th>\n",
              "      <td>71.747235</td>\n",
              "      <td>6.058219</td>\n",
              "      <td>1.143119</td>\n",
              "      <td>1.005862</td>\n",
              "      <td>0.897455</td>\n",
              "      <td>0.594765</td>\n",
              "      <td>0.498018</td>\n",
              "      <td>0.142385</td>\n",
              "    </tr>\n",
              "    <tr>\n",
              "      <th>min</th>\n",
              "      <td>0.000000</td>\n",
              "      <td>92.000000</td>\n",
              "      <td>1.000000</td>\n",
              "      <td>1.000000</td>\n",
              "      <td>1.000000</td>\n",
              "      <td>6.800000</td>\n",
              "      <td>0.000000</td>\n",
              "      <td>0.340000</td>\n",
              "    </tr>\n",
              "    <tr>\n",
              "      <th>25%</th>\n",
              "      <td>195.000000</td>\n",
              "      <td>103.000000</td>\n",
              "      <td>2.000000</td>\n",
              "      <td>2.500000</td>\n",
              "      <td>3.000000</td>\n",
              "      <td>8.170000</td>\n",
              "      <td>0.000000</td>\n",
              "      <td>0.640000</td>\n",
              "    </tr>\n",
              "    <tr>\n",
              "      <th>50%</th>\n",
              "      <td>236.500000</td>\n",
              "      <td>107.000000</td>\n",
              "      <td>3.000000</td>\n",
              "      <td>3.500000</td>\n",
              "      <td>3.500000</td>\n",
              "      <td>8.600000</td>\n",
              "      <td>1.000000</td>\n",
              "      <td>0.730000</td>\n",
              "    </tr>\n",
              "    <tr>\n",
              "      <th>75%</th>\n",
              "      <td>271.000000</td>\n",
              "      <td>112.000000</td>\n",
              "      <td>4.000000</td>\n",
              "      <td>4.000000</td>\n",
              "      <td>4.000000</td>\n",
              "      <td>9.060000</td>\n",
              "      <td>1.000000</td>\n",
              "      <td>0.830000</td>\n",
              "    </tr>\n",
              "    <tr>\n",
              "      <th>max</th>\n",
              "      <td>339.000000</td>\n",
              "      <td>120.000000</td>\n",
              "      <td>5.000000</td>\n",
              "      <td>5.000000</td>\n",
              "      <td>5.000000</td>\n",
              "      <td>9.920000</td>\n",
              "      <td>1.000000</td>\n",
              "      <td>0.970000</td>\n",
              "    </tr>\n",
              "  </tbody>\n",
              "</table>\n",
              "</div>\n",
              "      <button class=\"colab-df-convert\" onclick=\"convertToInteractive('df-ad9e0b0d-adce-4886-a491-ad8847e06647')\"\n",
              "              title=\"Convert this dataframe to an interactive table.\"\n",
              "              style=\"display:none;\">\n",
              "        \n",
              "  <svg xmlns=\"http://www.w3.org/2000/svg\" height=\"24px\"viewBox=\"0 0 24 24\"\n",
              "       width=\"24px\">\n",
              "    <path d=\"M0 0h24v24H0V0z\" fill=\"none\"/>\n",
              "    <path d=\"M18.56 5.44l.94 2.06.94-2.06 2.06-.94-2.06-.94-.94-2.06-.94 2.06-2.06.94zm-11 1L8.5 8.5l.94-2.06 2.06-.94-2.06-.94L8.5 2.5l-.94 2.06-2.06.94zm10 10l.94 2.06.94-2.06 2.06-.94-2.06-.94-.94-2.06-.94 2.06-2.06.94z\"/><path d=\"M17.41 7.96l-1.37-1.37c-.4-.4-.92-.59-1.43-.59-.52 0-1.04.2-1.43.59L10.3 9.45l-7.72 7.72c-.78.78-.78 2.05 0 2.83L4 21.41c.39.39.9.59 1.41.59.51 0 1.02-.2 1.41-.59l7.78-7.78 2.81-2.81c.8-.78.8-2.07 0-2.86zM5.41 20L4 18.59l7.72-7.72 1.47 1.35L5.41 20z\"/>\n",
              "  </svg>\n",
              "      </button>\n",
              "      \n",
              "  <style>\n",
              "    .colab-df-container {\n",
              "      display:flex;\n",
              "      flex-wrap:wrap;\n",
              "      gap: 12px;\n",
              "    }\n",
              "\n",
              "    .colab-df-convert {\n",
              "      background-color: #E8F0FE;\n",
              "      border: none;\n",
              "      border-radius: 50%;\n",
              "      cursor: pointer;\n",
              "      display: none;\n",
              "      fill: #1967D2;\n",
              "      height: 32px;\n",
              "      padding: 0 0 0 0;\n",
              "      width: 32px;\n",
              "    }\n",
              "\n",
              "    .colab-df-convert:hover {\n",
              "      background-color: #E2EBFA;\n",
              "      box-shadow: 0px 1px 2px rgba(60, 64, 67, 0.3), 0px 1px 3px 1px rgba(60, 64, 67, 0.15);\n",
              "      fill: #174EA6;\n",
              "    }\n",
              "\n",
              "    [theme=dark] .colab-df-convert {\n",
              "      background-color: #3B4455;\n",
              "      fill: #D2E3FC;\n",
              "    }\n",
              "\n",
              "    [theme=dark] .colab-df-convert:hover {\n",
              "      background-color: #434B5C;\n",
              "      box-shadow: 0px 1px 3px 1px rgba(0, 0, 0, 0.15);\n",
              "      filter: drop-shadow(0px 1px 2px rgba(0, 0, 0, 0.3));\n",
              "      fill: #FFFFFF;\n",
              "    }\n",
              "  </style>\n",
              "\n",
              "      <script>\n",
              "        const buttonEl =\n",
              "          document.querySelector('#df-ad9e0b0d-adce-4886-a491-ad8847e06647 button.colab-df-convert');\n",
              "        buttonEl.style.display =\n",
              "          google.colab.kernel.accessAllowed ? 'block' : 'none';\n",
              "\n",
              "        async function convertToInteractive(key) {\n",
              "          const element = document.querySelector('#df-ad9e0b0d-adce-4886-a491-ad8847e06647');\n",
              "          const dataTable =\n",
              "            await google.colab.kernel.invokeFunction('convertToInteractive',\n",
              "                                                     [key], {});\n",
              "          if (!dataTable) return;\n",
              "\n",
              "          const docLinkHtml = 'Like what you see? Visit the ' +\n",
              "            '<a target=\"_blank\" href=https://colab.research.google.com/notebooks/data_table.ipynb>data table notebook</a>'\n",
              "            + ' to learn more about interactive tables.';\n",
              "          element.innerHTML = '';\n",
              "          dataTable['output_type'] = 'display_data';\n",
              "          await google.colab.output.renderOutput(dataTable, element);\n",
              "          const docLink = document.createElement('div');\n",
              "          docLink.innerHTML = docLinkHtml;\n",
              "          element.appendChild(docLink);\n",
              "        }\n",
              "      </script>\n",
              "    </div>\n",
              "  </div>\n",
              "  "
            ]
          },
          "metadata": {},
          "execution_count": 94
        }
      ]
    },
    {
      "cell_type": "code",
      "source": [
        "x=df.iloc[:,0:7]\n",
        "x.head()"
      ],
      "metadata": {
        "colab": {
          "base_uri": "https://localhost:8080/",
          "height": 206
        },
        "id": "DZcxSVvJrzjb",
        "outputId": "f28d7c73-3cb8-4756-8a01-755afbf8b045"
      },
      "execution_count": null,
      "outputs": [
        {
          "output_type": "execute_result",
          "data": {
            "text/plain": [
              "   GRE Score  TOEFL Score  University Rating  SOP  LOR   CGPA  Research\n",
              "0      337.0        118.0                  4  4.5   4.5  9.65         1\n",
              "1      264.0        107.0                  4  4.0   4.5  8.87         1\n",
              "2      216.0        104.0                  3  3.0   3.5  8.00         1\n",
              "3      271.0        110.0                  3  3.5   2.5  8.67         1\n",
              "4      203.0        103.0                  2  2.0   3.0  8.21         0"
            ],
            "text/html": [
              "\n",
              "  <div id=\"df-d25a5dd6-5ca5-4421-9e66-9db1cfa24158\">\n",
              "    <div class=\"colab-df-container\">\n",
              "      <div>\n",
              "<style scoped>\n",
              "    .dataframe tbody tr th:only-of-type {\n",
              "        vertical-align: middle;\n",
              "    }\n",
              "\n",
              "    .dataframe tbody tr th {\n",
              "        vertical-align: top;\n",
              "    }\n",
              "\n",
              "    .dataframe thead th {\n",
              "        text-align: right;\n",
              "    }\n",
              "</style>\n",
              "<table border=\"1\" class=\"dataframe\">\n",
              "  <thead>\n",
              "    <tr style=\"text-align: right;\">\n",
              "      <th></th>\n",
              "      <th>GRE Score</th>\n",
              "      <th>TOEFL Score</th>\n",
              "      <th>University Rating</th>\n",
              "      <th>SOP</th>\n",
              "      <th>LOR</th>\n",
              "      <th>CGPA</th>\n",
              "      <th>Research</th>\n",
              "    </tr>\n",
              "  </thead>\n",
              "  <tbody>\n",
              "    <tr>\n",
              "      <th>0</th>\n",
              "      <td>337.0</td>\n",
              "      <td>118.0</td>\n",
              "      <td>4</td>\n",
              "      <td>4.5</td>\n",
              "      <td>4.5</td>\n",
              "      <td>9.65</td>\n",
              "      <td>1</td>\n",
              "    </tr>\n",
              "    <tr>\n",
              "      <th>1</th>\n",
              "      <td>264.0</td>\n",
              "      <td>107.0</td>\n",
              "      <td>4</td>\n",
              "      <td>4.0</td>\n",
              "      <td>4.5</td>\n",
              "      <td>8.87</td>\n",
              "      <td>1</td>\n",
              "    </tr>\n",
              "    <tr>\n",
              "      <th>2</th>\n",
              "      <td>216.0</td>\n",
              "      <td>104.0</td>\n",
              "      <td>3</td>\n",
              "      <td>3.0</td>\n",
              "      <td>3.5</td>\n",
              "      <td>8.00</td>\n",
              "      <td>1</td>\n",
              "    </tr>\n",
              "    <tr>\n",
              "      <th>3</th>\n",
              "      <td>271.0</td>\n",
              "      <td>110.0</td>\n",
              "      <td>3</td>\n",
              "      <td>3.5</td>\n",
              "      <td>2.5</td>\n",
              "      <td>8.67</td>\n",
              "      <td>1</td>\n",
              "    </tr>\n",
              "    <tr>\n",
              "      <th>4</th>\n",
              "      <td>203.0</td>\n",
              "      <td>103.0</td>\n",
              "      <td>2</td>\n",
              "      <td>2.0</td>\n",
              "      <td>3.0</td>\n",
              "      <td>8.21</td>\n",
              "      <td>0</td>\n",
              "    </tr>\n",
              "  </tbody>\n",
              "</table>\n",
              "</div>\n",
              "      <button class=\"colab-df-convert\" onclick=\"convertToInteractive('df-d25a5dd6-5ca5-4421-9e66-9db1cfa24158')\"\n",
              "              title=\"Convert this dataframe to an interactive table.\"\n",
              "              style=\"display:none;\">\n",
              "        \n",
              "  <svg xmlns=\"http://www.w3.org/2000/svg\" height=\"24px\"viewBox=\"0 0 24 24\"\n",
              "       width=\"24px\">\n",
              "    <path d=\"M0 0h24v24H0V0z\" fill=\"none\"/>\n",
              "    <path d=\"M18.56 5.44l.94 2.06.94-2.06 2.06-.94-2.06-.94-.94-2.06-.94 2.06-2.06.94zm-11 1L8.5 8.5l.94-2.06 2.06-.94-2.06-.94L8.5 2.5l-.94 2.06-2.06.94zm10 10l.94 2.06.94-2.06 2.06-.94-2.06-.94-.94-2.06-.94 2.06-2.06.94z\"/><path d=\"M17.41 7.96l-1.37-1.37c-.4-.4-.92-.59-1.43-.59-.52 0-1.04.2-1.43.59L10.3 9.45l-7.72 7.72c-.78.78-.78 2.05 0 2.83L4 21.41c.39.39.9.59 1.41.59.51 0 1.02-.2 1.41-.59l7.78-7.78 2.81-2.81c.8-.78.8-2.07 0-2.86zM5.41 20L4 18.59l7.72-7.72 1.47 1.35L5.41 20z\"/>\n",
              "  </svg>\n",
              "      </button>\n",
              "      \n",
              "  <style>\n",
              "    .colab-df-container {\n",
              "      display:flex;\n",
              "      flex-wrap:wrap;\n",
              "      gap: 12px;\n",
              "    }\n",
              "\n",
              "    .colab-df-convert {\n",
              "      background-color: #E8F0FE;\n",
              "      border: none;\n",
              "      border-radius: 50%;\n",
              "      cursor: pointer;\n",
              "      display: none;\n",
              "      fill: #1967D2;\n",
              "      height: 32px;\n",
              "      padding: 0 0 0 0;\n",
              "      width: 32px;\n",
              "    }\n",
              "\n",
              "    .colab-df-convert:hover {\n",
              "      background-color: #E2EBFA;\n",
              "      box-shadow: 0px 1px 2px rgba(60, 64, 67, 0.3), 0px 1px 3px 1px rgba(60, 64, 67, 0.15);\n",
              "      fill: #174EA6;\n",
              "    }\n",
              "\n",
              "    [theme=dark] .colab-df-convert {\n",
              "      background-color: #3B4455;\n",
              "      fill: #D2E3FC;\n",
              "    }\n",
              "\n",
              "    [theme=dark] .colab-df-convert:hover {\n",
              "      background-color: #434B5C;\n",
              "      box-shadow: 0px 1px 3px 1px rgba(0, 0, 0, 0.15);\n",
              "      filter: drop-shadow(0px 1px 2px rgba(0, 0, 0, 0.3));\n",
              "      fill: #FFFFFF;\n",
              "    }\n",
              "  </style>\n",
              "\n",
              "      <script>\n",
              "        const buttonEl =\n",
              "          document.querySelector('#df-d25a5dd6-5ca5-4421-9e66-9db1cfa24158 button.colab-df-convert');\n",
              "        buttonEl.style.display =\n",
              "          google.colab.kernel.accessAllowed ? 'block' : 'none';\n",
              "\n",
              "        async function convertToInteractive(key) {\n",
              "          const element = document.querySelector('#df-d25a5dd6-5ca5-4421-9e66-9db1cfa24158');\n",
              "          const dataTable =\n",
              "            await google.colab.kernel.invokeFunction('convertToInteractive',\n",
              "                                                     [key], {});\n",
              "          if (!dataTable) return;\n",
              "\n",
              "          const docLinkHtml = 'Like what you see? Visit the ' +\n",
              "            '<a target=\"_blank\" href=https://colab.research.google.com/notebooks/data_table.ipynb>data table notebook</a>'\n",
              "            + ' to learn more about interactive tables.';\n",
              "          element.innerHTML = '';\n",
              "          dataTable['output_type'] = 'display_data';\n",
              "          await google.colab.output.renderOutput(dataTable, element);\n",
              "          const docLink = document.createElement('div');\n",
              "          docLink.innerHTML = docLinkHtml;\n",
              "          element.appendChild(docLink);\n",
              "        }\n",
              "      </script>\n",
              "    </div>\n",
              "  </div>\n",
              "  "
            ]
          },
          "metadata": {},
          "execution_count": 12
        }
      ]
    },
    {
      "cell_type": "code",
      "source": [
        "y=df.iloc[:,7:8]\n",
        "y.head()"
      ],
      "metadata": {
        "colab": {
          "base_uri": "https://localhost:8080/",
          "height": 206
        },
        "id": "R0rqisbSr1Wz",
        "outputId": "d64709b4-bc3c-4ff0-92ea-c640f75fc1f1"
      },
      "execution_count": 18,
      "outputs": [
        {
          "output_type": "execute_result",
          "data": {
            "text/plain": [
              "   Chance of Admit \n",
              "0              0.92\n",
              "1              0.76\n",
              "2              0.72\n",
              "3              0.80\n",
              "4              0.65"
            ],
            "text/html": [
              "\n",
              "  <div id=\"df-03606565-5e62-4641-a011-b6a70236713e\">\n",
              "    <div class=\"colab-df-container\">\n",
              "      <div>\n",
              "<style scoped>\n",
              "    .dataframe tbody tr th:only-of-type {\n",
              "        vertical-align: middle;\n",
              "    }\n",
              "\n",
              "    .dataframe tbody tr th {\n",
              "        vertical-align: top;\n",
              "    }\n",
              "\n",
              "    .dataframe thead th {\n",
              "        text-align: right;\n",
              "    }\n",
              "</style>\n",
              "<table border=\"1\" class=\"dataframe\">\n",
              "  <thead>\n",
              "    <tr style=\"text-align: right;\">\n",
              "      <th></th>\n",
              "      <th>Chance of Admit</th>\n",
              "    </tr>\n",
              "  </thead>\n",
              "  <tbody>\n",
              "    <tr>\n",
              "      <th>0</th>\n",
              "      <td>0.92</td>\n",
              "    </tr>\n",
              "    <tr>\n",
              "      <th>1</th>\n",
              "      <td>0.76</td>\n",
              "    </tr>\n",
              "    <tr>\n",
              "      <th>2</th>\n",
              "      <td>0.72</td>\n",
              "    </tr>\n",
              "    <tr>\n",
              "      <th>3</th>\n",
              "      <td>0.80</td>\n",
              "    </tr>\n",
              "    <tr>\n",
              "      <th>4</th>\n",
              "      <td>0.65</td>\n",
              "    </tr>\n",
              "  </tbody>\n",
              "</table>\n",
              "</div>\n",
              "      <button class=\"colab-df-convert\" onclick=\"convertToInteractive('df-03606565-5e62-4641-a011-b6a70236713e')\"\n",
              "              title=\"Convert this dataframe to an interactive table.\"\n",
              "              style=\"display:none;\">\n",
              "        \n",
              "  <svg xmlns=\"http://www.w3.org/2000/svg\" height=\"24px\"viewBox=\"0 0 24 24\"\n",
              "       width=\"24px\">\n",
              "    <path d=\"M0 0h24v24H0V0z\" fill=\"none\"/>\n",
              "    <path d=\"M18.56 5.44l.94 2.06.94-2.06 2.06-.94-2.06-.94-.94-2.06-.94 2.06-2.06.94zm-11 1L8.5 8.5l.94-2.06 2.06-.94-2.06-.94L8.5 2.5l-.94 2.06-2.06.94zm10 10l.94 2.06.94-2.06 2.06-.94-2.06-.94-.94-2.06-.94 2.06-2.06.94z\"/><path d=\"M17.41 7.96l-1.37-1.37c-.4-.4-.92-.59-1.43-.59-.52 0-1.04.2-1.43.59L10.3 9.45l-7.72 7.72c-.78.78-.78 2.05 0 2.83L4 21.41c.39.39.9.59 1.41.59.51 0 1.02-.2 1.41-.59l7.78-7.78 2.81-2.81c.8-.78.8-2.07 0-2.86zM5.41 20L4 18.59l7.72-7.72 1.47 1.35L5.41 20z\"/>\n",
              "  </svg>\n",
              "      </button>\n",
              "      \n",
              "  <style>\n",
              "    .colab-df-container {\n",
              "      display:flex;\n",
              "      flex-wrap:wrap;\n",
              "      gap: 12px;\n",
              "    }\n",
              "\n",
              "    .colab-df-convert {\n",
              "      background-color: #E8F0FE;\n",
              "      border: none;\n",
              "      border-radius: 50%;\n",
              "      cursor: pointer;\n",
              "      display: none;\n",
              "      fill: #1967D2;\n",
              "      height: 32px;\n",
              "      padding: 0 0 0 0;\n",
              "      width: 32px;\n",
              "    }\n",
              "\n",
              "    .colab-df-convert:hover {\n",
              "      background-color: #E2EBFA;\n",
              "      box-shadow: 0px 1px 2px rgba(60, 64, 67, 0.3), 0px 1px 3px 1px rgba(60, 64, 67, 0.15);\n",
              "      fill: #174EA6;\n",
              "    }\n",
              "\n",
              "    [theme=dark] .colab-df-convert {\n",
              "      background-color: #3B4455;\n",
              "      fill: #D2E3FC;\n",
              "    }\n",
              "\n",
              "    [theme=dark] .colab-df-convert:hover {\n",
              "      background-color: #434B5C;\n",
              "      box-shadow: 0px 1px 3px 1px rgba(0, 0, 0, 0.15);\n",
              "      filter: drop-shadow(0px 1px 2px rgba(0, 0, 0, 0.3));\n",
              "      fill: #FFFFFF;\n",
              "    }\n",
              "  </style>\n",
              "\n",
              "      <script>\n",
              "        const buttonEl =\n",
              "          document.querySelector('#df-03606565-5e62-4641-a011-b6a70236713e button.colab-df-convert');\n",
              "        buttonEl.style.display =\n",
              "          google.colab.kernel.accessAllowed ? 'block' : 'none';\n",
              "\n",
              "        async function convertToInteractive(key) {\n",
              "          const element = document.querySelector('#df-03606565-5e62-4641-a011-b6a70236713e');\n",
              "          const dataTable =\n",
              "            await google.colab.kernel.invokeFunction('convertToInteractive',\n",
              "                                                     [key], {});\n",
              "          if (!dataTable) return;\n",
              "\n",
              "          const docLinkHtml = 'Like what you see? Visit the ' +\n",
              "            '<a target=\"_blank\" href=https://colab.research.google.com/notebooks/data_table.ipynb>data table notebook</a>'\n",
              "            + ' to learn more about interactive tables.';\n",
              "          element.innerHTML = '';\n",
              "          dataTable['output_type'] = 'display_data';\n",
              "          await google.colab.output.renderOutput(dataTable, element);\n",
              "          const docLink = document.createElement('div');\n",
              "          docLink.innerHTML = docLinkHtml;\n",
              "          element.appendChild(docLink);\n",
              "        }\n",
              "      </script>\n",
              "    </div>\n",
              "  </div>\n",
              "  "
            ]
          },
          "metadata": {},
          "execution_count": 18
        }
      ]
    },
    {
      "cell_type": "code",
      "source": [
        "df.fillna(df.mean().round(1), inplace=True)\n",
        "df.isnull().any()"
      ],
      "metadata": {
        "colab": {
          "base_uri": "https://localhost:8080/"
        },
        "id": "PWkvq77MsAMg",
        "outputId": "8e602461-5615-4f06-9308-4e4f68bddeab"
      },
      "execution_count": 56,
      "outputs": [
        {
          "output_type": "execute_result",
          "data": {
            "text/plain": [
              "GRE Score            False\n",
              "TOEFL Score          False\n",
              "University Rating    False\n",
              "SOP                  False\n",
              "LOR                  False\n",
              "CGPA                 False\n",
              "Research             False\n",
              "Chance of Admit      False\n",
              "dtype: bool"
            ]
          },
          "metadata": {},
          "execution_count": 56
        }
      ]
    },
    {
      "cell_type": "markdown",
      "source": [
        "## **OUTLIER DETECTION**"
      ],
      "metadata": {
        "id": "8ohBhMpn11rz"
      }
    },
    {
      "cell_type": "markdown",
      "source": [
        "### **BOX PLOT**"
      ],
      "metadata": {
        "id": "5hYXb230F4aX"
      }
    },
    {
      "cell_type": "code",
      "source": [
        "plt.figure(1,figsize=(10,6))\n",
        "plt.subplot(1,4,1)\n",
        "fig1 = plt.boxplot(df['GRE Score'])\n",
        "plt.title(\"GRE Scores\")\n",
        "plt.subplot(1,4,2)\n",
        "fig2 = plt.boxplot(df['TOEFL Score'])\n",
        "plt.title(\"TOEFL Scores\")\n",
        "plt.subplot(1,4,3)\n",
        "fig3= plt.boxplot(df['University Rating'])\n",
        "plt.title('University Rating')\n",
        "plt.subplot(1,4,4)\n",
        "fig4= plt.boxplot(df['CGPA'])\n",
        "plt.title('CGPA')\n"
      ],
      "metadata": {
        "colab": {
          "base_uri": "https://localhost:8080/",
          "height": 407
        },
        "id": "Ho-LpyyOu4cx",
        "outputId": "3d62ba59-6fc9-4725-a92f-11de4d79ddeb"
      },
      "execution_count": 59,
      "outputs": [
        {
          "output_type": "execute_result",
          "data": {
            "text/plain": [
              "Text(0.5, 1.0, 'CGPA')"
            ]
          },
          "metadata": {},
          "execution_count": 59
        },
        {
          "output_type": "display_data",
          "data": {
            "text/plain": [
              "<Figure size 720x432 with 4 Axes>"
            ],
            "image/png": "[encoded data removed]"
          },
          "metadata": {
            "needs_background": "light"
          }
        }
      ]
    },
    {
      "cell_type": "markdown",
      "source": [
        "Above BoX-plot shows the min,median and max values for GRE,TOEFL,University rating and CGPA for the dataset."
      ],
      "metadata": {
        "id": "voropJaJvCD3"
      }
    },
    {
      "cell_type": "markdown",
      "source": [
        "### **OUTLIER HANDLING-REMOVING OUTLIERS**"
      ],
      "metadata": {
        "id": "XWHvo2KSGGtL"
      }
    },
    {
      "cell_type": "code",
      "source": [
        "import numpy as np\n"
      ],
      "metadata": {
        "id": "4K9EVylyCuV9"
      },
      "execution_count": null,
      "outputs": []
    },
    {
      "cell_type": "code",
      "source": [
        "df"
      ],
      "metadata": {
        "colab": {
          "base_uri": "https://localhost:8080/",
          "height": 424
        },
        "id": "Gg_AyJYaC0Bd",
        "outputId": "7628b4da-4ced-4a4d-eb14-731ca584be6e"
      },
      "execution_count": 46,
      "outputs": [
        {
          "output_type": "execute_result",
          "data": {
            "text/plain": [
              "      GRE Score  TOEFL Score  University Rating  SOP  LOR   CGPA  Research  \\\n",
              "0         337.0        118.0                  4  4.5   4.5  9.65         1   \n",
              "1         264.0        107.0                  4  4.0   4.5  8.87         1   \n",
              "2         216.0        104.0                  3  3.0   3.5  8.00         1   \n",
              "3         271.0        110.0                  3  3.5   2.5  8.67         1   \n",
              "4         203.0        103.0                  2  2.0   3.0  8.21         0   \n",
              "...         ...          ...                ...  ...   ...   ...       ...   \n",
              "1193      264.0        110.0                  3  3.5   3.5  9.04         1   \n",
              "1194      105.0        107.0                  3  3.0   3.5  9.11         1   \n",
              "1195      259.0        116.0                  4  5.0   4.5  9.45         1   \n",
              "1196      202.0        103.0                  3  3.5   4.0  8.78         0   \n",
              "1197        0.0        117.0                  4  5.0   4.0  9.66         1   \n",
              "\n",
              "      Chance of Admit   \n",
              "0                 0.92  \n",
              "1                 0.76  \n",
              "2                 0.72  \n",
              "3                 0.80  \n",
              "4                 0.65  \n",
              "...                ...  \n",
              "1193              0.82  \n",
              "1194              0.84  \n",
              "1195              0.91  \n",
              "1196              0.67  \n",
              "1197              0.95  \n",
              "\n",
              "[1198 rows x 8 columns]"
            ],
            "text/html": [
              "\n",
              "  <div id=\"df-7c7a63f1-a052-4b48-aa21-4240e7d1dd95\">\n",
              "    <div class=\"colab-df-container\">\n",
              "      <div>\n",
              "<style scoped>\n",
              "    .dataframe tbody tr th:only-of-type {\n",
              "        vertical-align: middle;\n",
              "    }\n",
              "\n",
              "    .dataframe tbody tr th {\n",
              "        vertical-align: top;\n",
              "    }\n",
              "\n",
              "    .dataframe thead th {\n",
              "        text-align: right;\n",
              "    }\n",
              "</style>\n",
              "<table border=\"1\" class=\"dataframe\">\n",
              "  <thead>\n",
              "    <tr style=\"text-align: right;\">\n",
              "      <th></th>\n",
              "      <th>GRE Score</th>\n",
              "      <th>TOEFL Score</th>\n",
              "      <th>University Rating</th>\n",
              "      <th>SOP</th>\n",
              "      <th>LOR</th>\n",
              "      <th>CGPA</th>\n",
              "      <th>Research</th>\n",
              "      <th>Chance of Admit</th>\n",
              "    </tr>\n",
              "  </thead>\n",
              "  <tbody>\n",
              "    <tr>\n",
              "      <th>0</th>\n",
              "      <td>337.0</td>\n",
              "      <td>118.0</td>\n",
              "      <td>4</td>\n",
              "      <td>4.5</td>\n",
              "      <td>4.5</td>\n",
              "      <td>9.65</td>\n",
              "      <td>1</td>\n",
              "      <td>0.92</td>\n",
              "    </tr>\n",
              "    <tr>\n",
              "      <th>1</th>\n",
              "      <td>264.0</td>\n",
              "      <td>107.0</td>\n",
              "      <td>4</td>\n",
              "      <td>4.0</td>\n",
              "      <td>4.5</td>\n",
              "      <td>8.87</td>\n",
              "      <td>1</td>\n",
              "      <td>0.76</td>\n",
              "    </tr>\n",
              "    <tr>\n",
              "      <th>2</th>\n",
              "      <td>216.0</td>\n",
              "      <td>104.0</td>\n",
              "      <td>3</td>\n",
              "      <td>3.0</td>\n",
              "      <td>3.5</td>\n",
              "      <td>8.00</td>\n",
              "      <td>1</td>\n",
              "      <td>0.72</td>\n",
              "    </tr>\n",
              "    <tr>\n",
              "      <th>3</th>\n",
              "      <td>271.0</td>\n",
              "      <td>110.0</td>\n",
              "      <td>3</td>\n",
              "      <td>3.5</td>\n",
              "      <td>2.5</td>\n",
              "      <td>8.67</td>\n",
              "      <td>1</td>\n",
              "      <td>0.80</td>\n",
              "    </tr>\n",
              "    <tr>\n",
              "      <th>4</th>\n",
              "      <td>203.0</td>\n",
              "      <td>103.0</td>\n",
              "      <td>2</td>\n",
              "      <td>2.0</td>\n",
              "      <td>3.0</td>\n",
              "      <td>8.21</td>\n",
              "      <td>0</td>\n",
              "      <td>0.65</td>\n",
              "    </tr>\n",
              "    <tr>\n",
              "      <th>...</th>\n",
              "      <td>...</td>\n",
              "      <td>...</td>\n",
              "      <td>...</td>\n",
              "      <td>...</td>\n",
              "      <td>...</td>\n",
              "      <td>...</td>\n",
              "      <td>...</td>\n",
              "      <td>...</td>\n",
              "    </tr>\n",
              "    <tr>\n",
              "      <th>1193</th>\n",
              "      <td>264.0</td>\n",
              "      <td>110.0</td>\n",
              "      <td>3</td>\n",
              "      <td>3.5</td>\n",
              "      <td>3.5</td>\n",
              "      <td>9.04</td>\n",
              "      <td>1</td>\n",
              "      <td>0.82</td>\n",
              "    </tr>\n",
              "    <tr>\n",
              "      <th>1194</th>\n",
              "      <td>105.0</td>\n",
              "      <td>107.0</td>\n",
              "      <td>3</td>\n",
              "      <td>3.0</td>\n",
              "      <td>3.5</td>\n",
              "      <td>9.11</td>\n",
              "      <td>1</td>\n",
              "      <td>0.84</td>\n",
              "    </tr>\n",
              "    <tr>\n",
              "      <th>1195</th>\n",
              "      <td>259.0</td>\n",
              "      <td>116.0</td>\n",
              "      <td>4</td>\n",
              "      <td>5.0</td>\n",
              "      <td>4.5</td>\n",
              "      <td>9.45</td>\n",
              "      <td>1</td>\n",
              "      <td>0.91</td>\n",
              "    </tr>\n",
              "    <tr>\n",
              "      <th>1196</th>\n",
              "      <td>202.0</td>\n",
              "      <td>103.0</td>\n",
              "      <td>3</td>\n",
              "      <td>3.5</td>\n",
              "      <td>4.0</td>\n",
              "      <td>8.78</td>\n",
              "      <td>0</td>\n",
              "      <td>0.67</td>\n",
              "    </tr>\n",
              "    <tr>\n",
              "      <th>1197</th>\n",
              "      <td>0.0</td>\n",
              "      <td>117.0</td>\n",
              "      <td>4</td>\n",
              "      <td>5.0</td>\n",
              "      <td>4.0</td>\n",
              "      <td>9.66</td>\n",
              "      <td>1</td>\n",
              "      <td>0.95</td>\n",
              "    </tr>\n",
              "  </tbody>\n",
              "</table>\n",
              "<p>1198 rows × 8 columns</p>\n",
              "</div>\n",
              "      <button class=\"colab-df-convert\" onclick=\"convertToInteractive('df-7c7a63f1-a052-4b48-aa21-4240e7d1dd95')\"\n",
              "              title=\"Convert this dataframe to an interactive table.\"\n",
              "              style=\"display:none;\">\n",
              "        \n",
              "  <svg xmlns=\"http://www.w3.org/2000/svg\" height=\"24px\"viewBox=\"0 0 24 24\"\n",
              "       width=\"24px\">\n",
              "    <path d=\"M0 0h24v24H0V0z\" fill=\"none\"/>\n",
              "    <path d=\"M18.56 5.44l.94 2.06.94-2.06 2.06-.94-2.06-.94-.94-2.06-.94 2.06-2.06.94zm-11 1L8.5 8.5l.94-2.06 2.06-.94-2.06-.94L8.5 2.5l-.94 2.06-2.06.94zm10 10l.94 2.06.94-2.06 2.06-.94-2.06-.94-.94-2.06-.94 2.06-2.06.94z\"/><path d=\"M17.41 7.96l-1.37-1.37c-.4-.4-.92-.59-1.43-.59-.52 0-1.04.2-1.43.59L10.3 9.45l-7.72 7.72c-.78.78-.78 2.05 0 2.83L4 21.41c.39.39.9.59 1.41.59.51 0 1.02-.2 1.41-.59l7.78-7.78 2.81-2.81c.8-.78.8-2.07 0-2.86zM5.41 20L4 18.59l7.72-7.72 1.47 1.35L5.41 20z\"/>\n",
              "  </svg>\n",
              "      </button>\n",
              "      \n",
              "  <style>\n",
              "    .colab-df-container {\n",
              "      display:flex;\n",
              "      flex-wrap:wrap;\n",
              "      gap: 12px;\n",
              "    }\n",
              "\n",
              "    .colab-df-convert {\n",
              "      background-color: #E8F0FE;\n",
              "      border: none;\n",
              "      border-radius: 50%;\n",
              "      cursor: pointer;\n",
              "      display: none;\n",
              "      fill: #1967D2;\n",
              "      height: 32px;\n",
              "      padding: 0 0 0 0;\n",
              "      width: 32px;\n",
              "    }\n",
              "\n",
              "    .colab-df-convert:hover {\n",
              "      background-color: #E2EBFA;\n",
              "      box-shadow: 0px 1px 2px rgba(60, 64, 67, 0.3), 0px 1px 3px 1px rgba(60, 64, 67, 0.15);\n",
              "      fill: #174EA6;\n",
              "    }\n",
              "\n",
              "    [theme=dark] .colab-df-convert {\n",
              "      background-color: #3B4455;\n",
              "      fill: #D2E3FC;\n",
              "    }\n",
              "\n",
              "    [theme=dark] .colab-df-convert:hover {\n",
              "      background-color: #434B5C;\n",
              "      box-shadow: 0px 1px 3px 1px rgba(0, 0, 0, 0.15);\n",
              "      filter: drop-shadow(0px 1px 2px rgba(0, 0, 0, 0.3));\n",
              "      fill: #FFFFFF;\n",
              "    }\n",
              "  </style>\n",
              "\n",
              "      <script>\n",
              "        const buttonEl =\n",
              "          document.querySelector('#df-7c7a63f1-a052-4b48-aa21-4240e7d1dd95 button.colab-df-convert');\n",
              "        buttonEl.style.display =\n",
              "          google.colab.kernel.accessAllowed ? 'block' : 'none';\n",
              "\n",
              "        async function convertToInteractive(key) {\n",
              "          const element = document.querySelector('#df-7c7a63f1-a052-4b48-aa21-4240e7d1dd95');\n",
              "          const dataTable =\n",
              "            await google.colab.kernel.invokeFunction('convertToInteractive',\n",
              "                                                     [key], {});\n",
              "          if (!dataTable) return;\n",
              "\n",
              "          const docLinkHtml = 'Like what you see? Visit the ' +\n",
              "            '<a target=\"_blank\" href=https://colab.research.google.com/notebooks/data_table.ipynb>data table notebook</a>'\n",
              "            + ' to learn more about interactive tables.';\n",
              "          element.innerHTML = '';\n",
              "          dataTable['output_type'] = 'display_data';\n",
              "          await google.colab.output.renderOutput(dataTable, element);\n",
              "          const docLink = document.createElement('div');\n",
              "          docLink.innerHTML = docLinkHtml;\n",
              "          element.appendChild(docLink);\n",
              "        }\n",
              "      </script>\n",
              "    </div>\n",
              "  </div>\n",
              "  "
            ]
          },
          "metadata": {},
          "execution_count": 46
        }
      ]
    },
    {
      "cell_type": "code",
      "source": [
        "df['GRE Score'].quantile(0.25)"
      ],
      "metadata": {
        "colab": {
          "base_uri": "https://localhost:8080/"
        },
        "id": "yfe2UK45Fyoq",
        "outputId": "ac04b90a-3b20-4599-a921-414ba9d1da2f"
      },
      "execution_count": null,
      "outputs": [
        {
          "output_type": "execute_result",
          "data": {
            "text/plain": [
              "195.0"
            ]
          },
          "metadata": {},
          "execution_count": 361
        }
      ]
    },
    {
      "cell_type": "code",
      "source": [
        "df['GRE Score'].quantile(0.75)"
      ],
      "metadata": {
        "colab": {
          "base_uri": "https://localhost:8080/"
        },
        "id": "sjuem2x3F-uc",
        "outputId": "29cb9542-ea76-4daa-c8bb-f1c275c6f715"
      },
      "execution_count": null,
      "outputs": [
        {
          "output_type": "execute_result",
          "data": {
            "text/plain": [
              "271.0"
            ]
          },
          "metadata": {},
          "execution_count": 362
        }
      ]
    },
    {
      "cell_type": "code",
      "source": [
        "Q1=df['GRE Score'].quantile(0.25)\n",
        "Q3=df['GRE Score'].quantile(0.75)\n",
        "IQR=Q3-Q1"
      ],
      "metadata": {
        "id": "bzsxUN6oGF8u"
      },
      "execution_count": null,
      "outputs": []
    },
    {
      "cell_type": "code",
      "source": [
        "IQR"
      ],
      "metadata": {
        "colab": {
          "base_uri": "https://localhost:8080/"
        },
        "id": "4tRpDamDGY3c",
        "outputId": "7321f05f-ba73-4826-9189-4baab407d4dc"
      },
      "execution_count": null,
      "outputs": [
        {
          "output_type": "execute_result",
          "data": {
            "text/plain": [
              "76.0"
            ]
          },
          "metadata": {},
          "execution_count": 364
        }
      ]
    },
    {
      "cell_type": "code",
      "source": [
        "lower_lim=Q1-1.5*IQR\n",
        "upper_lim=Q3+1.5*IQR"
      ],
      "metadata": {
        "id": "jqhFnkdLGePk"
      },
      "execution_count": null,
      "outputs": []
    },
    {
      "cell_type": "code",
      "source": [
        "lower_lim"
      ],
      "metadata": {
        "colab": {
          "base_uri": "https://localhost:8080/"
        },
        "id": "D24gt-o1G8Ot",
        "outputId": "c3eff777-8327-4340-ac70-7760af2c334d"
      },
      "execution_count": null,
      "outputs": [
        {
          "output_type": "execute_result",
          "data": {
            "text/plain": [
              "81.0"
            ]
          },
          "metadata": {},
          "execution_count": 367
        }
      ]
    },
    {
      "cell_type": "code",
      "source": [
        "upper_lim"
      ],
      "metadata": {
        "colab": {
          "base_uri": "https://localhost:8080/"
        },
        "id": "wfrQ9AK5G3-j",
        "outputId": "8d6d14d8-2b7c-4268-96bc-59dcb6ae3867"
      },
      "execution_count": null,
      "outputs": [
        {
          "output_type": "execute_result",
          "data": {
            "text/plain": [
              "385.0"
            ]
          },
          "metadata": {},
          "execution_count": 366
        }
      ]
    },
    {
      "cell_type": "code",
      "source": [
        "low=(df['GRE Score']<lower_lim)\n",
        "up=(df['GRE Score']>upper_lim)"
      ],
      "metadata": {
        "id": "VikVzmxyHK8G"
      },
      "execution_count": null,
      "outputs": []
    },
    {
      "cell_type": "code",
      "source": [
        "df=df['GRE Score'][~(low | up)]"
      ],
      "metadata": {
        "id": "nilWF8r_EaMk"
      },
      "execution_count": null,
      "outputs": []
    },
    {
      "cell_type": "code",
      "source": [
        "df"
      ],
      "metadata": {
        "colab": {
          "base_uri": "https://localhost:8080/"
        },
        "id": "qVejycbsIzCk",
        "outputId": "f8db3a4a-e77f-4c90-ea53-0baf8225742e"
      },
      "execution_count": null,
      "outputs": [
        {
          "output_type": "execute_result",
          "data": {
            "text/plain": [
              "0       337.0\n",
              "1       264.0\n",
              "2       216.0\n",
              "3       271.0\n",
              "4       203.0\n",
              "        ...  \n",
              "1192    329.0\n",
              "1193    264.0\n",
              "1194    105.0\n",
              "1195    259.0\n",
              "1196    202.0\n",
              "Name: GRE Score, Length: 1189, dtype: float64"
            ]
          },
          "metadata": {},
          "execution_count": 134
        }
      ]
    },
    {
      "cell_type": "code",
      "source": [
        "df['CGPA'].describe()\n",
        "df['CGPA'].quantile(0.25)\n",
        "df['CGPA'].quantile(0.75)\n",
        "Q1=df['CGPA'].quantile(0.25)\n",
        "Q3=df['CGPA'].quantile(0.75)\n",
        "IQR=Q3-Q1\n",
        "print(Q1)\n",
        "print(Q3)\n",
        "print(IQR)\n",
        "lower_lim=Q1-1.5*IQR\n",
        "upper_lim=Q3+1.5*IQR\n",
        "print(lower_lim)\n",
        "print(upper_lim)\n",
        "low=(df['CGPA']<lower_lim)\n",
        "up=(df['CGPA']>upper_lim)\n",
        "df=df['CGPA'][~(low | up)]\n",
        "df"
      ],
      "metadata": {
        "colab": {
          "base_uri": "https://localhost:8080/"
        },
        "id": "P7Gc2KAHKgqu",
        "outputId": "da174b9f-39ef-4209-f0f4-3251d580dec3"
      },
      "execution_count": null,
      "outputs": [
        {
          "output_type": "stream",
          "name": "stdout",
          "text": [
            "8.17\n",
            "9.06\n",
            "0.8900000000000006\n",
            "6.834999999999999\n",
            "10.395000000000001\n"
          ]
        },
        {
          "output_type": "execute_result",
          "data": {
            "text/plain": [
              "0       9.65\n",
              "1       8.87\n",
              "2       8.00\n",
              "3       8.67\n",
              "4       8.21\n",
              "        ... \n",
              "1193    9.04\n",
              "1194    9.11\n",
              "1195    9.45\n",
              "1196    8.78\n",
              "1197    9.66\n",
              "Name: CGPA, Length: 1195, dtype: float64"
            ]
          },
          "metadata": {},
          "execution_count": 368
        }
      ]
    },
    {
      "cell_type": "markdown",
      "source": [
        "## **CORRELATION ANALYSIS............**"
      ],
      "metadata": {
        "id": "EFbBg8_fMs2r"
      }
    },
    {
      "cell_type": "code",
      "source": [
        "fig5=plt.gcf()\n",
        "fig5.set_size_inches(10,10)\n",
        "fig5=sns.heatmap(df.corr(),annot=True,cmap='inferno',linewidths=1,linecolor='k',square=True,mask=False,vmin=1,vmax=1)"
      ],
      "metadata": {
        "colab": {
          "base_uri": "https://localhost:8080/",
          "height": 623
        },
        "id": "WnTZIEFp8fgT",
        "outputId": "38b12f53-b8e6-4857-9d21-b2490473e571"
      },
      "execution_count": 96,
      "outputs": [
        {
          "output_type": "display_data",
          "data": {
            "text/plain": [
              "<Figure size 720x720 with 2 Axes>"
            ],
            "image/png": "[encoded data removed]"
          },
          "metadata": {
            "needs_background": "light"
          }
        }
      ]
    },
    {
      "cell_type": "markdown",
      "source": [
        "Heat map gives a good pictorial representation of the correlation of features to our target value chance of admit to university.we can see that CGPA,GRE,TOEFL,University Ranking has the highest correlation with the chance of admissions to the University.The other parameters like SOP,LOR and Research has less impact on the chance of admission."
      ],
      "metadata": {
        "id": "pZ3WM7Yj8jl1"
      }
    },
    {
      "cell_type": "markdown",
      "source": [
        "### **REMOVING UNWANTED COLUMNS FROM THE DATASET**"
      ],
      "metadata": {
        "id": "dYbPOHJlIneI"
      }
    },
    {
      "cell_type": "code",
      "source": [
        "df=df.drop(df.columns[[3,4,6]],axis=1)"
      ],
      "metadata": {
        "id": "xhNX4GZiG2A2"
      },
      "execution_count": 73,
      "outputs": []
    },
    {
      "cell_type": "markdown",
      "source": [
        "\n",
        "\n",
        "#              **EXPLORATORY  DATA ANALYSIS**\n",
        "\n",
        "\n",
        "\n"
      ],
      "metadata": {
        "id": "aIlbhdX0uIF9"
      }
    },
    {
      "cell_type": "markdown",
      "source": [
        "### **DATA VISUALIZATION**"
      ],
      "metadata": {
        "id": "KYer8VMqHPFi"
      }
    },
    {
      "cell_type": "code",
      "source": [
        "df[['GRE Score','TOEFL Score','University Rating','CGPA']].hist(figsize=(10,8),bins=10,color='cyan',linewidth='1',edgecolor='k')\n",
        "plt.tight_layout()\n",
        "plt.show()"
      ],
      "metadata": {
        "colab": {
          "base_uri": "https://localhost:8080/",
          "height": 585
        },
        "id": "sylM99lRNj00",
        "outputId": "dfa03a00-a5b5-4f68-a4cb-b244a2b73e2b"
      },
      "execution_count": 72,
      "outputs": [
        {
          "output_type": "display_data",
          "data": {
            "text/plain": [
              "<Figure size 720x576 with 4 Axes>"
            ],
            "image/png": "[encoded data removed]"
          },
          "metadata": {
            "needs_background": "light"
          }
        }
      ]
    },
    {
      "cell_type": "markdown",
      "source": [
        "We could observe that Most of the students are having the GRE scores in the range of 250-280, the TOEFL scores in the range of  >105 and <113,Most of the students are are from the Universities /colleges  which are rated around 3.5 rating . Most of the students are having the CGPA around 8.5\n"
      ],
      "metadata": {
        "id": "RuXt6076nrXK"
      }
    },
    {
      "cell_type": "code",
      "source": [
        "df_sort=df.sort_values(by=df.columns[-1],ascending=False)\n",
        "df_sort.head()"
      ],
      "metadata": {
        "colab": {
          "base_uri": "https://localhost:8080/",
          "height": 206
        },
        "id": "jAVG4CFkASQz",
        "outputId": "3fe6188a-7d2c-43bc-a223-a5ab2eea8b8b"
      },
      "execution_count": null,
      "outputs": [
        {
          "output_type": "execute_result",
          "data": {
            "text/plain": [
              "     GRE Score  TOEFL Score  University Rating  SOP  LOR   CGPA  Research  \\\n",
              "24       234.0        119.0                  5  4.0   3.5  9.80         1   \n",
              "941      140.0        120.0                  4  4.5   4.0  9.92         1   \n",
              "822      180.0        119.0                  5  4.0   3.5  9.80         1   \n",
              "423      275.0        119.0                  5  4.0   3.5  9.80         1   \n",
              "143      140.0        120.0                  4  4.5   4.0  9.92         1   \n",
              "\n",
              "     Chance of Admit   \n",
              "24               0.97  \n",
              "941              0.97  \n",
              "822              0.97  \n",
              "423              0.97  \n",
              "143              0.97  "
            ],
            "text/html": [
              "\n",
              "  <div id=\"df-09129c00-e9e6-4029-aa41-55199ba44a9a\">\n",
              "    <div class=\"colab-df-container\">\n",
              "      <div>\n",
              "<style scoped>\n",
              "    .dataframe tbody tr th:only-of-type {\n",
              "        vertical-align: middle;\n",
              "    }\n",
              "\n",
              "    .dataframe tbody tr th {\n",
              "        vertical-align: top;\n",
              "    }\n",
              "\n",
              "    .dataframe thead th {\n",
              "        text-align: right;\n",
              "    }\n",
              "</style>\n",
              "<table border=\"1\" class=\"dataframe\">\n",
              "  <thead>\n",
              "    <tr style=\"text-align: right;\">\n",
              "      <th></th>\n",
              "      <th>GRE Score</th>\n",
              "      <th>TOEFL Score</th>\n",
              "      <th>University Rating</th>\n",
              "      <th>SOP</th>\n",
              "      <th>LOR</th>\n",
              "      <th>CGPA</th>\n",
              "      <th>Research</th>\n",
              "      <th>Chance of Admit</th>\n",
              "    </tr>\n",
              "  </thead>\n",
              "  <tbody>\n",
              "    <tr>\n",
              "      <th>24</th>\n",
              "      <td>234.0</td>\n",
              "      <td>119.0</td>\n",
              "      <td>5</td>\n",
              "      <td>4.0</td>\n",
              "      <td>3.5</td>\n",
              "      <td>9.80</td>\n",
              "      <td>1</td>\n",
              "      <td>0.97</td>\n",
              "    </tr>\n",
              "    <tr>\n",
              "      <th>941</th>\n",
              "      <td>140.0</td>\n",
              "      <td>120.0</td>\n",
              "      <td>4</td>\n",
              "      <td>4.5</td>\n",
              "      <td>4.0</td>\n",
              "      <td>9.92</td>\n",
              "      <td>1</td>\n",
              "      <td>0.97</td>\n",
              "    </tr>\n",
              "    <tr>\n",
              "      <th>822</th>\n",
              "      <td>180.0</td>\n",
              "      <td>119.0</td>\n",
              "      <td>5</td>\n",
              "      <td>4.0</td>\n",
              "      <td>3.5</td>\n",
              "      <td>9.80</td>\n",
              "      <td>1</td>\n",
              "      <td>0.97</td>\n",
              "    </tr>\n",
              "    <tr>\n",
              "      <th>423</th>\n",
              "      <td>275.0</td>\n",
              "      <td>119.0</td>\n",
              "      <td>5</td>\n",
              "      <td>4.0</td>\n",
              "      <td>3.5</td>\n",
              "      <td>9.80</td>\n",
              "      <td>1</td>\n",
              "      <td>0.97</td>\n",
              "    </tr>\n",
              "    <tr>\n",
              "      <th>143</th>\n",
              "      <td>140.0</td>\n",
              "      <td>120.0</td>\n",
              "      <td>4</td>\n",
              "      <td>4.5</td>\n",
              "      <td>4.0</td>\n",
              "      <td>9.92</td>\n",
              "      <td>1</td>\n",
              "      <td>0.97</td>\n",
              "    </tr>\n",
              "  </tbody>\n",
              "</table>\n",
              "</div>\n",
              "      <button class=\"colab-df-convert\" onclick=\"convertToInteractive('df-09129c00-e9e6-4029-aa41-55199ba44a9a')\"\n",
              "              title=\"Convert this dataframe to an interactive table.\"\n",
              "              style=\"display:none;\">\n",
              "        \n",
              "  <svg xmlns=\"http://www.w3.org/2000/svg\" height=\"24px\"viewBox=\"0 0 24 24\"\n",
              "       width=\"24px\">\n",
              "    <path d=\"M0 0h24v24H0V0z\" fill=\"none\"/>\n",
              "    <path d=\"M18.56 5.44l.94 2.06.94-2.06 2.06-.94-2.06-.94-.94-2.06-.94 2.06-2.06.94zm-11 1L8.5 8.5l.94-2.06 2.06-.94-2.06-.94L8.5 2.5l-.94 2.06-2.06.94zm10 10l.94 2.06.94-2.06 2.06-.94-2.06-.94-.94-2.06-.94 2.06-2.06.94z\"/><path d=\"M17.41 7.96l-1.37-1.37c-.4-.4-.92-.59-1.43-.59-.52 0-1.04.2-1.43.59L10.3 9.45l-7.72 7.72c-.78.78-.78 2.05 0 2.83L4 21.41c.39.39.9.59 1.41.59.51 0 1.02-.2 1.41-.59l7.78-7.78 2.81-2.81c.8-.78.8-2.07 0-2.86zM5.41 20L4 18.59l7.72-7.72 1.47 1.35L5.41 20z\"/>\n",
              "  </svg>\n",
              "      </button>\n",
              "      \n",
              "  <style>\n",
              "    .colab-df-container {\n",
              "      display:flex;\n",
              "      flex-wrap:wrap;\n",
              "      gap: 12px;\n",
              "    }\n",
              "\n",
              "    .colab-df-convert {\n",
              "      background-color: #E8F0FE;\n",
              "      border: none;\n",
              "      border-radius: 50%;\n",
              "      cursor: pointer;\n",
              "      display: none;\n",
              "      fill: #1967D2;\n",
              "      height: 32px;\n",
              "      padding: 0 0 0 0;\n",
              "      width: 32px;\n",
              "    }\n",
              "\n",
              "    .colab-df-convert:hover {\n",
              "      background-color: #E2EBFA;\n",
              "      box-shadow: 0px 1px 2px rgba(60, 64, 67, 0.3), 0px 1px 3px 1px rgba(60, 64, 67, 0.15);\n",
              "      fill: #174EA6;\n",
              "    }\n",
              "\n",
              "    [theme=dark] .colab-df-convert {\n",
              "      background-color: #3B4455;\n",
              "      fill: #D2E3FC;\n",
              "    }\n",
              "\n",
              "    [theme=dark] .colab-df-convert:hover {\n",
              "      background-color: #434B5C;\n",
              "      box-shadow: 0px 1px 3px 1px rgba(0, 0, 0, 0.15);\n",
              "      filter: drop-shadow(0px 1px 2px rgba(0, 0, 0, 0.3));\n",
              "      fill: #FFFFFF;\n",
              "    }\n",
              "  </style>\n",
              "\n",
              "      <script>\n",
              "        const buttonEl =\n",
              "          document.querySelector('#df-09129c00-e9e6-4029-aa41-55199ba44a9a button.colab-df-convert');\n",
              "        buttonEl.style.display =\n",
              "          google.colab.kernel.accessAllowed ? 'block' : 'none';\n",
              "\n",
              "        async function convertToInteractive(key) {\n",
              "          const element = document.querySelector('#df-09129c00-e9e6-4029-aa41-55199ba44a9a');\n",
              "          const dataTable =\n",
              "            await google.colab.kernel.invokeFunction('convertToInteractive',\n",
              "                                                     [key], {});\n",
              "          if (!dataTable) return;\n",
              "\n",
              "          const docLinkHtml = 'Like what you see? Visit the ' +\n",
              "            '<a target=\"_blank\" href=https://colab.research.google.com/notebooks/data_table.ipynb>data table notebook</a>'\n",
              "            + ' to learn more about interactive tables.';\n",
              "          element.innerHTML = '';\n",
              "          dataTable['output_type'] = 'display_data';\n",
              "          await google.colab.output.renderOutput(dataTable, element);\n",
              "          const docLink = document.createElement('div');\n",
              "          docLink.innerHTML = docLinkHtml;\n",
              "          element.appendChild(docLink);\n",
              "        }\n",
              "      </script>\n",
              "    </div>\n",
              "  </div>\n",
              "  "
            ]
          },
          "metadata": {},
          "execution_count": 118
        }
      ]
    },
    {
      "cell_type": "markdown",
      "source": [
        "PAIR PLOT-VISUALIZATION"
      ],
      "metadata": {
        "id": "n1xEsWyPHXTH"
      }
    },
    {
      "cell_type": "code",
      "source": [
        "sns.pairplot(data=df)"
      ],
      "metadata": {
        "colab": {
          "base_uri": "https://localhost:8080/",
          "height": 920
        },
        "id": "rRmG5cw1-U5F",
        "outputId": "60846e2d-8229-479b-a077-648f101b3db7"
      },
      "execution_count": 74,
      "outputs": [
        {
          "output_type": "execute_result",
          "data": {
            "text/plain": [
              "<seaborn.axisgrid.PairGrid at 0x7f3f6cd75e50>"
            ]
          },
          "metadata": {},
          "execution_count": 74
        },
        {
          "output_type": "display_data",
          "data": {
            "text/plain": [
              "<Figure size 900x900 with 30 Axes>"
            ],
            "image/png": "[encoded data removed]"
          },
          "metadata": {
            "needs_background": "light"
          }
        }
      ]
    },
    {
      "cell_type": "markdown",
      "source": [
        "### **LINE-PLOT-VISUALIZATION**"
      ],
      "metadata": {
        "id": "RD7g76WzHjiu"
      }
    },
    {
      "cell_type": "code",
      "source": [
        "sns.lineplot(x=\"GRE Score\",y=\"TOEFL Score\",data=df,color='purple')"
      ],
      "metadata": {
        "colab": {
          "base_uri": "https://localhost:8080/",
          "height": 297
        },
        "id": "nSW3JW_kBVTn",
        "outputId": "1f13cefa-15cf-4dba-acc0-6477af6c4114"
      },
      "execution_count": 69,
      "outputs": [
        {
          "output_type": "execute_result",
          "data": {
            "text/plain": [
              "<matplotlib.axes._subplots.AxesSubplot at 0x7f3f7002fdd0>"
            ]
          },
          "metadata": {},
          "execution_count": 69
        },
        {
          "output_type": "display_data",
          "data": {
            "text/plain": [
              "<Figure size 432x288 with 1 Axes>"
            ],
            "image/png": "[encoded data removed]"
          },
          "metadata": {
            "needs_background": "light"
          }
        }
      ]
    },
    {
      "cell_type": "code",
      "source": [
        "print(sns.lineplot(x=\"University Rating\",y=\"GRE Score\",data=df,color='red'))\n"
      ],
      "metadata": {
        "colab": {
          "base_uri": "https://localhost:8080/",
          "height": 296
        },
        "id": "-SuqyPWZCS4A",
        "outputId": "b04edf99-9deb-44f2-f0de-975e9dfeede9"
      },
      "execution_count": null,
      "outputs": [
        {
          "output_type": "stream",
          "name": "stdout",
          "text": [
            "AxesSubplot(0.125,0.125;0.775x0.755)\n"
          ]
        },
        {
          "output_type": "display_data",
          "data": {
            "text/plain": [
              "<Figure size 432x288 with 1 Axes>"
            ],
            "image/png": "[encoded data removed]"
          },
          "metadata": {
            "needs_background": "light"
          }
        }
      ]
    },
    {
      "cell_type": "code",
      "source": [
        "print(sns.lineplot(x=\"CGPA\",y=\"GRE Score\",data=df,color='orange'))"
      ],
      "metadata": {
        "colab": {
          "base_uri": "https://localhost:8080/",
          "height": 297
        },
        "id": "SzUB78sSDgd2",
        "outputId": "b3ddce1f-9aed-49e3-d8d8-640d4f98277b"
      },
      "execution_count": null,
      "outputs": [
        {
          "output_type": "stream",
          "name": "stdout",
          "text": [
            "AxesSubplot(0.125,0.125;0.775x0.755)\n"
          ]
        },
        {
          "output_type": "display_data",
          "data": {
            "text/plain": [
              "<Figure size 432x288 with 1 Axes>"
            ],
            "image/png": "[encoded data removed]"
          },
          "metadata": {
            "needs_background": "light"
          }
        }
      ]
    },
    {
      "cell_type": "code",
      "source": [
        "sns.lineplot(x=\"University Rating\",y=\"TOEFL Score\",data=df,color='blue')"
      ],
      "metadata": {
        "colab": {
          "base_uri": "https://localhost:8080/",
          "height": 296
        },
        "id": "z-0TPualCpn_",
        "outputId": "f73afe7d-e300-4f3f-98a1-d600d341b82c"
      },
      "execution_count": null,
      "outputs": [
        {
          "output_type": "execute_result",
          "data": {
            "text/plain": [
              "<matplotlib.axes._subplots.AxesSubplot at 0x7fc6a9006d50>"
            ]
          },
          "metadata": {},
          "execution_count": 42
        },
        {
          "output_type": "display_data",
          "data": {
            "text/plain": [
              "<Figure size 432x288 with 1 Axes>"
            ],
            "image/png": "[encoded data removed]"
          },
          "metadata": {
            "needs_background": "light"
          }
        }
      ]
    },
    {
      "cell_type": "code",
      "source": [
        "sns.lineplot(x=\"CGPA\",y=\"TOEFL Score\",data=df,color='cyan')"
      ],
      "metadata": {
        "colab": {
          "base_uri": "https://localhost:8080/",
          "height": 296
        },
        "id": "GSnzLN3_FVfd",
        "outputId": "45822cdd-3bb6-4d81-d03a-c2a3449120af"
      },
      "execution_count": null,
      "outputs": [
        {
          "output_type": "execute_result",
          "data": {
            "text/plain": [
              "<matplotlib.axes._subplots.AxesSubplot at 0x7fc6a8f6b6d0>"
            ]
          },
          "metadata": {},
          "execution_count": 43
        },
        {
          "output_type": "display_data",
          "data": {
            "text/plain": [
              "<Figure size 432x288 with 1 Axes>"
            ],
            "image/png": "[encoded data removed]"
          },
          "metadata": {
            "needs_background": "light"
          }
        }
      ]
    },
    {
      "cell_type": "markdown",
      "source": [
        "### **SCATTER PLOT-VISUALIZATION**"
      ],
      "metadata": {
        "id": "WM95y-f8Hu3r"
      }
    },
    {
      "cell_type": "code",
      "source": [
        "sns.scatterplot(x=\"CGPA\",y=\"GRE Score\",data=df,color='red')"
      ],
      "metadata": {
        "colab": {
          "base_uri": "https://localhost:8080/",
          "height": 297
        },
        "id": "04MteXddFqxn",
        "outputId": "33ae881e-f64f-44fe-abb9-779c57ba542a"
      },
      "execution_count": null,
      "outputs": [
        {
          "output_type": "execute_result",
          "data": {
            "text/plain": [
              "<matplotlib.axes._subplots.AxesSubplot at 0x7fc6a8f9a890>"
            ]
          },
          "metadata": {},
          "execution_count": 44
        },
        {
          "output_type": "display_data",
          "data": {
            "text/plain": [
              "<Figure size 432x288 with 1 Axes>"
            ],
            "image/png": "[encoded data removed]"
          },
          "metadata": {
            "needs_background": "light"
          }
        }
      ]
    },
    {
      "cell_type": "code",
      "source": [
        "sns.scatterplot(x=\"CGPA\",y=\"TOEFL Score\",data=df,color='B')"
      ],
      "metadata": {
        "colab": {
          "base_uri": "https://localhost:8080/",
          "height": 296
        },
        "id": "SDRUsGsPGXJw",
        "outputId": "f2962412-26c4-4270-a358-c7073b65ee5e"
      },
      "execution_count": null,
      "outputs": [
        {
          "output_type": "execute_result",
          "data": {
            "text/plain": [
              "<matplotlib.axes._subplots.AxesSubplot at 0x7fc6a8ecf250>"
            ]
          },
          "metadata": {},
          "execution_count": 45
        },
        {
          "output_type": "display_data",
          "data": {
            "text/plain": [
              "<Figure size 432x288 with 1 Axes>"
            ],
            "image/png": "[encoded data removed]"
          },
          "metadata": {
            "needs_background": "light"
          }
        }
      ]
    },
    {
      "cell_type": "markdown",
      "source": [
        "### **BAR PLOT VISUALIZATION**"
      ],
      "metadata": {
        "id": "SX2SfARj0ZtI"
      }
    },
    {
      "cell_type": "code",
      "source": [
        "print(sns.barplot(x=\"University Rating\",y=\"GRE Score\",data=df,color='red'))"
      ],
      "metadata": {
        "colab": {
          "base_uri": "https://localhost:8080/",
          "height": 296
        },
        "id": "bXl1pDxZ0kaK",
        "outputId": "48895a54-2465-4ef7-cb4c-7beb7a4b15e3"
      },
      "execution_count": 77,
      "outputs": [
        {
          "output_type": "stream",
          "name": "stdout",
          "text": [
            "AxesSubplot(0.125,0.125;0.775x0.755)\n"
          ]
        },
        {
          "output_type": "display_data",
          "data": {
            "text/plain": [
              "<Figure size 432x288 with 1 Axes>"
            ],
            "image/png": "[encoded data removed]"
          },
          "metadata": {
            "needs_background": "light"
          }
        }
      ]
    },
    {
      "cell_type": "code",
      "source": [
        "print(sns.barplot(x=\"CGPA\",y=\"GRE Score\",data=df,color='orange'))"
      ],
      "metadata": {
        "colab": {
          "base_uri": "https://localhost:8080/",
          "height": 297
        },
        "id": "cj6tB_Zf1KMt",
        "outputId": "5912da92-45f5-456a-db12-512b37dbd122"
      },
      "execution_count": 79,
      "outputs": [
        {
          "output_type": "stream",
          "name": "stdout",
          "text": [
            "AxesSubplot(0.125,0.125;0.775x0.755)\n"
          ]
        },
        {
          "output_type": "display_data",
          "data": {
            "text/plain": [
              "<Figure size 432x288 with 1 Axes>"
            ],
            "image/png": "[encoded data removed]"
          },
          "metadata": {
            "needs_background": "light"
          }
        }
      ]
    },
    {
      "cell_type": "code",
      "source": [
        "sns.barplot(x=\"CGPA\",y=\"TOEFL Score\",data=df,color='cyan')"
      ],
      "metadata": {
        "colab": {
          "base_uri": "https://localhost:8080/",
          "height": 296
        },
        "id": "NVxGIdiC1ZzX",
        "outputId": "39e69a13-812b-44eb-f0ea-f77980976f2b"
      },
      "execution_count": 80,
      "outputs": [
        {
          "output_type": "execute_result",
          "data": {
            "text/plain": [
              "<matplotlib.axes._subplots.AxesSubplot at 0x7f3f6cdb19d0>"
            ]
          },
          "metadata": {},
          "execution_count": 80
        },
        {
          "output_type": "display_data",
          "data": {
            "text/plain": [
              "<Figure size 432x288 with 1 Axes>"
            ],
            "image/png": "[encoded data removed]"
          },
          "metadata": {
            "needs_background": "light"
          }
        }
      ]
    },
    {
      "cell_type": "code",
      "source": [
        "df.describe()"
      ],
      "metadata": {
        "colab": {
          "base_uri": "https://localhost:8080/",
          "height": 300
        },
        "id": "Dp1QKfwVUKjf",
        "outputId": "255f2cb2-695b-4582-b0be-40c3956036eb"
      },
      "execution_count": null,
      "outputs": [
        {
          "output_type": "execute_result",
          "data": {
            "text/plain": [
              "         GRE Score  TOEFL Score  University Rating         CGPA  \\\n",
              "count  1178.000000  1185.000000        1198.000000  1198.000000   \n",
              "mean    224.246180   107.403376           3.085977     8.597170   \n",
              "std      71.747235     6.058219           1.143119     0.594765   \n",
              "min       0.000000    92.000000           1.000000     6.800000   \n",
              "25%     195.000000   103.000000           2.000000     8.170000   \n",
              "50%     236.500000   107.000000           3.000000     8.600000   \n",
              "75%     271.000000   112.000000           4.000000     9.060000   \n",
              "max     339.000000   120.000000           5.000000     9.920000   \n",
              "\n",
              "       Chance of Admit   \n",
              "count       1198.000000  \n",
              "mean           0.724023  \n",
              "std            0.142385  \n",
              "min            0.340000  \n",
              "25%            0.640000  \n",
              "50%            0.730000  \n",
              "75%            0.830000  \n",
              "max            0.970000  "
            ],
            "text/html": [
              "\n",
              "  <div id=\"df-d914fad8-2d0d-41b6-bdb6-a192c0a84537\">\n",
              "    <div class=\"colab-df-container\">\n",
              "      <div>\n",
              "<style scoped>\n",
              "    .dataframe tbody tr th:only-of-type {\n",
              "        vertical-align: middle;\n",
              "    }\n",
              "\n",
              "    .dataframe tbody tr th {\n",
              "        vertical-align: top;\n",
              "    }\n",
              "\n",
              "    .dataframe thead th {\n",
              "        text-align: right;\n",
              "    }\n",
              "</style>\n",
              "<table border=\"1\" class=\"dataframe\">\n",
              "  <thead>\n",
              "    <tr style=\"text-align: right;\">\n",
              "      <th></th>\n",
              "      <th>GRE Score</th>\n",
              "      <th>TOEFL Score</th>\n",
              "      <th>University Rating</th>\n",
              "      <th>CGPA</th>\n",
              "      <th>Chance of Admit</th>\n",
              "    </tr>\n",
              "  </thead>\n",
              "  <tbody>\n",
              "    <tr>\n",
              "      <th>count</th>\n",
              "      <td>1178.000000</td>\n",
              "      <td>1185.000000</td>\n",
              "      <td>1198.000000</td>\n",
              "      <td>1198.000000</td>\n",
              "      <td>1198.000000</td>\n",
              "    </tr>\n",
              "    <tr>\n",
              "      <th>mean</th>\n",
              "      <td>224.246180</td>\n",
              "      <td>107.403376</td>\n",
              "      <td>3.085977</td>\n",
              "      <td>8.597170</td>\n",
              "      <td>0.724023</td>\n",
              "    </tr>\n",
              "    <tr>\n",
              "      <th>std</th>\n",
              "      <td>71.747235</td>\n",
              "      <td>6.058219</td>\n",
              "      <td>1.143119</td>\n",
              "      <td>0.594765</td>\n",
              "      <td>0.142385</td>\n",
              "    </tr>\n",
              "    <tr>\n",
              "      <th>min</th>\n",
              "      <td>0.000000</td>\n",
              "      <td>92.000000</td>\n",
              "      <td>1.000000</td>\n",
              "      <td>6.800000</td>\n",
              "      <td>0.340000</td>\n",
              "    </tr>\n",
              "    <tr>\n",
              "      <th>25%</th>\n",
              "      <td>195.000000</td>\n",
              "      <td>103.000000</td>\n",
              "      <td>2.000000</td>\n",
              "      <td>8.170000</td>\n",
              "      <td>0.640000</td>\n",
              "    </tr>\n",
              "    <tr>\n",
              "      <th>50%</th>\n",
              "      <td>236.500000</td>\n",
              "      <td>107.000000</td>\n",
              "      <td>3.000000</td>\n",
              "      <td>8.600000</td>\n",
              "      <td>0.730000</td>\n",
              "    </tr>\n",
              "    <tr>\n",
              "      <th>75%</th>\n",
              "      <td>271.000000</td>\n",
              "      <td>112.000000</td>\n",
              "      <td>4.000000</td>\n",
              "      <td>9.060000</td>\n",
              "      <td>0.830000</td>\n",
              "    </tr>\n",
              "    <tr>\n",
              "      <th>max</th>\n",
              "      <td>339.000000</td>\n",
              "      <td>120.000000</td>\n",
              "      <td>5.000000</td>\n",
              "      <td>9.920000</td>\n",
              "      <td>0.970000</td>\n",
              "    </tr>\n",
              "  </tbody>\n",
              "</table>\n",
              "</div>\n",
              "      <button class=\"colab-df-convert\" onclick=\"convertToInteractive('df-d914fad8-2d0d-41b6-bdb6-a192c0a84537')\"\n",
              "              title=\"Convert this dataframe to an interactive table.\"\n",
              "              style=\"display:none;\">\n",
              "        \n",
              "  <svg xmlns=\"http://www.w3.org/2000/svg\" height=\"24px\"viewBox=\"0 0 24 24\"\n",
              "       width=\"24px\">\n",
              "    <path d=\"M0 0h24v24H0V0z\" fill=\"none\"/>\n",
              "    <path d=\"M18.56 5.44l.94 2.06.94-2.06 2.06-.94-2.06-.94-.94-2.06-.94 2.06-2.06.94zm-11 1L8.5 8.5l.94-2.06 2.06-.94-2.06-.94L8.5 2.5l-.94 2.06-2.06.94zm10 10l.94 2.06.94-2.06 2.06-.94-2.06-.94-.94-2.06-.94 2.06-2.06.94z\"/><path d=\"M17.41 7.96l-1.37-1.37c-.4-.4-.92-.59-1.43-.59-.52 0-1.04.2-1.43.59L10.3 9.45l-7.72 7.72c-.78.78-.78 2.05 0 2.83L4 21.41c.39.39.9.59 1.41.59.51 0 1.02-.2 1.41-.59l7.78-7.78 2.81-2.81c.8-.78.8-2.07 0-2.86zM5.41 20L4 18.59l7.72-7.72 1.47 1.35L5.41 20z\"/>\n",
              "  </svg>\n",
              "      </button>\n",
              "      \n",
              "  <style>\n",
              "    .colab-df-container {\n",
              "      display:flex;\n",
              "      flex-wrap:wrap;\n",
              "      gap: 12px;\n",
              "    }\n",
              "\n",
              "    .colab-df-convert {\n",
              "      background-color: #E8F0FE;\n",
              "      border: none;\n",
              "      border-radius: 50%;\n",
              "      cursor: pointer;\n",
              "      display: none;\n",
              "      fill: #1967D2;\n",
              "      height: 32px;\n",
              "      padding: 0 0 0 0;\n",
              "      width: 32px;\n",
              "    }\n",
              "\n",
              "    .colab-df-convert:hover {\n",
              "      background-color: #E2EBFA;\n",
              "      box-shadow: 0px 1px 2px rgba(60, 64, 67, 0.3), 0px 1px 3px 1px rgba(60, 64, 67, 0.15);\n",
              "      fill: #174EA6;\n",
              "    }\n",
              "\n",
              "    [theme=dark] .colab-df-convert {\n",
              "      background-color: #3B4455;\n",
              "      fill: #D2E3FC;\n",
              "    }\n",
              "\n",
              "    [theme=dark] .colab-df-convert:hover {\n",
              "      background-color: #434B5C;\n",
              "      box-shadow: 0px 1px 3px 1px rgba(0, 0, 0, 0.15);\n",
              "      filter: drop-shadow(0px 1px 2px rgba(0, 0, 0, 0.3));\n",
              "      fill: #FFFFFF;\n",
              "    }\n",
              "  </style>\n",
              "\n",
              "      <script>\n",
              "        const buttonEl =\n",
              "          document.querySelector('#df-d914fad8-2d0d-41b6-bdb6-a192c0a84537 button.colab-df-convert');\n",
              "        buttonEl.style.display =\n",
              "          google.colab.kernel.accessAllowed ? 'block' : 'none';\n",
              "\n",
              "        async function convertToInteractive(key) {\n",
              "          const element = document.querySelector('#df-d914fad8-2d0d-41b6-bdb6-a192c0a84537');\n",
              "          const dataTable =\n",
              "            await google.colab.kernel.invokeFunction('convertToInteractive',\n",
              "                                                     [key], {});\n",
              "          if (!dataTable) return;\n",
              "\n",
              "          const docLinkHtml = 'Like what you see? Visit the ' +\n",
              "            '<a target=\"_blank\" href=https://colab.research.google.com/notebooks/data_table.ipynb>data table notebook</a>'\n",
              "            + ' to learn more about interactive tables.';\n",
              "          element.innerHTML = '';\n",
              "          dataTable['output_type'] = 'display_data';\n",
              "          await google.colab.output.renderOutput(dataTable, element);\n",
              "          const docLink = document.createElement('div');\n",
              "          docLink.innerHTML = docLinkHtml;\n",
              "          element.appendChild(docLink);\n",
              "        }\n",
              "      </script>\n",
              "    </div>\n",
              "  </div>\n",
              "  "
            ]
          },
          "metadata": {},
          "execution_count": 150
        }
      ]
    },
    {
      "cell_type": "code",
      "source": [
        "x=df.iloc[0:1185,0:-1]\n",
        "y=df.iloc[0:1185,4:5]"
      ],
      "metadata": {
        "id": "RuULLzthYw94"
      },
      "execution_count": null,
      "outputs": []
    },
    {
      "cell_type": "code",
      "source": [
        "x.tail()\n"
      ],
      "metadata": {
        "colab": {
          "base_uri": "https://localhost:8080/",
          "height": 206
        },
        "id": "F8_rddjvN0NU",
        "outputId": "41f3a1dc-a68a-43fa-fadf-5002fea34302"
      },
      "execution_count": null,
      "outputs": [
        {
          "output_type": "execute_result",
          "data": {
            "text/plain": [
              "      GRE Score  TOEFL Score  University Rating  CGPA\n",
              "1180      264.0        110.0                  4  9.15\n",
              "1181      300.0        100.0                  3  8.26\n",
              "1182      140.0        113.0                  4  9.74\n",
              "1183      335.0        117.0                  5  9.82\n",
              "1184      302.0        101.0                  2  7.96"
            ],
            "text/html": [
              "\n",
              "  <div id=\"df-20344bfa-9aae-492c-b34f-f7362be87428\">\n",
              "    <div class=\"colab-df-container\">\n",
              "      <div>\n",
              "<style scoped>\n",
              "    .dataframe tbody tr th:only-of-type {\n",
              "        vertical-align: middle;\n",
              "    }\n",
              "\n",
              "    .dataframe tbody tr th {\n",
              "        vertical-align: top;\n",
              "    }\n",
              "\n",
              "    .dataframe thead th {\n",
              "        text-align: right;\n",
              "    }\n",
              "</style>\n",
              "<table border=\"1\" class=\"dataframe\">\n",
              "  <thead>\n",
              "    <tr style=\"text-align: right;\">\n",
              "      <th></th>\n",
              "      <th>GRE Score</th>\n",
              "      <th>TOEFL Score</th>\n",
              "      <th>University Rating</th>\n",
              "      <th>CGPA</th>\n",
              "    </tr>\n",
              "  </thead>\n",
              "  <tbody>\n",
              "    <tr>\n",
              "      <th>1180</th>\n",
              "      <td>264.0</td>\n",
              "      <td>110.0</td>\n",
              "      <td>4</td>\n",
              "      <td>9.15</td>\n",
              "    </tr>\n",
              "    <tr>\n",
              "      <th>1181</th>\n",
              "      <td>300.0</td>\n",
              "      <td>100.0</td>\n",
              "      <td>3</td>\n",
              "      <td>8.26</td>\n",
              "    </tr>\n",
              "    <tr>\n",
              "      <th>1182</th>\n",
              "      <td>140.0</td>\n",
              "      <td>113.0</td>\n",
              "      <td>4</td>\n",
              "      <td>9.74</td>\n",
              "    </tr>\n",
              "    <tr>\n",
              "      <th>1183</th>\n",
              "      <td>335.0</td>\n",
              "      <td>117.0</td>\n",
              "      <td>5</td>\n",
              "      <td>9.82</td>\n",
              "    </tr>\n",
              "    <tr>\n",
              "      <th>1184</th>\n",
              "      <td>302.0</td>\n",
              "      <td>101.0</td>\n",
              "      <td>2</td>\n",
              "      <td>7.96</td>\n",
              "    </tr>\n",
              "  </tbody>\n",
              "</table>\n",
              "</div>\n",
              "      <button class=\"colab-df-convert\" onclick=\"convertToInteractive('df-20344bfa-9aae-492c-b34f-f7362be87428')\"\n",
              "              title=\"Convert this dataframe to an interactive table.\"\n",
              "              style=\"display:none;\">\n",
              "        \n",
              "  <svg xmlns=\"http://www.w3.org/2000/svg\" height=\"24px\"viewBox=\"0 0 24 24\"\n",
              "       width=\"24px\">\n",
              "    <path d=\"M0 0h24v24H0V0z\" fill=\"none\"/>\n",
              "    <path d=\"M18.56 5.44l.94 2.06.94-2.06 2.06-.94-2.06-.94-.94-2.06-.94 2.06-2.06.94zm-11 1L8.5 8.5l.94-2.06 2.06-.94-2.06-.94L8.5 2.5l-.94 2.06-2.06.94zm10 10l.94 2.06.94-2.06 2.06-.94-2.06-.94-.94-2.06-.94 2.06-2.06.94z\"/><path d=\"M17.41 7.96l-1.37-1.37c-.4-.4-.92-.59-1.43-.59-.52 0-1.04.2-1.43.59L10.3 9.45l-7.72 7.72c-.78.78-.78 2.05 0 2.83L4 21.41c.39.39.9.59 1.41.59.51 0 1.02-.2 1.41-.59l7.78-7.78 2.81-2.81c.8-.78.8-2.07 0-2.86zM5.41 20L4 18.59l7.72-7.72 1.47 1.35L5.41 20z\"/>\n",
              "  </svg>\n",
              "      </button>\n",
              "      \n",
              "  <style>\n",
              "    .colab-df-container {\n",
              "      display:flex;\n",
              "      flex-wrap:wrap;\n",
              "      gap: 12px;\n",
              "    }\n",
              "\n",
              "    .colab-df-convert {\n",
              "      background-color: #E8F0FE;\n",
              "      border: none;\n",
              "      border-radius: 50%;\n",
              "      cursor: pointer;\n",
              "      display: none;\n",
              "      fill: #1967D2;\n",
              "      height: 32px;\n",
              "      padding: 0 0 0 0;\n",
              "      width: 32px;\n",
              "    }\n",
              "\n",
              "    .colab-df-convert:hover {\n",
              "      background-color: #E2EBFA;\n",
              "      box-shadow: 0px 1px 2px rgba(60, 64, 67, 0.3), 0px 1px 3px 1px rgba(60, 64, 67, 0.15);\n",
              "      fill: #174EA6;\n",
              "    }\n",
              "\n",
              "    [theme=dark] .colab-df-convert {\n",
              "      background-color: #3B4455;\n",
              "      fill: #D2E3FC;\n",
              "    }\n",
              "\n",
              "    [theme=dark] .colab-df-convert:hover {\n",
              "      background-color: #434B5C;\n",
              "      box-shadow: 0px 1px 3px 1px rgba(0, 0, 0, 0.15);\n",
              "      filter: drop-shadow(0px 1px 2px rgba(0, 0, 0, 0.3));\n",
              "      fill: #FFFFFF;\n",
              "    }\n",
              "  </style>\n",
              "\n",
              "      <script>\n",
              "        const buttonEl =\n",
              "          document.querySelector('#df-20344bfa-9aae-492c-b34f-f7362be87428 button.colab-df-convert');\n",
              "        buttonEl.style.display =\n",
              "          google.colab.kernel.accessAllowed ? 'block' : 'none';\n",
              "\n",
              "        async function convertToInteractive(key) {\n",
              "          const element = document.querySelector('#df-20344bfa-9aae-492c-b34f-f7362be87428');\n",
              "          const dataTable =\n",
              "            await google.colab.kernel.invokeFunction('convertToInteractive',\n",
              "                                                     [key], {});\n",
              "          if (!dataTable) return;\n",
              "\n",
              "          const docLinkHtml = 'Like what you see? Visit the ' +\n",
              "            '<a target=\"_blank\" href=https://colab.research.google.com/notebooks/data_table.ipynb>data table notebook</a>'\n",
              "            + ' to learn more about interactive tables.';\n",
              "          element.innerHTML = '';\n",
              "          dataTable['output_type'] = 'display_data';\n",
              "          await google.colab.output.renderOutput(dataTable, element);\n",
              "          const docLink = document.createElement('div');\n",
              "          docLink.innerHTML = docLinkHtml;\n",
              "          element.appendChild(docLink);\n",
              "        }\n",
              "      </script>\n",
              "    </div>\n",
              "  </div>\n",
              "  "
            ]
          },
          "metadata": {},
          "execution_count": 135
        }
      ]
    },
    {
      "cell_type": "code",
      "source": [
        "y"
      ],
      "metadata": {
        "colab": {
          "base_uri": "https://localhost:8080/",
          "height": 424
        },
        "id": "O780ymosN1gy",
        "outputId": "f17a6a20-fb79-4a63-d7a8-79b6ede4c2d2"
      },
      "execution_count": null,
      "outputs": [
        {
          "output_type": "execute_result",
          "data": {
            "text/plain": [
              "      Chance of Admit \n",
              "0                 0.92\n",
              "1                 0.76\n",
              "2                 0.72\n",
              "3                 0.80\n",
              "4                 0.65\n",
              "...                ...\n",
              "1180              0.82\n",
              "1181              0.62\n",
              "1182              0.96\n",
              "1183              0.96\n",
              "1184              0.46\n",
              "\n",
              "[1185 rows x 1 columns]"
            ],
            "text/html": [
              "\n",
              "  <div id=\"df-b3efa6d6-adaa-489e-8b0b-c2fbe661f28e\">\n",
              "    <div class=\"colab-df-container\">\n",
              "      <div>\n",
              "<style scoped>\n",
              "    .dataframe tbody tr th:only-of-type {\n",
              "        vertical-align: middle;\n",
              "    }\n",
              "\n",
              "    .dataframe tbody tr th {\n",
              "        vertical-align: top;\n",
              "    }\n",
              "\n",
              "    .dataframe thead th {\n",
              "        text-align: right;\n",
              "    }\n",
              "</style>\n",
              "<table border=\"1\" class=\"dataframe\">\n",
              "  <thead>\n",
              "    <tr style=\"text-align: right;\">\n",
              "      <th></th>\n",
              "      <th>Chance of Admit</th>\n",
              "    </tr>\n",
              "  </thead>\n",
              "  <tbody>\n",
              "    <tr>\n",
              "      <th>0</th>\n",
              "      <td>0.92</td>\n",
              "    </tr>\n",
              "    <tr>\n",
              "      <th>1</th>\n",
              "      <td>0.76</td>\n",
              "    </tr>\n",
              "    <tr>\n",
              "      <th>2</th>\n",
              "      <td>0.72</td>\n",
              "    </tr>\n",
              "    <tr>\n",
              "      <th>3</th>\n",
              "      <td>0.80</td>\n",
              "    </tr>\n",
              "    <tr>\n",
              "      <th>4</th>\n",
              "      <td>0.65</td>\n",
              "    </tr>\n",
              "    <tr>\n",
              "      <th>...</th>\n",
              "      <td>...</td>\n",
              "    </tr>\n",
              "    <tr>\n",
              "      <th>1180</th>\n",
              "      <td>0.82</td>\n",
              "    </tr>\n",
              "    <tr>\n",
              "      <th>1181</th>\n",
              "      <td>0.62</td>\n",
              "    </tr>\n",
              "    <tr>\n",
              "      <th>1182</th>\n",
              "      <td>0.96</td>\n",
              "    </tr>\n",
              "    <tr>\n",
              "      <th>1183</th>\n",
              "      <td>0.96</td>\n",
              "    </tr>\n",
              "    <tr>\n",
              "      <th>1184</th>\n",
              "      <td>0.46</td>\n",
              "    </tr>\n",
              "  </tbody>\n",
              "</table>\n",
              "<p>1185 rows × 1 columns</p>\n",
              "</div>\n",
              "      <button class=\"colab-df-convert\" onclick=\"convertToInteractive('df-b3efa6d6-adaa-489e-8b0b-c2fbe661f28e')\"\n",
              "              title=\"Convert this dataframe to an interactive table.\"\n",
              "              style=\"display:none;\">\n",
              "        \n",
              "  <svg xmlns=\"http://www.w3.org/2000/svg\" height=\"24px\"viewBox=\"0 0 24 24\"\n",
              "       width=\"24px\">\n",
              "    <path d=\"M0 0h24v24H0V0z\" fill=\"none\"/>\n",
              "    <path d=\"M18.56 5.44l.94 2.06.94-2.06 2.06-.94-2.06-.94-.94-2.06-.94 2.06-2.06.94zm-11 1L8.5 8.5l.94-2.06 2.06-.94-2.06-.94L8.5 2.5l-.94 2.06-2.06.94zm10 10l.94 2.06.94-2.06 2.06-.94-2.06-.94-.94-2.06-.94 2.06-2.06.94z\"/><path d=\"M17.41 7.96l-1.37-1.37c-.4-.4-.92-.59-1.43-.59-.52 0-1.04.2-1.43.59L10.3 9.45l-7.72 7.72c-.78.78-.78 2.05 0 2.83L4 21.41c.39.39.9.59 1.41.59.51 0 1.02-.2 1.41-.59l7.78-7.78 2.81-2.81c.8-.78.8-2.07 0-2.86zM5.41 20L4 18.59l7.72-7.72 1.47 1.35L5.41 20z\"/>\n",
              "  </svg>\n",
              "      </button>\n",
              "      \n",
              "  <style>\n",
              "    .colab-df-container {\n",
              "      display:flex;\n",
              "      flex-wrap:wrap;\n",
              "      gap: 12px;\n",
              "    }\n",
              "\n",
              "    .colab-df-convert {\n",
              "      background-color: #E8F0FE;\n",
              "      border: none;\n",
              "      border-radius: 50%;\n",
              "      cursor: pointer;\n",
              "      display: none;\n",
              "      fill: #1967D2;\n",
              "      height: 32px;\n",
              "      padding: 0 0 0 0;\n",
              "      width: 32px;\n",
              "    }\n",
              "\n",
              "    .colab-df-convert:hover {\n",
              "      background-color: #E2EBFA;\n",
              "      box-shadow: 0px 1px 2px rgba(60, 64, 67, 0.3), 0px 1px 3px 1px rgba(60, 64, 67, 0.15);\n",
              "      fill: #174EA6;\n",
              "    }\n",
              "\n",
              "    [theme=dark] .colab-df-convert {\n",
              "      background-color: #3B4455;\n",
              "      fill: #D2E3FC;\n",
              "    }\n",
              "\n",
              "    [theme=dark] .colab-df-convert:hover {\n",
              "      background-color: #434B5C;\n",
              "      box-shadow: 0px 1px 3px 1px rgba(0, 0, 0, 0.15);\n",
              "      filter: drop-shadow(0px 1px 2px rgba(0, 0, 0, 0.3));\n",
              "      fill: #FFFFFF;\n",
              "    }\n",
              "  </style>\n",
              "\n",
              "      <script>\n",
              "        const buttonEl =\n",
              "          document.querySelector('#df-b3efa6d6-adaa-489e-8b0b-c2fbe661f28e button.colab-df-convert');\n",
              "        buttonEl.style.display =\n",
              "          google.colab.kernel.accessAllowed ? 'block' : 'none';\n",
              "\n",
              "        async function convertToInteractive(key) {\n",
              "          const element = document.querySelector('#df-b3efa6d6-adaa-489e-8b0b-c2fbe661f28e');\n",
              "          const dataTable =\n",
              "            await google.colab.kernel.invokeFunction('convertToInteractive',\n",
              "                                                     [key], {});\n",
              "          if (!dataTable) return;\n",
              "\n",
              "          const docLinkHtml = 'Like what you see? Visit the ' +\n",
              "            '<a target=\"_blank\" href=https://colab.research.google.com/notebooks/data_table.ipynb>data table notebook</a>'\n",
              "            + ' to learn more about interactive tables.';\n",
              "          element.innerHTML = '';\n",
              "          dataTable['output_type'] = 'display_data';\n",
              "          await google.colab.output.renderOutput(dataTable, element);\n",
              "          const docLink = document.createElement('div');\n",
              "          docLink.innerHTML = docLinkHtml;\n",
              "          element.appendChild(docLink);\n",
              "        }\n",
              "      </script>\n",
              "    </div>\n",
              "  </div>\n",
              "  "
            ]
          },
          "metadata": {},
          "execution_count": 149
        }
      ]
    },
    {
      "cell_type": "markdown",
      "source": [
        "### **DATA MODELLING**"
      ],
      "metadata": {
        "id": "f94Ap_B-I4vL"
      }
    },
    {
      "cell_type": "code",
      "source": [
        "from sklearn.model_selection import train_test_split"
      ],
      "metadata": {
        "id": "2XqcUP0uN6Ob"
      },
      "execution_count": null,
      "outputs": []
    },
    {
      "cell_type": "code",
      "source": [
        "x_train,x_test,y_train,y_test=train_test_split(x,y,test_size=0.2,random_state=15)\n"
      ],
      "metadata": {
        "id": "BwNjyi0rOICR"
      },
      "execution_count": null,
      "outputs": []
    },
    {
      "cell_type": "markdown",
      "source": [
        "### **APPLYING SCALING TECHNIQUES**"
      ],
      "metadata": {
        "id": "785vaeSdI_k7"
      }
    },
    {
      "cell_type": "code",
      "source": [
        "from sklearn.preprocessing import StandardScaler\n",
        "sc=StandardScaler()\n",
        "x_train_scaled=sc.fit_transform(x_train)\n",
        "x_test_scaled=sc.transform(x_test)"
      ],
      "metadata": {
        "id": "rv8rR4LGbfTI"
      },
      "execution_count": null,
      "outputs": []
    },
    {
      "cell_type": "code",
      "source": [
        "print(x_train)"
      ],
      "metadata": {
        "colab": {
          "base_uri": "https://localhost:8080/"
        },
        "id": "upAI-jnnb1GM",
        "outputId": "678b2c2f-30c0-4d51-9add-e4e60e273706"
      },
      "execution_count": null,
      "outputs": [
        {
          "output_type": "stream",
          "name": "stdout",
          "text": [
            "[[ 1.15206551 -0.72000406 -0.94253335 -0.38558683]\n",
            " [ 0.58929356  0.59481637 -0.06824605  0.40445303]\n",
            " [ 1.15206551 -0.72000406 -0.94253335 -0.16706517]\n",
            " ...\n",
            " [-0.15637927 -0.39129895 -0.06824605 -0.41920555]\n",
            " [-1.21157668  0.92352148  0.80604124  1.93410468]\n",
            " [-0.14230997 -0.39129895 -0.06824605  0.23635944]]\n"
          ]
        }
      ]
    },
    {
      "cell_type": "code",
      "source": [
        "print(x_test)"
      ],
      "metadata": {
        "colab": {
          "base_uri": "https://localhost:8080/"
        },
        "id": "F9fCFdYaaiWM",
        "outputId": "08cba004-bcc1-479d-fefb-41d0a92087fb"
      },
      "execution_count": null,
      "outputs": [
        {
          "output_type": "stream",
          "name": "stdout",
          "text": [
            "[[ 5.89293561e-01  7.59168922e-01  1.68032854e+00  7.91068282e-01]\n",
            " [-1.67586354e+00 -5.55651505e-01 -9.42533351e-01 -2.00683884e-01]\n",
            " [ 5.89293561e-01  4.30463815e-01 -6.82460548e-02  4.38071748e-01]\n",
            " [ 1.10985761e+00 -8.84356612e-01 -9.42533351e-01 -6.88155288e-01]\n",
            " [-1.56379273e-01 -5.55651505e-01 -6.82460548e-02 -4.36014907e-01]\n",
            " [-3.39280157e-01 -3.91298951e-01 -9.42533351e-01 -2.34302602e-01]\n",
            " [-1.56379273e-01 -6.25938448e-02 -9.42533351e-01 -1.50255808e-01]\n",
            " [ 6.31501457e-01  4.30463815e-01 -6.82460548e-02  6.22974694e-01]\n",
            " [ 1.44752078e+00  9.23521475e-01  1.68032854e+00  1.44663327e+00]\n",
            " [-4.37765248e-01 -6.25938448e-02 -9.42533351e-01 -1.16637091e-01]\n",
            " [-1.67586354e+00  4.30463815e-01 -6.82460548e-02  8.75115076e-01]\n",
            " [ 5.33016366e-01  1.08787403e+00  1.68032854e+00  8.24686999e-01]\n",
            " [ 1.25006702e-01 -5.55651505e-01  1.68032854e+00  4.21262389e-01]\n",
            " [ 4.90808469e-01  1.01758709e-01  1.68032854e+00  9.08733793e-01]\n",
            " [ 4.90808469e-01  2.66111262e-01 -6.82460548e-02  3.03596878e-01]\n",
            " [ 4.90808469e-01 -5.55651505e-01  1.68032854e+00  4.21262389e-01]\n",
            " [ 9.69164627e-01             nan -9.42533351e-01 -1.57905130e+00]\n",
            " [ 1.05358042e+00 -1.21306172e+00 -6.82460548e-02 -9.23486310e-01]\n",
            " [ 1.02544182e+00 -1.21306172e+00 -1.81682065e+00 -1.17562669e+00]\n",
            " [-1.56862858e-02  1.08787403e+00 -6.82460548e-02  7.23830847e-01]\n",
            " [-3.39280157e-01  4.30463815e-01 -9.42533351e-01 -9.98277318e-02]\n",
            " [ 1.44752078e+00  4.30463815e-01 -9.42533351e-01  9.42352511e-01]\n",
            " [-4.37765248e-01  7.59168922e-01 -6.82460548e-02  8.58305717e-01]\n",
            " [-1.42309975e-01 -1.21306172e+00 -9.42533351e-01 -7.21774005e-01]\n",
            " [ 1.08171902e+00 -8.84356612e-01 -6.82460548e-02 -1.50255808e-01]\n",
            " [ 1.67214598e-01  4.30463815e-01  1.68032854e+00  1.02639930e+00]\n",
            " [ 1.03951112e+00 -3.91298951e-01 -1.81682065e+00 -1.32691092e+00]\n",
            " [ 5.33016366e-01  7.59168922e-01  8.06041242e-01  3.03596878e-01]\n",
            " [-3.67418755e-01 -5.55651505e-01 -9.42533351e-01 -5.53680418e-01]\n",
            " [ 1.44752078e+00  9.23521475e-01  1.68032854e+00  1.44663327e+00]\n",
            " [-1.67586354e+00 -2.26946398e-01 -6.82460548e-02 -1.50255808e-01]\n",
            " [ 5.89293561e-01 -8.84356612e-01 -6.82460548e-02 -1.99928527e+00]\n",
            " [-3.39280157e-01 -6.25938448e-02  8.06041242e-01  1.01884573e-01]\n",
            " [-1.70400214e+00  1.01758709e-01  8.06041242e-01  7.91068282e-01]\n",
            " [-1.21157668e+00  2.07398935e+00  1.68032854e+00  1.69877365e+00]\n",
            " [-1.14123019e+00  9.23521475e-01 -6.82460548e-02  1.22811161e+00]\n",
            " [-1.61958634e+00 -6.25938448e-02  8.06041242e-01  6.90212129e-01]\n",
            " [ 1.56007517e+00  1.74528424e+00  8.06041242e-01  1.78282045e+00]\n",
            " [-3.25210858e-01 -2.26946398e-01 -9.42533351e-01 -2.67921319e-01]\n",
            " [-1.70400214e+00  5.94816369e-01  8.06041242e-01  8.75115076e-01]\n",
            " [-1.76027933e+00 -3.91298951e-01 -6.82460548e-02  1.35503291e-01]\n",
            " [-3.39280157e-01  2.66111262e-01 -6.82460548e-02  1.69122008e-01]\n",
            " [ 1.51786728e+00  1.08787403e+00  8.06041242e-01  1.41301456e+00]\n",
            " [ 5.47085664e-01  1.58093169e+00  1.68032854e+00  1.63153622e+00]\n",
            " [-1.21157668e+00  2.07398935e+00  1.68032854e+00  1.69877365e+00]\n",
            " [-3.39280157e-01 -1.37741427e+00 -1.81682065e+00 -9.73914387e-01]\n",
            " [-4.23695950e-01  4.30463815e-01 -9.42533351e-01 -2.34302602e-01]\n",
            " [ 1.03951112e+00 -5.55651505e-01 -6.82460548e-02 -7.21774005e-01]\n",
            " [ 5.33016366e-01  4.30463815e-01  8.06041242e-01  6.39784053e-01]\n",
            " [ 6.87778652e-01  1.90963680e+00  1.68032854e+00  2.03496083e+00]\n",
            " [ 5.47085664e-01 -3.91298951e-01 -1.81682065e+00 -1.83119168e+00]\n",
            " [ 2.79768988e-01  9.23521475e-01 -9.42533351e-01  8.50752144e-02]\n",
            " [            nan -1.70611938e+00 -9.42533351e-01 -1.59586066e+00]\n",
            " [-3.67418755e-01 -2.26946398e-01 -9.42533351e-01 -9.90723745e-01]\n",
            " [-3.67418755e-01 -6.25938448e-02 -6.82460548e-02 -2.17493243e-01]\n",
            " [ 1.44752078e+00  1.08787403e+00  1.68032854e+00  1.00958995e+00]\n",
            " [-3.25210858e-01 -3.91298951e-01 -9.42533351e-01 -1.59586066e+00]\n",
            " [-3.53349456e-01 -7.20004058e-01 -9.42533351e-01 -5.87299135e-01]\n",
            " [ 5.18947067e-01  1.01758709e-01  8.06041242e-01  9.92780587e-01]\n",
            " [-3.18127851e+00  9.23521475e-01  1.68032854e+00  1.16087417e+00]\n",
            " [ 5.18947067e-01  1.25222658e+00  8.06041242e-01  9.59161869e-01]\n",
            " [ 1.03951112e+00 -8.84356612e-01 -9.42533351e-01 -1.20924541e+00]\n",
            " [-1.70400214e+00  1.08787403e+00 -6.82460548e-02  7.57449564e-01]\n",
            " [-1.80248723e+00 -2.52788215e+00 -1.81682065e+00 -1.19243605e+00]\n",
            " [-1.76027933e+00 -3.91298951e-01 -6.82460548e-02  1.35503291e-01]\n",
            " [ 2.09422494e-01 -1.21306172e+00 -6.82460548e-02  1.18693932e-01]\n",
            " [-1.76027933e+00 -2.26946398e-01 -6.82460548e-02 -4.36014907e-01]\n",
            " [ 9.83233926e-01 -1.37741427e+00 -9.42533351e-01 -9.40295669e-01]\n",
            " [-4.37765248e-01             nan -6.82460548e-02 -9.90723745e-01]\n",
            " [-1.01460650e+00 -1.37741427e+00 -6.82460548e-02 -1.56224194e+00]\n",
            " [-1.42309975e-01 -1.37741427e+00 -9.42533351e-01  6.90212129e-01]\n",
            " [ 5.33016366e-01  1.58093169e+00  1.68032854e+00  2.06857955e+00]\n",
            " [ 6.31501457e-01  4.30463815e-01 -6.82460548e-02  8.50752144e-02]\n",
            " [ 5.89293561e-01  2.66111262e-01 -6.82460548e-02  3.54024954e-01]\n",
            " [ 5.18947067e-01  4.30463815e-01  8.06041242e-01  7.23830847e-01]\n",
            " [ 1.51786728e+00             nan  8.06041242e-01 -9.90723745e-01]\n",
            " [ 1.53193658e+00  1.74528424e+00  1.68032854e+00  1.42982391e+00]\n",
            " [-1.70448572e-01 -3.91298951e-01 -6.82460548e-02 -4.86442983e-01]\n",
            " [ 5.89293561e-01  2.66111262e-01  8.06041242e-01  9.08733793e-01]\n",
            " [ 5.47085664e-01  1.41657914e+00 -6.82460548e-02  9.25543152e-01]\n",
            " [ 1.10985761e+00 -3.91298951e-01 -9.42533351e-01 -7.72202082e-01]\n",
            " [ 6.31501457e-01 -3.91298951e-01 -9.42533351e-01 -2.34302602e-01]\n",
            " [ 1.06764972e+00 -1.04870916e+00 -9.42533351e-01 -1.05796118e+00]\n",
            " [-1.76027933e+00  4.30463815e-01 -6.82460548e-02  7.57449564e-01]\n",
            " [ 5.89293561e-01  2.66111262e-01 -6.82460548e-02 -8.30183731e-02]\n",
            " [-1.70400214e+00             nan -6.82460548e-02 -3.18349396e-01]\n",
            " [ 9.97303225e-01 -1.21306172e+00 -1.81682065e+00 -1.15881733e+00]\n",
            " [-1.47889336e+00  1.58093169e+00  8.06041242e-01  8.58305717e-01]\n",
            " [ 1.44752078e+00  5.94816369e-01  8.06041242e-01  1.07682738e+00]\n",
            " [ 8.56610237e-01  2.66111262e-01  1.68032854e+00  3.54024954e-01]\n",
            " [ 3.92323378e-01 -8.84356612e-01 -9.42533351e-01 -5.87299135e-01]\n",
            " [ 1.10985761e+00 -2.26946398e-01 -9.42533351e-01 -7.21774005e-01]\n",
            " [ 1.02544182e+00 -2.26946398e-01 -9.42533351e-01 -3.18349396e-01]\n",
            " [            nan -1.21306172e+00 -9.42533351e-01 -8.73058234e-01]\n",
            " [-1.42309975e-01  2.66111262e-01  8.06041242e-01  2.86787519e-01]\n",
            " [-1.67586354e+00 -6.25938448e-02 -6.82460548e-02  1.52312649e-01]\n",
            " [-1.47889336e+00  1.74528424e+00 -9.42533351e-01  1.29534904e+00]\n",
            " [ 2.79768988e-01  5.94816369e-01  8.06041242e-01  4.71690466e-01]\n",
            " [ 1.53193658e+00  1.58093169e+00  1.68032854e+00  2.06857955e+00]\n",
            " [-3.25210858e-01 -1.54176682e+00 -6.82460548e-02 -4.86442983e-01]\n",
            " [-3.25210858e-01 -8.84356612e-01 -6.82460548e-02 -5.36871059e-01]\n",
            " [ 5.75224262e-01 -1.37741427e+00 -9.42533351e-01 -2.16737886e+00]\n",
            " [-3.39280157e-01 -5.55651505e-01 -6.82460548e-02 -8.39439517e-01]\n",
            " [-3.67418755e-01 -1.21306172e+00 -9.42533351e-01 -8.22630158e-01]\n",
            " [-1.21157668e+00  7.59168922e-01  8.06041242e-01  1.79962981e+00]\n",
            " [ 5.47085664e-01  1.01758709e-01 -6.82460548e-02  5.05309183e-01]\n",
            " [ 1.25006702e-01 -5.55651505e-01 -6.82460548e-02 -9.90723745e-01]\n",
            " [-3.39280157e-01 -1.54176682e+00 -1.81682065e+00 -6.88155288e-01]\n",
            " [-3.67418755e-01 -3.91298951e-01  1.68032854e+00 -4.93996556e-02]\n",
            " [-4.37765248e-01 -3.91298951e-01 -9.42533351e-01 -1.57905130e+00]\n",
            " [ 1.01137252e+00  5.94816369e-01  8.06041242e-01 -3.18349396e-01]\n",
            " [-1.70400214e+00 -6.25938448e-02 -6.82460548e-02  8.75115076e-01]\n",
            " [-3.67418755e-01 -2.26946398e-01 -9.42533351e-01 -9.90723745e-01]\n",
            " [-1.28240676e-01  1.08787403e+00  1.68032854e+00  1.69877365e+00]\n",
            " [ 1.05358042e+00 -5.55651505e-01 -6.82460548e-02 -7.89011440e-01]\n",
            " [ 1.25006702e-01 -1.70611938e+00 -9.42533351e-01 -1.32691092e+00]\n",
            " [-3.53349456e-01 -2.26946398e-01  8.06041242e-01 -3.85586831e-01]\n",
            " [ 5.33016366e-01  5.94816369e-01  8.06041242e-01  7.07021488e-01]\n",
            " [-3.39280157e-01  1.01758709e-01 -6.82460548e-02 -9.98277318e-02]\n",
            " [ 5.47085664e-01  7.59168922e-01 -6.82460548e-02  8.58305717e-01]\n",
            " [-3.95557352e-01 -1.21306172e+00 -9.42533351e-01 -1.15881733e+00]\n",
            " [-1.09902229e+00 -1.70611938e+00 -6.82460548e-02 -1.56224194e+00]\n",
            " [ 2.79768988e-01 -5.55651505e-01 -6.82460548e-02  2.53168802e-01]\n",
            " [-4.37765248e-01 -3.91298951e-01 -9.42533351e-01 -1.57905130e+00]\n",
            " [-1.47889336e+00  1.41657914e+00  1.68032854e+00  1.16087417e+00]\n",
            " [ 1.25006702e-01 -6.25938448e-02 -6.82460548e-02 -1.15881733e+00]\n",
            " [ 4.90808469e-01  5.94816369e-01  8.06041242e-01 -3.18349396e-01]\n",
            " [-1.76027933e+00  1.01758709e-01 -6.82460548e-02 -8.30183731e-02]\n",
            " [ 9.55095328e-01 -2.03482449e+00 -1.81682065e+00 -1.59586066e+00]\n",
            " [-3.25210858e-01  2.66111262e-01 -6.82460548e-02  6.90212129e-01]\n",
            " [-6.48804730e-01  1.90963680e+00  8.06041242e-01  1.73239237e+00]\n",
            " [-1.61698708e-03  7.59168922e-01 -6.82460548e-02  1.35503291e-01]\n",
            " [-1.74621003e+00 -5.55651505e-01 -6.82460548e-02 -2.51111961e-01]\n",
            " [-1.67586354e+00 -2.26946398e-01 -6.82460548e-02 -1.50255808e-01]\n",
            " [-1.67586354e+00 -1.21306172e+00 -9.42533351e-01 -3.25902968e-02]\n",
            " [-1.70400214e+00  5.94816369e-01 -6.82460548e-02  1.85931367e-01]\n",
            " [-1.61958634e+00 -1.37741427e+00 -1.81682065e+00 -2.67921319e-01]\n",
            " [ 7.58125146e-01  4.30463815e-01 -6.82460548e-02 -9.90723745e-01]\n",
            " [-1.80248723e+00 -1.37741427e+00 -1.81682065e+00 -1.89842912e+00]\n",
            " [ 5.47085664e-01  7.59168922e-01  8.06041242e-01  8.91924434e-01]\n",
            " [-1.76027933e+00  1.01758709e-01 -6.82460548e-02 -8.30183731e-02]\n",
            " [-8.59844211e-01 -3.91298951e-01 -6.82460548e-02 -9.57105028e-01]\n",
            " [ 5.47085664e-01  9.23521475e-01  1.68032854e+00  1.36258648e+00]\n",
            " [ 5.47085664e-01  1.08787403e+00 -6.82460548e-02  8.75115076e-01]\n",
            " [-1.70400214e+00  7.59168922e-01  8.06041242e-01  6.90212129e-01]\n",
            " [-6.48804730e-01  1.90963680e+00  8.06041242e-01  1.73239237e+00]\n",
            " [ 1.05358042e+00 -1.54176682e+00 -1.81682065e+00 -9.40295669e-01]\n",
            " [-8.59844211e-01 -6.25938448e-02 -9.42533351e-01  8.50752144e-02]\n",
            " [-4.51834547e-01 -1.37741427e+00 -1.81682065e+00 -3.00784680e+00]\n",
            " [ 5.33016366e-01  5.94816369e-01  1.68032854e+00  9.59161869e-01]\n",
            " [-6.48804730e-01 -6.25938448e-02 -9.42533351e-01 -1.50255808e-01]\n",
            " [-3.53349456e-01 -5.55651505e-01 -6.82460548e-02 -3.68777472e-01]\n",
            " [-3.25210858e-01  2.66111262e-01 -6.82460548e-02  6.90212129e-01]\n",
            " [-1.42309975e-01  2.66111262e-01  8.06041242e-01  2.86787519e-01]\n",
            " [-3.25210858e-01 -8.84356612e-01 -6.82460548e-02  1.52312649e-01]\n",
            " [ 5.89293561e-01  1.01758709e-01 -9.42533351e-01 -1.49500451e+00]\n",
            " [-3.39280157e-01 -7.20004058e-01 -6.82460548e-02 -2.34302602e-01]\n",
            " [-1.80248723e+00 -2.52788215e+00 -1.81682065e+00 -1.19243605e+00]\n",
            " [ 1.51786728e+00  1.08787403e+00  8.06041242e-01  1.41301456e+00]\n",
            " [ 4.90808469e-01  9.23521475e-01 -6.82460548e-02  1.18693932e-01]\n",
            " [ 1.51786728e+00  1.90963680e+00  1.68032854e+00  1.86686724e+00]\n",
            " [-1.76027933e+00  7.59168922e-01 -6.82460548e-02  2.02740726e-01]\n",
            " [ 1.02544182e+00 -1.70611938e+00 -6.82460548e-02 -1.56224194e+00]\n",
            " [ 1.44752078e+00  5.94816369e-01  8.06041242e-01  7.07021488e-01]\n",
            " [-1.42309975e-01 -8.84356612e-01 -6.82460548e-02 -1.99928527e+00]\n",
            " [-1.56379273e-01 -2.26946398e-01 -6.82460548e-02 -2.84730678e-01]\n",
            " [-1.76027933e+00  4.30463815e-01 -6.82460548e-02  3.37215596e-01]\n",
            " [ 6.31501457e-01 -6.25938448e-02 -6.82460548e-02 -2.17493243e-01]\n",
            " [-1.70400214e+00  7.59168922e-01  8.06041242e-01  6.90212129e-01]\n",
            " [-6.48804730e-01  1.74528424e+00  1.68032854e+00  1.58110814e+00]\n",
            " [-4.23695950e-01 -3.91298951e-01 -6.82460548e-02 -1.83874526e-01]\n",
            " [ 5.47085664e-01 -8.84356612e-01  8.06041242e-01  2.86787519e-01]\n",
            " [ 9.97303225e-01 -1.87047193e+00 -9.42533351e-01 -1.17562669e+00]\n",
            " [-3.67418755e-01  1.01758709e-01 -6.82460548e-02 -7.89011440e-01]\n",
            " [ 4.76739171e-01  2.07398935e+00 -6.82460548e-02  6.22974694e-01]\n",
            " [-1.61698708e-03 -2.26946398e-01 -9.42533351e-01 -1.12519862e+00]\n",
            " [-1.74621003e+00  1.01758709e-01  1.68032854e+00  2.53168802e-01]\n",
            " [-3.81488053e-01 -8.84356612e-01 -6.82460548e-02  5.14564969e-02]\n",
            " [ 5.89293561e-01 -6.25938448e-02 -9.42533351e-01 -2.51111961e-01]\n",
            " [-8.59844211e-01 -5.55651505e-01 -9.42533351e-01 -2.00683884e-01]\n",
            " [ 5.33016366e-01  5.94816369e-01 -6.82460548e-02  3.37215596e-01]\n",
            " [-1.47889336e+00  1.41657914e+00  1.68032854e+00  1.16087417e+00]\n",
            " [-3.25210858e-01 -2.26946398e-01 -9.42533351e-01 -5.70489777e-01]\n",
            " [-1.61958634e+00 -1.37741427e+00 -9.42533351e-01 -1.02434246e+00]\n",
            " [-3.18127851e+00  9.23521475e-01  1.68032854e+00  1.16087417e+00]\n",
            " [ 4.76739171e-01  1.90963680e+00  8.06041242e-01  1.26173033e+00]\n",
            " [-3.53349456e-01 -7.20004058e-01 -9.42533351e-01 -5.87299135e-01]\n",
            " [-3.39280157e-01 -1.21306172e+00 -9.42533351e-01 -1.15881733e+00]\n",
            " [-1.61958634e+00 -3.91298951e-01 -9.42533351e-01 -7.89011440e-01]\n",
            " [-1.09902229e+00  1.25222658e+00  1.68032854e+00  1.44663327e+00]\n",
            " [-3.67418755e-01 -1.21306172e+00 -9.42533351e-01 -8.22630158e-01]\n",
            " [-3.25210858e-01  4.30463815e-01 -6.82460548e-02  3.54024954e-01]\n",
            " [            nan -1.70611938e+00 -9.42533351e-01 -1.59586066e+00]\n",
            " [-1.74621003e+00  9.23521475e-01 -6.82460548e-02  4.88499824e-01]\n",
            " [ 5.89293561e-01  2.66111262e-01  8.06041242e-01  9.08733793e-01]\n",
            " [ 4.90808469e-01  9.23521475e-01  8.06041242e-01  8.75115076e-01]\n",
            " [-3.53349456e-01 -1.37741427e+00 -9.42533351e-01 -2.16737886e+00]\n",
            " [-1.76027933e+00             nan -9.42533351e-01  2.86787519e-01]\n",
            " [-1.74621003e+00  4.30463815e-01  1.68032854e+00  6.56593412e-01]\n",
            " [ 4.76739171e-01  7.59168922e-01  1.68032854e+00  2.03496083e+00]\n",
            " [ 5.33016366e-01  1.25222658e+00 -6.82460548e-02  2.86787519e-01]\n",
            " [ 1.06764972e+00 -8.84356612e-01 -1.81682065e+00 -9.90723745e-01]\n",
            " [ 4.62669872e-01  9.23521475e-01  1.68032854e+00  1.21130225e+00]\n",
            " [ 1.51786728e+00  1.90963680e+00  1.68032854e+00  1.49706135e+00]\n",
            " [-1.70400214e+00  4.30463815e-01  8.06041242e-01  1.35503291e-01]\n",
            " [ 6.31501457e-01  4.30463815e-01  1.68032854e+00  6.39784053e-01]\n",
            " [ 9.97303225e-01 -1.54176682e+00 -6.82460548e-02 -4.86442983e-01]\n",
            " [ 1.06764972e+00 -1.37741427e+00 -1.81682065e+00 -2.25142565e+00]\n",
            " [-1.42309975e-01  4.30463815e-01 -6.82460548e-02 -4.93996556e-02]\n",
            " [-1.42309975e-01  2.66111262e-01 -6.82460548e-02  2.86787519e-01]\n",
            " [ 1.15206551e+00  4.30463815e-01  8.06041242e-01  1.78377794e-02]\n",
            " [ 1.02544182e+00 -1.21306172e+00 -6.82460548e-02 -9.57105028e-01]\n",
            " [ 5.18947067e-01  4.30463815e-01  8.06041242e-01  9.25543152e-01]\n",
            " [ 5.33016366e-01 -3.91298951e-01 -6.82460548e-02  2.69978161e-01]\n",
            " [ 5.75224262e-01 -6.25938448e-02 -6.82460548e-02  1.85931367e-01]\n",
            " [ 4.90808469e-01  5.94816369e-01  8.06041242e-01  6.90212129e-01]\n",
            " [ 1.03951112e+00 -8.84356612e-01 -6.82460548e-02 -7.04964647e-01]\n",
            " [ 1.51786728e+00  1.58093169e+00  1.68032854e+00  8.07877641e-01]\n",
            " [-1.67586354e+00 -1.21306172e+00 -9.42533351e-01 -3.25902968e-02]\n",
            " [ 1.58821377e+00  1.41657914e+00  8.06041242e-01  2.03496083e+00]\n",
            " [-1.21157668e+00  2.07398935e+00  8.06041242e-01  2.23667313e+00]\n",
            " [-3.25210858e-01 -6.25938448e-02 -6.82460548e-02  1.69122008e-01]\n",
            " [-1.42309975e-01 -3.91298951e-01 -6.82460548e-02  2.36359443e-01]\n",
            " [-1.77434863e+00 -2.26946398e-01 -9.42533351e-01 -3.18349396e-01]\n",
            " [-8.59844211e-01 -6.25938448e-02 -9.42533351e-01 -1.50255808e-01]\n",
            " [ 4.76739171e-01  1.25222658e+00  1.68032854e+00  1.42982391e+00]\n",
            " [-1.56379273e-01 -7.20004058e-01 -1.81682065e+00 -1.22605477e+00]\n",
            " [-5.50319639e-01 -1.37741427e+00 -9.42533351e-01 -6.20917853e-01]\n",
            " [-9.30190705e-01  9.23521475e-01  1.68032854e+00  1.36258648e+00]\n",
            " [ 1.03951112e+00 -8.84356612e-01 -6.82460548e-02 -7.04964647e-01]\n",
            " [-3.53349456e-01 -2.26946398e-01 -9.42533351e-01 -4.36014907e-01]\n",
            " [-3.25210858e-01 -2.26946398e-01 -9.42533351e-01 -5.70489777e-01]\n",
            " [-1.67586354e+00 -2.26946398e-01 -6.82460548e-02 -1.50255808e-01]\n",
            " [-3.25210858e-01 -5.55651505e-01  8.06041242e-01  7.23830847e-01]\n",
            " [ 4.76739171e-01  1.25222658e+00  1.68032854e+00  1.42982391e+00]\n",
            " [ 1.44752078e+00  1.08787403e+00  1.68032854e+00  1.00958995e+00]\n",
            " [-3.25210858e-01 -7.20004058e-01 -6.82460548e-02  2.69978161e-01]]\n"
          ]
        }
      ]
    },
    {
      "cell_type": "code",
      "source": [
        "print(y_train)\n",
        "print(y_train.shape)"
      ],
      "metadata": {
        "colab": {
          "base_uri": "https://localhost:8080/"
        },
        "id": "y_OmF1XSapHe",
        "outputId": "e265ae28-e569-45b8-f950-7485a8d0f1b9"
      },
      "execution_count": null,
      "outputs": [
        {
          "output_type": "stream",
          "name": "stdout",
          "text": [
            "      Chance of Admit \n",
            "661               0.70\n",
            "249               0.77\n",
            "1076              0.66\n",
            "877               0.46\n",
            "469               0.94\n",
            "...                ...\n",
            "85                0.76\n",
            "667               0.83\n",
            "156               0.70\n",
            "384               0.96\n",
            "645               0.72\n",
            "\n",
            "[948 rows x 1 columns]\n",
            "(948, 1)\n"
          ]
        }
      ]
    },
    {
      "cell_type": "code",
      "source": [
        "print(y_test)\n"
      ],
      "metadata": {
        "colab": {
          "base_uri": "https://localhost:8080/"
        },
        "id": "d92cVyn3awE7",
        "outputId": "cbb52a65-dcd6-4c0f-df61-8b790688b06f"
      },
      "execution_count": null,
      "outputs": [
        {
          "output_type": "stream",
          "name": "stdout",
          "text": [
            "      Chance of Admit \n",
            "551               0.86\n",
            "901               0.57\n",
            "846               0.82\n",
            "1121              0.62\n",
            "723               0.67\n",
            "...                ...\n",
            "719               0.75\n",
            "288               0.82\n",
            "142               0.92\n",
            "636               0.86\n",
            "1018              0.76\n",
            "\n",
            "[237 rows x 1 columns]\n"
          ]
        }
      ]
    },
    {
      "cell_type": "code",
      "source": [
        "from sklearn.svm import SVR\n",
        "from sklearn.metrics import mean_squared_error as MSE\n",
        "svm_regression=SVR()\n",
        "svm_regression.fit(x_train,y_train)\n",
        "yfit=svm_regression.predict(x)\n",
        "score=svm_regression.score(x,y)\n",
        "svm_mean=MSE(y,yfit)\n",
        "print(svm_mean)"
      ],
      "metadata": {
        "colab": {
          "base_uri": "https://localhost:8080/"
        },
        "id": "YtyvKTBag2Vj",
        "outputId": "a59c584a-0f68-461b-a518-379e487cf06a"
      },
      "execution_count": null,
      "outputs": [
        {
          "output_type": "stream",
          "name": "stdout",
          "text": [
            "0.007754300661623774\n"
          ]
        },
        {
          "output_type": "stream",
          "name": "stderr",
          "text": [
            "/usr/local/lib/python3.7/dist-packages/sklearn/utils/validation.py:993: DataConversionWarning: A column-vector y was passed when a 1d array was expected. Please change the shape of y to (n_samples, ), for example using ravel().\n",
            "  y = column_or_1d(y, warn=True)\n"
          ]
        }
      ]
    },
    {
      "cell_type": "code",
      "source": [
        "yfit"
      ],
      "metadata": {
        "colab": {
          "base_uri": "https://localhost:8080/"
        },
        "id": "G7Pa1SzInFI9",
        "outputId": "cad80fe8-1d25-48f7-b098-e706c4ab58d6"
      },
      "execution_count": null,
      "outputs": [
        {
          "output_type": "execute_result",
          "data": {
            "text/plain": [
              "array([0.86890808, 0.70940391, 0.66690776, ..., 0.80229729, 0.86052271,\n",
              "       0.60410569])"
            ]
          },
          "metadata": {},
          "execution_count": 259
        }
      ]
    },
    {
      "cell_type": "code",
      "source": [
        "from sklearn.ensemble import RandomForestRegressor\n",
        "rf=RandomForestRegressor()\n",
        "cc=rf.fit(x_train,y_train)\n",
        "from sklearn.metrics import mean_squared_error as MSE\n",
        "yp=rf.predict(x_test)\n",
        "mse_rf=MSE(y_test,yp)\n",
        "rms=mse_rf**(1/2)\n",
        "print(rms)"
      ],
      "metadata": {
        "colab": {
          "base_uri": "https://localhost:8080/"
        },
        "id": "GXZu9K6jmW_w",
        "outputId": "d1cc477a-4ca9-42e5-bdb1-b9bde064896d"
      },
      "execution_count": null,
      "outputs": [
        {
          "output_type": "stream",
          "name": "stderr",
          "text": [
            "/usr/local/lib/python3.7/dist-packages/ipykernel_launcher.py:3: DataConversionWarning: A column-vector y was passed when a 1d array was expected. Please change the shape of y to (n_samples,), for example using ravel().\n",
            "  This is separate from the ipykernel package so we can avoid doing imports until\n"
          ]
        },
        {
          "output_type": "stream",
          "name": "stdout",
          "text": [
            "0.046554481037182134\n"
          ]
        }
      ]
    },
    {
      "cell_type": "code",
      "source": [
        "yp"
      ],
      "metadata": {
        "colab": {
          "base_uri": "https://localhost:8080/"
        },
        "id": "waSgjLymnH1q",
        "outputId": "64c38f39-eafb-49fa-be89-bd093690b4ae"
      },
      "execution_count": null,
      "outputs": [
        {
          "output_type": "execute_result",
          "data": {
            "text/plain": [
              "array([0.8575, 0.6164, 0.7991, 0.6193, 0.6731, 0.7153, 0.621 , 0.7816,\n",
              "       0.8999, 0.7651, 0.8031, 0.8882, 0.7241, 0.869 , 0.7863, 0.7394,\n",
              "       0.5009, 0.6647, 0.5889, 0.6477, 0.6497, 0.8382, 0.8057, 0.6881,\n",
              "       0.6247, 0.8927, 0.5782, 0.7994, 0.6574, 0.8999, 0.6766, 0.4416,\n",
              "       0.7354, 0.7941, 0.9472, 0.8672, 0.7802, 0.9363, 0.6311, 0.8299,\n",
              "       0.7312, 0.7566, 0.9157, 0.939 , 0.9472, 0.5291, 0.639 , 0.7044,\n",
              "       0.8388, 0.968 , 0.4783, 0.8014, 0.4626, 0.6057, 0.7336, 0.8697,\n",
              "       0.6769, 0.6946, 0.8185, 0.8782, 0.8161, 0.5763, 0.745 , 0.4933,\n",
              "       0.7312, 0.6858, 0.725 , 0.6111, 0.6225, 0.4371, 0.7063, 0.9597,\n",
              "       0.8354, 0.7424, 0.813 , 0.5371, 0.9277, 0.6238, 0.8478, 0.8103,\n",
              "       0.6582, 0.6601, 0.4977, 0.8172, 0.7549, 0.6485, 0.5356, 0.8573,\n",
              "       0.8836, 0.7093, 0.626 , 0.6474, 0.631 , 0.6427, 0.7798, 0.8115,\n",
              "       0.9024, 0.8411, 0.9602, 0.6718, 0.648 , 0.4496, 0.7015, 0.6478,\n",
              "       0.9351, 0.7959, 0.7015, 0.6351, 0.6943, 0.5928, 0.7069, 0.8155,\n",
              "       0.6057, 0.9092, 0.6811, 0.6006, 0.6416, 0.8211, 0.6907, 0.8181,\n",
              "       0.5587, 0.4297, 0.7582, 0.5928, 0.9329, 0.6437, 0.7384, 0.7006,\n",
              "       0.4956, 0.787 , 0.9441, 0.7079, 0.7268, 0.6766, 0.6743, 0.6416,\n",
              "       0.7073, 0.6722, 0.5297, 0.822 , 0.7006, 0.5579, 0.9197, 0.8317,\n",
              "       0.7813, 0.9441, 0.6437, 0.6593, 0.4908, 0.8984, 0.7042, 0.7022,\n",
              "       0.787 , 0.7798, 0.7057, 0.5309, 0.7554, 0.4933, 0.9157, 0.7961,\n",
              "       0.9374, 0.7436, 0.3782, 0.8098, 0.467 , 0.7161, 0.7192, 0.6809,\n",
              "       0.7813, 0.9394, 0.7199, 0.7697, 0.4395, 0.7127, 0.8074, 0.6397,\n",
              "       0.7998, 0.641 , 0.7705, 0.6767, 0.7102, 0.9329, 0.6612, 0.6151,\n",
              "       0.8782, 0.9011, 0.6946, 0.595 , 0.718 , 0.9337, 0.6478, 0.7383,\n",
              "       0.4626, 0.7837, 0.8478, 0.8781, 0.5325, 0.6794, 0.8636, 0.9431,\n",
              "       0.71  , 0.519 , 0.9028, 0.9379, 0.7406, 0.7883, 0.6325, 0.5503,\n",
              "       0.7464, 0.7646, 0.6989, 0.6253, 0.8198, 0.7881, 0.7192, 0.8325,\n",
              "       0.65  , 0.8866, 0.6743, 0.9588, 0.97  , 0.7234, 0.7201, 0.6644,\n",
              "       0.7042, 0.9232, 0.5744, 0.6509, 0.9112, 0.65  , 0.7254, 0.6612,\n",
              "       0.6766, 0.8091, 0.9232, 0.8697, 0.7566])"
            ]
          },
          "metadata": {},
          "execution_count": 356
        }
      ]
    },
    {
      "cell_type": "markdown",
      "source": [
        "### **RESULT**"
      ],
      "metadata": {
        "id": "mBii7OuEJJ14"
      }
    },
    {
      "cell_type": "code",
      "source": [
        "#Order GRE, TOEFL, University Rating, SOP, LOR, CGPA, Research\n",
        "print('Chance of getting into MIT is {}%'.format(round(rf.predict([[0,110, 3, 8.65]])[0]*100, 3)))"
      ],
      "metadata": {
        "colab": {
          "base_uri": "https://localhost:8080/"
        },
        "id": "LU29XqpVAIjB",
        "outputId": "125f5426-7608-45a7-82be-824ae5ae790a"
      },
      "execution_count": null,
      "outputs": [
        {
          "output_type": "stream",
          "name": "stdout",
          "text": [
            "Chance of getting into MIT is 74.0%\n"
          ]
        },
        {
          "output_type": "stream",
          "name": "stderr",
          "text": [
            "/usr/local/lib/python3.7/dist-packages/sklearn/base.py:451: UserWarning: X does not have valid feature names, but RandomForestRegressor was fitted with feature names\n",
            "  \"X does not have valid feature names, but\"\n"
          ]
        }
      ]
    },
    {
      "cell_type": "code",
      "source": [
        "#Order GRE, TOEFL, University Rating,CGPA\n",
        "print('Chance of getting into MIT is {}%'.format(round(rf.predict([[330,0, 4, 8.5]])[0]*100, 3)))"
      ],
      "metadata": {
        "colab": {
          "base_uri": "https://localhost:8080/"
        },
        "id": "jLKD0BvoAe60",
        "outputId": "6932477b-74bd-43fb-da24-6225cf2cfd87"
      },
      "execution_count": null,
      "outputs": [
        {
          "output_type": "stream",
          "name": "stdout",
          "text": [
            "Chance of getting into MIT is 65.55%\n"
          ]
        },
        {
          "output_type": "stream",
          "name": "stderr",
          "text": [
            "/usr/local/lib/python3.7/dist-packages/sklearn/base.py:451: UserWarning: X does not have valid feature names, but RandomForestRegressor was fitted with feature names\n",
            "  \"X does not have valid feature names, but\"\n"
          ]
        }
      ]
    },
    {
      "cell_type": "code",
      "source": [
        "#Order GRE, TOEFL, University Rating,CGPA\n",
        "print('Chance of getting into MIT is {}%'.format(round(rf.predict([[330,0, 0, 8.5]])[0]*100, 3)))"
      ],
      "metadata": {
        "colab": {
          "base_uri": "https://localhost:8080/"
        },
        "id": "x_rfKm9yB0Vn",
        "outputId": "37d72d0e-d8d4-4311-8bad-19630c5291d3"
      },
      "execution_count": null,
      "outputs": [
        {
          "output_type": "stream",
          "name": "stdout",
          "text": [
            "Chance of getting into MIT is 64.63%\n"
          ]
        },
        {
          "output_type": "stream",
          "name": "stderr",
          "text": [
            "/usr/local/lib/python3.7/dist-packages/sklearn/base.py:451: UserWarning: X does not have valid feature names, but RandomForestRegressor was fitted with feature names\n",
            "  \"X does not have valid feature names, but\"\n"
          ]
        }
      ]
    }
  ]
}