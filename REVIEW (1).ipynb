{
  "nbformat": 4,
  "nbformat_minor": 0,
  "metadata": {
    "colab": {
      "provenance": []
    },
    "kernelspec": {
      "name": "python3",
      "display_name": "Python 3"
    },
    "language_info": {
      "name": "python"
    }
  },
  "cells": [
    {
      "cell_type": "code",
      "execution_count": 113,
      "metadata": {
        "id": "tyDZ-rnfpfQQ"
      },
      "outputs": [],
      "source": [
        "import numpy as np\n",
        "import pandas as pd\n",
        "from matplotlib import pyplot as plt\n",
        "import seaborn as sns"
      ]
    },
    {
      "cell_type": "code",
      "source": [
        "df = pd.read_excel('/content/drive/MyDrive/dafemlproject.xlsx')\n"
      ],
      "metadata": {
        "id": "xneYw9YGqEdG"
      },
      "execution_count": 310,
      "outputs": []
    },
    {
      "cell_type": "code",
      "source": [
        "df.shape"
      ],
      "metadata": {
        "colab": {
          "base_uri": "https://localhost:8080/"
        },
        "id": "MU1q0jRZqhOk",
        "outputId": "215631a1-aa85-4a24-fd01-365621d1eb88"
      },
      "execution_count": 115,
      "outputs": [
        {
          "output_type": "execute_result",
          "data": {
            "text/plain": [
              "(1198, 8)"
            ]
          },
          "metadata": {},
          "execution_count": 115
        }
      ]
    },
    {
      "cell_type": "code",
      "source": [
        "df.head()"
      ],
      "metadata": {
        "colab": {
          "base_uri": "https://localhost:8080/",
          "height": 206
        },
        "id": "VzaSWFZLqeUn",
        "outputId": "5b5b6904-cd22-41f0-ffac-6473a8faa629"
      },
      "execution_count": 116,
      "outputs": [
        {
          "output_type": "execute_result",
          "data": {
            "text/plain": [
              "   GRE Score  TOEFL Score  University Rating  SOP  LOR   CGPA  Research  \\\n",
              "0      337.0        118.0                  4  4.5   4.5  9.65         1   \n",
              "1      264.0        107.0                  4  4.0   4.5  8.87         1   \n",
              "2      216.0        104.0                  3  3.0   3.5  8.00         1   \n",
              "3      271.0        110.0                  3  3.5   2.5  8.67         1   \n",
              "4      203.0        103.0                  2  2.0   3.0  8.21         0   \n",
              "\n",
              "   Chance of Admit   \n",
              "0              0.92  \n",
              "1              0.76  \n",
              "2              0.72  \n",
              "3              0.80  \n",
              "4              0.65  "
            ],
            "text/html": [
              "\n",
              "  <div id=\"df-a10d6c86-88ea-4c6f-b1ac-8dd9bd67c9a9\">\n",
              "    <div class=\"colab-df-container\">\n",
              "      <div>\n",
              "<style scoped>\n",
              "    .dataframe tbody tr th:only-of-type {\n",
              "        vertical-align: middle;\n",
              "    }\n",
              "\n",
              "    .dataframe tbody tr th {\n",
              "        vertical-align: top;\n",
              "    }\n",
              "\n",
              "    .dataframe thead th {\n",
              "        text-align: right;\n",
              "    }\n",
              "</style>\n",
              "<table border=\"1\" class=\"dataframe\">\n",
              "  <thead>\n",
              "    <tr style=\"text-align: right;\">\n",
              "      <th></th>\n",
              "      <th>GRE Score</th>\n",
              "      <th>TOEFL Score</th>\n",
              "      <th>University Rating</th>\n",
              "      <th>SOP</th>\n",
              "      <th>LOR</th>\n",
              "      <th>CGPA</th>\n",
              "      <th>Research</th>\n",
              "      <th>Chance of Admit</th>\n",
              "    </tr>\n",
              "  </thead>\n",
              "  <tbody>\n",
              "    <tr>\n",
              "      <th>0</th>\n",
              "      <td>337.0</td>\n",
              "      <td>118.0</td>\n",
              "      <td>4</td>\n",
              "      <td>4.5</td>\n",
              "      <td>4.5</td>\n",
              "      <td>9.65</td>\n",
              "      <td>1</td>\n",
              "      <td>0.92</td>\n",
              "    </tr>\n",
              "    <tr>\n",
              "      <th>1</th>\n",
              "      <td>264.0</td>\n",
              "      <td>107.0</td>\n",
              "      <td>4</td>\n",
              "      <td>4.0</td>\n",
              "      <td>4.5</td>\n",
              "      <td>8.87</td>\n",
              "      <td>1</td>\n",
              "      <td>0.76</td>\n",
              "    </tr>\n",
              "    <tr>\n",
              "      <th>2</th>\n",
              "      <td>216.0</td>\n",
              "      <td>104.0</td>\n",
              "      <td>3</td>\n",
              "      <td>3.0</td>\n",
              "      <td>3.5</td>\n",
              "      <td>8.00</td>\n",
              "      <td>1</td>\n",
              "      <td>0.72</td>\n",
              "    </tr>\n",
              "    <tr>\n",
              "      <th>3</th>\n",
              "      <td>271.0</td>\n",
              "      <td>110.0</td>\n",
              "      <td>3</td>\n",
              "      <td>3.5</td>\n",
              "      <td>2.5</td>\n",
              "      <td>8.67</td>\n",
              "      <td>1</td>\n",
              "      <td>0.80</td>\n",
              "    </tr>\n",
              "    <tr>\n",
              "      <th>4</th>\n",
              "      <td>203.0</td>\n",
              "      <td>103.0</td>\n",
              "      <td>2</td>\n",
              "      <td>2.0</td>\n",
              "      <td>3.0</td>\n",
              "      <td>8.21</td>\n",
              "      <td>0</td>\n",
              "      <td>0.65</td>\n",
              "    </tr>\n",
              "  </tbody>\n",
              "</table>\n",
              "</div>\n",
              "      <button class=\"colab-df-convert\" onclick=\"convertToInteractive('df-a10d6c86-88ea-4c6f-b1ac-8dd9bd67c9a9')\"\n",
              "              title=\"Convert this dataframe to an interactive table.\"\n",
              "              style=\"display:none;\">\n",
              "        \n",
              "  <svg xmlns=\"http://www.w3.org/2000/svg\" height=\"24px\"viewBox=\"0 0 24 24\"\n",
              "       width=\"24px\">\n",
              "    <path d=\"M0 0h24v24H0V0z\" fill=\"none\"/>\n",
              "    <path d=\"M18.56 5.44l.94 2.06.94-2.06 2.06-.94-2.06-.94-.94-2.06-.94 2.06-2.06.94zm-11 1L8.5 8.5l.94-2.06 2.06-.94-2.06-.94L8.5 2.5l-.94 2.06-2.06.94zm10 10l.94 2.06.94-2.06 2.06-.94-2.06-.94-.94-2.06-.94 2.06-2.06.94z\"/><path d=\"M17.41 7.96l-1.37-1.37c-.4-.4-.92-.59-1.43-.59-.52 0-1.04.2-1.43.59L10.3 9.45l-7.72 7.72c-.78.78-.78 2.05 0 2.83L4 21.41c.39.39.9.59 1.41.59.51 0 1.02-.2 1.41-.59l7.78-7.78 2.81-2.81c.8-.78.8-2.07 0-2.86zM5.41 20L4 18.59l7.72-7.72 1.47 1.35L5.41 20z\"/>\n",
              "  </svg>\n",
              "      </button>\n",
              "      \n",
              "  <style>\n",
              "    .colab-df-container {\n",
              "      display:flex;\n",
              "      flex-wrap:wrap;\n",
              "      gap: 12px;\n",
              "    }\n",
              "\n",
              "    .colab-df-convert {\n",
              "      background-color: #E8F0FE;\n",
              "      border: none;\n",
              "      border-radius: 50%;\n",
              "      cursor: pointer;\n",
              "      display: none;\n",
              "      fill: #1967D2;\n",
              "      height: 32px;\n",
              "      padding: 0 0 0 0;\n",
              "      width: 32px;\n",
              "    }\n",
              "\n",
              "    .colab-df-convert:hover {\n",
              "      background-color: #E2EBFA;\n",
              "      box-shadow: 0px 1px 2px rgba(60, 64, 67, 0.3), 0px 1px 3px 1px rgba(60, 64, 67, 0.15);\n",
              "      fill: #174EA6;\n",
              "    }\n",
              "\n",
              "    [theme=dark] .colab-df-convert {\n",
              "      background-color: #3B4455;\n",
              "      fill: #D2E3FC;\n",
              "    }\n",
              "\n",
              "    [theme=dark] .colab-df-convert:hover {\n",
              "      background-color: #434B5C;\n",
              "      box-shadow: 0px 1px 3px 1px rgba(0, 0, 0, 0.15);\n",
              "      filter: drop-shadow(0px 1px 2px rgba(0, 0, 0, 0.3));\n",
              "      fill: #FFFFFF;\n",
              "    }\n",
              "  </style>\n",
              "\n",
              "      <script>\n",
              "        const buttonEl =\n",
              "          document.querySelector('#df-a10d6c86-88ea-4c6f-b1ac-8dd9bd67c9a9 button.colab-df-convert');\n",
              "        buttonEl.style.display =\n",
              "          google.colab.kernel.accessAllowed ? 'block' : 'none';\n",
              "\n",
              "        async function convertToInteractive(key) {\n",
              "          const element = document.querySelector('#df-a10d6c86-88ea-4c6f-b1ac-8dd9bd67c9a9');\n",
              "          const dataTable =\n",
              "            await google.colab.kernel.invokeFunction('convertToInteractive',\n",
              "                                                     [key], {});\n",
              "          if (!dataTable) return;\n",
              "\n",
              "          const docLinkHtml = 'Like what you see? Visit the ' +\n",
              "            '<a target=\"_blank\" href=https://colab.research.google.com/notebooks/data_table.ipynb>data table notebook</a>'\n",
              "            + ' to learn more about interactive tables.';\n",
              "          element.innerHTML = '';\n",
              "          dataTable['output_type'] = 'display_data';\n",
              "          await google.colab.output.renderOutput(dataTable, element);\n",
              "          const docLink = document.createElement('div');\n",
              "          docLink.innerHTML = docLinkHtml;\n",
              "          element.appendChild(docLink);\n",
              "        }\n",
              "      </script>\n",
              "    </div>\n",
              "  </div>\n",
              "  "
            ]
          },
          "metadata": {},
          "execution_count": 116
        }
      ]
    },
    {
      "cell_type": "code",
      "source": [
        "df.tail()"
      ],
      "metadata": {
        "colab": {
          "base_uri": "https://localhost:8080/",
          "height": 206
        },
        "id": "RUMUUk6OqmbY",
        "outputId": "fed89daa-1c2e-462f-9051-1a3337551820"
      },
      "execution_count": 117,
      "outputs": [
        {
          "output_type": "execute_result",
          "data": {
            "text/plain": [
              "      GRE Score  TOEFL Score  University Rating  SOP  LOR   CGPA  Research  \\\n",
              "1193      264.0        110.0                  3  3.5   3.5  9.04         1   \n",
              "1194      105.0        107.0                  3  3.0   3.5  9.11         1   \n",
              "1195      259.0        116.0                  4  5.0   4.5  9.45         1   \n",
              "1196      202.0        103.0                  3  3.5   4.0  8.78         0   \n",
              "1197        0.0        117.0                  4  5.0   4.0  9.66         1   \n",
              "\n",
              "      Chance of Admit   \n",
              "1193              0.82  \n",
              "1194              0.84  \n",
              "1195              0.91  \n",
              "1196              0.67  \n",
              "1197              0.95  "
            ],
            "text/html": [
              "\n",
              "  <div id=\"df-7ea1ad91-8e99-40c8-a1c5-92a614d86836\">\n",
              "    <div class=\"colab-df-container\">\n",
              "      <div>\n",
              "<style scoped>\n",
              "    .dataframe tbody tr th:only-of-type {\n",
              "        vertical-align: middle;\n",
              "    }\n",
              "\n",
              "    .dataframe tbody tr th {\n",
              "        vertical-align: top;\n",
              "    }\n",
              "\n",
              "    .dataframe thead th {\n",
              "        text-align: right;\n",
              "    }\n",
              "</style>\n",
              "<table border=\"1\" class=\"dataframe\">\n",
              "  <thead>\n",
              "    <tr style=\"text-align: right;\">\n",
              "      <th></th>\n",
              "      <th>GRE Score</th>\n",
              "      <th>TOEFL Score</th>\n",
              "      <th>University Rating</th>\n",
              "      <th>SOP</th>\n",
              "      <th>LOR</th>\n",
              "      <th>CGPA</th>\n",
              "      <th>Research</th>\n",
              "      <th>Chance of Admit</th>\n",
              "    </tr>\n",
              "  </thead>\n",
              "  <tbody>\n",
              "    <tr>\n",
              "      <th>1193</th>\n",
              "      <td>264.0</td>\n",
              "      <td>110.0</td>\n",
              "      <td>3</td>\n",
              "      <td>3.5</td>\n",
              "      <td>3.5</td>\n",
              "      <td>9.04</td>\n",
              "      <td>1</td>\n",
              "      <td>0.82</td>\n",
              "    </tr>\n",
              "    <tr>\n",
              "      <th>1194</th>\n",
              "      <td>105.0</td>\n",
              "      <td>107.0</td>\n",
              "      <td>3</td>\n",
              "      <td>3.0</td>\n",
              "      <td>3.5</td>\n",
              "      <td>9.11</td>\n",
              "      <td>1</td>\n",
              "      <td>0.84</td>\n",
              "    </tr>\n",
              "    <tr>\n",
              "      <th>1195</th>\n",
              "      <td>259.0</td>\n",
              "      <td>116.0</td>\n",
              "      <td>4</td>\n",
              "      <td>5.0</td>\n",
              "      <td>4.5</td>\n",
              "      <td>9.45</td>\n",
              "      <td>1</td>\n",
              "      <td>0.91</td>\n",
              "    </tr>\n",
              "    <tr>\n",
              "      <th>1196</th>\n",
              "      <td>202.0</td>\n",
              "      <td>103.0</td>\n",
              "      <td>3</td>\n",
              "      <td>3.5</td>\n",
              "      <td>4.0</td>\n",
              "      <td>8.78</td>\n",
              "      <td>0</td>\n",
              "      <td>0.67</td>\n",
              "    </tr>\n",
              "    <tr>\n",
              "      <th>1197</th>\n",
              "      <td>0.0</td>\n",
              "      <td>117.0</td>\n",
              "      <td>4</td>\n",
              "      <td>5.0</td>\n",
              "      <td>4.0</td>\n",
              "      <td>9.66</td>\n",
              "      <td>1</td>\n",
              "      <td>0.95</td>\n",
              "    </tr>\n",
              "  </tbody>\n",
              "</table>\n",
              "</div>\n",
              "      <button class=\"colab-df-convert\" onclick=\"convertToInteractive('df-7ea1ad91-8e99-40c8-a1c5-92a614d86836')\"\n",
              "              title=\"Convert this dataframe to an interactive table.\"\n",
              "              style=\"display:none;\">\n",
              "        \n",
              "  <svg xmlns=\"http://www.w3.org/2000/svg\" height=\"24px\"viewBox=\"0 0 24 24\"\n",
              "       width=\"24px\">\n",
              "    <path d=\"M0 0h24v24H0V0z\" fill=\"none\"/>\n",
              "    <path d=\"M18.56 5.44l.94 2.06.94-2.06 2.06-.94-2.06-.94-.94-2.06-.94 2.06-2.06.94zm-11 1L8.5 8.5l.94-2.06 2.06-.94-2.06-.94L8.5 2.5l-.94 2.06-2.06.94zm10 10l.94 2.06.94-2.06 2.06-.94-2.06-.94-.94-2.06-.94 2.06-2.06.94z\"/><path d=\"M17.41 7.96l-1.37-1.37c-.4-.4-.92-.59-1.43-.59-.52 0-1.04.2-1.43.59L10.3 9.45l-7.72 7.72c-.78.78-.78 2.05 0 2.83L4 21.41c.39.39.9.59 1.41.59.51 0 1.02-.2 1.41-.59l7.78-7.78 2.81-2.81c.8-.78.8-2.07 0-2.86zM5.41 20L4 18.59l7.72-7.72 1.47 1.35L5.41 20z\"/>\n",
              "  </svg>\n",
              "      </button>\n",
              "      \n",
              "  <style>\n",
              "    .colab-df-container {\n",
              "      display:flex;\n",
              "      flex-wrap:wrap;\n",
              "      gap: 12px;\n",
              "    }\n",
              "\n",
              "    .colab-df-convert {\n",
              "      background-color: #E8F0FE;\n",
              "      border: none;\n",
              "      border-radius: 50%;\n",
              "      cursor: pointer;\n",
              "      display: none;\n",
              "      fill: #1967D2;\n",
              "      height: 32px;\n",
              "      padding: 0 0 0 0;\n",
              "      width: 32px;\n",
              "    }\n",
              "\n",
              "    .colab-df-convert:hover {\n",
              "      background-color: #E2EBFA;\n",
              "      box-shadow: 0px 1px 2px rgba(60, 64, 67, 0.3), 0px 1px 3px 1px rgba(60, 64, 67, 0.15);\n",
              "      fill: #174EA6;\n",
              "    }\n",
              "\n",
              "    [theme=dark] .colab-df-convert {\n",
              "      background-color: #3B4455;\n",
              "      fill: #D2E3FC;\n",
              "    }\n",
              "\n",
              "    [theme=dark] .colab-df-convert:hover {\n",
              "      background-color: #434B5C;\n",
              "      box-shadow: 0px 1px 3px 1px rgba(0, 0, 0, 0.15);\n",
              "      filter: drop-shadow(0px 1px 2px rgba(0, 0, 0, 0.3));\n",
              "      fill: #FFFFFF;\n",
              "    }\n",
              "  </style>\n",
              "\n",
              "      <script>\n",
              "        const buttonEl =\n",
              "          document.querySelector('#df-7ea1ad91-8e99-40c8-a1c5-92a614d86836 button.colab-df-convert');\n",
              "        buttonEl.style.display =\n",
              "          google.colab.kernel.accessAllowed ? 'block' : 'none';\n",
              "\n",
              "        async function convertToInteractive(key) {\n",
              "          const element = document.querySelector('#df-7ea1ad91-8e99-40c8-a1c5-92a614d86836');\n",
              "          const dataTable =\n",
              "            await google.colab.kernel.invokeFunction('convertToInteractive',\n",
              "                                                     [key], {});\n",
              "          if (!dataTable) return;\n",
              "\n",
              "          const docLinkHtml = 'Like what you see? Visit the ' +\n",
              "            '<a target=\"_blank\" href=https://colab.research.google.com/notebooks/data_table.ipynb>data table notebook</a>'\n",
              "            + ' to learn more about interactive tables.';\n",
              "          element.innerHTML = '';\n",
              "          dataTable['output_type'] = 'display_data';\n",
              "          await google.colab.output.renderOutput(dataTable, element);\n",
              "          const docLink = document.createElement('div');\n",
              "          docLink.innerHTML = docLinkHtml;\n",
              "          element.appendChild(docLink);\n",
              "        }\n",
              "      </script>\n",
              "    </div>\n",
              "  </div>\n",
              "  "
            ]
          },
          "metadata": {},
          "execution_count": 117
        }
      ]
    },
    {
      "cell_type": "code",
      "source": [
        "df.info()"
      ],
      "metadata": {
        "colab": {
          "base_uri": "https://localhost:8080/"
        },
        "id": "tZpsnerUqv5T",
        "outputId": "9a13e23a-f5b4-4d70-e71e-cd9b063dc5a0"
      },
      "execution_count": 118,
      "outputs": [
        {
          "output_type": "stream",
          "name": "stdout",
          "text": [
            "<class 'pandas.core.frame.DataFrame'>\n",
            "RangeIndex: 1198 entries, 0 to 1197\n",
            "Data columns (total 8 columns):\n",
            " #   Column             Non-Null Count  Dtype  \n",
            "---  ------             --------------  -----  \n",
            " 0   GRE Score          1178 non-null   float64\n",
            " 1   TOEFL Score        1185 non-null   float64\n",
            " 2   University Rating  1198 non-null   int64  \n",
            " 3   SOP                1198 non-null   float64\n",
            " 4   LOR                1198 non-null   float64\n",
            " 5   CGPA               1198 non-null   float64\n",
            " 6   Research           1198 non-null   int64  \n",
            " 7   Chance of Admit    1198 non-null   float64\n",
            "dtypes: float64(6), int64(2)\n",
            "memory usage: 75.0 KB\n"
          ]
        }
      ]
    },
    {
      "cell_type": "code",
      "source": [
        "df.isnull().any()"
      ],
      "metadata": {
        "colab": {
          "base_uri": "https://localhost:8080/"
        },
        "id": "YUSKEuptqz7b",
        "outputId": "e1bdb3d6-a7b2-4460-e217-8a3dc4946587"
      },
      "execution_count": 119,
      "outputs": [
        {
          "output_type": "execute_result",
          "data": {
            "text/plain": [
              "GRE Score             True\n",
              "TOEFL Score           True\n",
              "University Rating    False\n",
              "SOP                  False\n",
              "LOR                  False\n",
              "CGPA                 False\n",
              "Research             False\n",
              "Chance of Admit      False\n",
              "dtype: bool"
            ]
          },
          "metadata": {},
          "execution_count": 119
        }
      ]
    },
    {
      "cell_type": "code",
      "source": [
        "df.describe()"
      ],
      "metadata": {
        "colab": {
          "base_uri": "https://localhost:8080/",
          "height": 300
        },
        "id": "3gZJynkZrfdx",
        "outputId": "ad02f3a4-191e-4c0c-bd00-0e21b699ad23"
      },
      "execution_count": 120,
      "outputs": [
        {
          "output_type": "execute_result",
          "data": {
            "text/plain": [
              "         GRE Score  TOEFL Score  University Rating          SOP         LOR   \\\n",
              "count  1178.000000  1185.000000        1198.000000  1198.000000  1198.000000   \n",
              "mean    224.246180   107.403376           3.085977     3.398164     3.450751   \n",
              "std      71.747235     6.058219           1.143119     1.005862     0.897455   \n",
              "min       0.000000    92.000000           1.000000     1.000000     1.000000   \n",
              "25%     195.000000   103.000000           2.000000     2.500000     3.000000   \n",
              "50%     236.500000   107.000000           3.000000     3.500000     3.500000   \n",
              "75%     271.000000   112.000000           4.000000     4.000000     4.000000   \n",
              "max     339.000000   120.000000           5.000000     5.000000     5.000000   \n",
              "\n",
              "              CGPA     Research  Chance of Admit   \n",
              "count  1198.000000  1198.000000       1198.000000  \n",
              "mean      8.597170     0.546745          0.724023  \n",
              "std       0.594765     0.498018          0.142385  \n",
              "min       6.800000     0.000000          0.340000  \n",
              "25%       8.170000     0.000000          0.640000  \n",
              "50%       8.600000     1.000000          0.730000  \n",
              "75%       9.060000     1.000000          0.830000  \n",
              "max       9.920000     1.000000          0.970000  "
            ],
            "text/html": [
              "\n",
              "  <div id=\"df-f5e4e6ac-26e9-412a-a9a5-8d0de0b5a7f4\">\n",
              "    <div class=\"colab-df-container\">\n",
              "      <div>\n",
              "<style scoped>\n",
              "    .dataframe tbody tr th:only-of-type {\n",
              "        vertical-align: middle;\n",
              "    }\n",
              "\n",
              "    .dataframe tbody tr th {\n",
              "        vertical-align: top;\n",
              "    }\n",
              "\n",
              "    .dataframe thead th {\n",
              "        text-align: right;\n",
              "    }\n",
              "</style>\n",
              "<table border=\"1\" class=\"dataframe\">\n",
              "  <thead>\n",
              "    <tr style=\"text-align: right;\">\n",
              "      <th></th>\n",
              "      <th>GRE Score</th>\n",
              "      <th>TOEFL Score</th>\n",
              "      <th>University Rating</th>\n",
              "      <th>SOP</th>\n",
              "      <th>LOR</th>\n",
              "      <th>CGPA</th>\n",
              "      <th>Research</th>\n",
              "      <th>Chance of Admit</th>\n",
              "    </tr>\n",
              "  </thead>\n",
              "  <tbody>\n",
              "    <tr>\n",
              "      <th>count</th>\n",
              "      <td>1178.000000</td>\n",
              "      <td>1185.000000</td>\n",
              "      <td>1198.000000</td>\n",
              "      <td>1198.000000</td>\n",
              "      <td>1198.000000</td>\n",
              "      <td>1198.000000</td>\n",
              "      <td>1198.000000</td>\n",
              "      <td>1198.000000</td>\n",
              "    </tr>\n",
              "    <tr>\n",
              "      <th>mean</th>\n",
              "      <td>224.246180</td>\n",
              "      <td>107.403376</td>\n",
              "      <td>3.085977</td>\n",
              "      <td>3.398164</td>\n",
              "      <td>3.450751</td>\n",
              "      <td>8.597170</td>\n",
              "      <td>0.546745</td>\n",
              "      <td>0.724023</td>\n",
              "    </tr>\n",
              "    <tr>\n",
              "      <th>std</th>\n",
              "      <td>71.747235</td>\n",
              "      <td>6.058219</td>\n",
              "      <td>1.143119</td>\n",
              "      <td>1.005862</td>\n",
              "      <td>0.897455</td>\n",
              "      <td>0.594765</td>\n",
              "      <td>0.498018</td>\n",
              "      <td>0.142385</td>\n",
              "    </tr>\n",
              "    <tr>\n",
              "      <th>min</th>\n",
              "      <td>0.000000</td>\n",
              "      <td>92.000000</td>\n",
              "      <td>1.000000</td>\n",
              "      <td>1.000000</td>\n",
              "      <td>1.000000</td>\n",
              "      <td>6.800000</td>\n",
              "      <td>0.000000</td>\n",
              "      <td>0.340000</td>\n",
              "    </tr>\n",
              "    <tr>\n",
              "      <th>25%</th>\n",
              "      <td>195.000000</td>\n",
              "      <td>103.000000</td>\n",
              "      <td>2.000000</td>\n",
              "      <td>2.500000</td>\n",
              "      <td>3.000000</td>\n",
              "      <td>8.170000</td>\n",
              "      <td>0.000000</td>\n",
              "      <td>0.640000</td>\n",
              "    </tr>\n",
              "    <tr>\n",
              "      <th>50%</th>\n",
              "      <td>236.500000</td>\n",
              "      <td>107.000000</td>\n",
              "      <td>3.000000</td>\n",
              "      <td>3.500000</td>\n",
              "      <td>3.500000</td>\n",
              "      <td>8.600000</td>\n",
              "      <td>1.000000</td>\n",
              "      <td>0.730000</td>\n",
              "    </tr>\n",
              "    <tr>\n",
              "      <th>75%</th>\n",
              "      <td>271.000000</td>\n",
              "      <td>112.000000</td>\n",
              "      <td>4.000000</td>\n",
              "      <td>4.000000</td>\n",
              "      <td>4.000000</td>\n",
              "      <td>9.060000</td>\n",
              "      <td>1.000000</td>\n",
              "      <td>0.830000</td>\n",
              "    </tr>\n",
              "    <tr>\n",
              "      <th>max</th>\n",
              "      <td>339.000000</td>\n",
              "      <td>120.000000</td>\n",
              "      <td>5.000000</td>\n",
              "      <td>5.000000</td>\n",
              "      <td>5.000000</td>\n",
              "      <td>9.920000</td>\n",
              "      <td>1.000000</td>\n",
              "      <td>0.970000</td>\n",
              "    </tr>\n",
              "  </tbody>\n",
              "</table>\n",
              "</div>\n",
              "      <button class=\"colab-df-convert\" onclick=\"convertToInteractive('df-f5e4e6ac-26e9-412a-a9a5-8d0de0b5a7f4')\"\n",
              "              title=\"Convert this dataframe to an interactive table.\"\n",
              "              style=\"display:none;\">\n",
              "        \n",
              "  <svg xmlns=\"http://www.w3.org/2000/svg\" height=\"24px\"viewBox=\"0 0 24 24\"\n",
              "       width=\"24px\">\n",
              "    <path d=\"M0 0h24v24H0V0z\" fill=\"none\"/>\n",
              "    <path d=\"M18.56 5.44l.94 2.06.94-2.06 2.06-.94-2.06-.94-.94-2.06-.94 2.06-2.06.94zm-11 1L8.5 8.5l.94-2.06 2.06-.94-2.06-.94L8.5 2.5l-.94 2.06-2.06.94zm10 10l.94 2.06.94-2.06 2.06-.94-2.06-.94-.94-2.06-.94 2.06-2.06.94z\"/><path d=\"M17.41 7.96l-1.37-1.37c-.4-.4-.92-.59-1.43-.59-.52 0-1.04.2-1.43.59L10.3 9.45l-7.72 7.72c-.78.78-.78 2.05 0 2.83L4 21.41c.39.39.9.59 1.41.59.51 0 1.02-.2 1.41-.59l7.78-7.78 2.81-2.81c.8-.78.8-2.07 0-2.86zM5.41 20L4 18.59l7.72-7.72 1.47 1.35L5.41 20z\"/>\n",
              "  </svg>\n",
              "      </button>\n",
              "      \n",
              "  <style>\n",
              "    .colab-df-container {\n",
              "      display:flex;\n",
              "      flex-wrap:wrap;\n",
              "      gap: 12px;\n",
              "    }\n",
              "\n",
              "    .colab-df-convert {\n",
              "      background-color: #E8F0FE;\n",
              "      border: none;\n",
              "      border-radius: 50%;\n",
              "      cursor: pointer;\n",
              "      display: none;\n",
              "      fill: #1967D2;\n",
              "      height: 32px;\n",
              "      padding: 0 0 0 0;\n",
              "      width: 32px;\n",
              "    }\n",
              "\n",
              "    .colab-df-convert:hover {\n",
              "      background-color: #E2EBFA;\n",
              "      box-shadow: 0px 1px 2px rgba(60, 64, 67, 0.3), 0px 1px 3px 1px rgba(60, 64, 67, 0.15);\n",
              "      fill: #174EA6;\n",
              "    }\n",
              "\n",
              "    [theme=dark] .colab-df-convert {\n",
              "      background-color: #3B4455;\n",
              "      fill: #D2E3FC;\n",
              "    }\n",
              "\n",
              "    [theme=dark] .colab-df-convert:hover {\n",
              "      background-color: #434B5C;\n",
              "      box-shadow: 0px 1px 3px 1px rgba(0, 0, 0, 0.15);\n",
              "      filter: drop-shadow(0px 1px 2px rgba(0, 0, 0, 0.3));\n",
              "      fill: #FFFFFF;\n",
              "    }\n",
              "  </style>\n",
              "\n",
              "      <script>\n",
              "        const buttonEl =\n",
              "          document.querySelector('#df-f5e4e6ac-26e9-412a-a9a5-8d0de0b5a7f4 button.colab-df-convert');\n",
              "        buttonEl.style.display =\n",
              "          google.colab.kernel.accessAllowed ? 'block' : 'none';\n",
              "\n",
              "        async function convertToInteractive(key) {\n",
              "          const element = document.querySelector('#df-f5e4e6ac-26e9-412a-a9a5-8d0de0b5a7f4');\n",
              "          const dataTable =\n",
              "            await google.colab.kernel.invokeFunction('convertToInteractive',\n",
              "                                                     [key], {});\n",
              "          if (!dataTable) return;\n",
              "\n",
              "          const docLinkHtml = 'Like what you see? Visit the ' +\n",
              "            '<a target=\"_blank\" href=https://colab.research.google.com/notebooks/data_table.ipynb>data table notebook</a>'\n",
              "            + ' to learn more about interactive tables.';\n",
              "          element.innerHTML = '';\n",
              "          dataTable['output_type'] = 'display_data';\n",
              "          await google.colab.output.renderOutput(dataTable, element);\n",
              "          const docLink = document.createElement('div');\n",
              "          docLink.innerHTML = docLinkHtml;\n",
              "          element.appendChild(docLink);\n",
              "        }\n",
              "      </script>\n",
              "    </div>\n",
              "  </div>\n",
              "  "
            ]
          },
          "metadata": {},
          "execution_count": 120
        }
      ]
    },
    {
      "cell_type": "code",
      "source": [
        "x=df.iloc[:,0:7]\n",
        "x.head()"
      ],
      "metadata": {
        "colab": {
          "base_uri": "https://localhost:8080/",
          "height": 206
        },
        "id": "DZcxSVvJrzjb",
        "outputId": "96629976-76a9-47d8-ef86-a7fbef047cf5"
      },
      "execution_count": 121,
      "outputs": [
        {
          "output_type": "execute_result",
          "data": {
            "text/plain": [
              "   GRE Score  TOEFL Score  University Rating  SOP  LOR   CGPA  Research\n",
              "0      337.0        118.0                  4  4.5   4.5  9.65         1\n",
              "1      264.0        107.0                  4  4.0   4.5  8.87         1\n",
              "2      216.0        104.0                  3  3.0   3.5  8.00         1\n",
              "3      271.0        110.0                  3  3.5   2.5  8.67         1\n",
              "4      203.0        103.0                  2  2.0   3.0  8.21         0"
            ],
            "text/html": [
              "\n",
              "  <div id=\"df-c015dca4-dae9-442e-a45b-f5747a0a0c05\">\n",
              "    <div class=\"colab-df-container\">\n",
              "      <div>\n",
              "<style scoped>\n",
              "    .dataframe tbody tr th:only-of-type {\n",
              "        vertical-align: middle;\n",
              "    }\n",
              "\n",
              "    .dataframe tbody tr th {\n",
              "        vertical-align: top;\n",
              "    }\n",
              "\n",
              "    .dataframe thead th {\n",
              "        text-align: right;\n",
              "    }\n",
              "</style>\n",
              "<table border=\"1\" class=\"dataframe\">\n",
              "  <thead>\n",
              "    <tr style=\"text-align: right;\">\n",
              "      <th></th>\n",
              "      <th>GRE Score</th>\n",
              "      <th>TOEFL Score</th>\n",
              "      <th>University Rating</th>\n",
              "      <th>SOP</th>\n",
              "      <th>LOR</th>\n",
              "      <th>CGPA</th>\n",
              "      <th>Research</th>\n",
              "    </tr>\n",
              "  </thead>\n",
              "  <tbody>\n",
              "    <tr>\n",
              "      <th>0</th>\n",
              "      <td>337.0</td>\n",
              "      <td>118.0</td>\n",
              "      <td>4</td>\n",
              "      <td>4.5</td>\n",
              "      <td>4.5</td>\n",
              "      <td>9.65</td>\n",
              "      <td>1</td>\n",
              "    </tr>\n",
              "    <tr>\n",
              "      <th>1</th>\n",
              "      <td>264.0</td>\n",
              "      <td>107.0</td>\n",
              "      <td>4</td>\n",
              "      <td>4.0</td>\n",
              "      <td>4.5</td>\n",
              "      <td>8.87</td>\n",
              "      <td>1</td>\n",
              "    </tr>\n",
              "    <tr>\n",
              "      <th>2</th>\n",
              "      <td>216.0</td>\n",
              "      <td>104.0</td>\n",
              "      <td>3</td>\n",
              "      <td>3.0</td>\n",
              "      <td>3.5</td>\n",
              "      <td>8.00</td>\n",
              "      <td>1</td>\n",
              "    </tr>\n",
              "    <tr>\n",
              "      <th>3</th>\n",
              "      <td>271.0</td>\n",
              "      <td>110.0</td>\n",
              "      <td>3</td>\n",
              "      <td>3.5</td>\n",
              "      <td>2.5</td>\n",
              "      <td>8.67</td>\n",
              "      <td>1</td>\n",
              "    </tr>\n",
              "    <tr>\n",
              "      <th>4</th>\n",
              "      <td>203.0</td>\n",
              "      <td>103.0</td>\n",
              "      <td>2</td>\n",
              "      <td>2.0</td>\n",
              "      <td>3.0</td>\n",
              "      <td>8.21</td>\n",
              "      <td>0</td>\n",
              "    </tr>\n",
              "  </tbody>\n",
              "</table>\n",
              "</div>\n",
              "      <button class=\"colab-df-convert\" onclick=\"convertToInteractive('df-c015dca4-dae9-442e-a45b-f5747a0a0c05')\"\n",
              "              title=\"Convert this dataframe to an interactive table.\"\n",
              "              style=\"display:none;\">\n",
              "        \n",
              "  <svg xmlns=\"http://www.w3.org/2000/svg\" height=\"24px\"viewBox=\"0 0 24 24\"\n",
              "       width=\"24px\">\n",
              "    <path d=\"M0 0h24v24H0V0z\" fill=\"none\"/>\n",
              "    <path d=\"M18.56 5.44l.94 2.06.94-2.06 2.06-.94-2.06-.94-.94-2.06-.94 2.06-2.06.94zm-11 1L8.5 8.5l.94-2.06 2.06-.94-2.06-.94L8.5 2.5l-.94 2.06-2.06.94zm10 10l.94 2.06.94-2.06 2.06-.94-2.06-.94-.94-2.06-.94 2.06-2.06.94z\"/><path d=\"M17.41 7.96l-1.37-1.37c-.4-.4-.92-.59-1.43-.59-.52 0-1.04.2-1.43.59L10.3 9.45l-7.72 7.72c-.78.78-.78 2.05 0 2.83L4 21.41c.39.39.9.59 1.41.59.51 0 1.02-.2 1.41-.59l7.78-7.78 2.81-2.81c.8-.78.8-2.07 0-2.86zM5.41 20L4 18.59l7.72-7.72 1.47 1.35L5.41 20z\"/>\n",
              "  </svg>\n",
              "      </button>\n",
              "      \n",
              "  <style>\n",
              "    .colab-df-container {\n",
              "      display:flex;\n",
              "      flex-wrap:wrap;\n",
              "      gap: 12px;\n",
              "    }\n",
              "\n",
              "    .colab-df-convert {\n",
              "      background-color: #E8F0FE;\n",
              "      border: none;\n",
              "      border-radius: 50%;\n",
              "      cursor: pointer;\n",
              "      display: none;\n",
              "      fill: #1967D2;\n",
              "      height: 32px;\n",
              "      padding: 0 0 0 0;\n",
              "      width: 32px;\n",
              "    }\n",
              "\n",
              "    .colab-df-convert:hover {\n",
              "      background-color: #E2EBFA;\n",
              "      box-shadow: 0px 1px 2px rgba(60, 64, 67, 0.3), 0px 1px 3px 1px rgba(60, 64, 67, 0.15);\n",
              "      fill: #174EA6;\n",
              "    }\n",
              "\n",
              "    [theme=dark] .colab-df-convert {\n",
              "      background-color: #3B4455;\n",
              "      fill: #D2E3FC;\n",
              "    }\n",
              "\n",
              "    [theme=dark] .colab-df-convert:hover {\n",
              "      background-color: #434B5C;\n",
              "      box-shadow: 0px 1px 3px 1px rgba(0, 0, 0, 0.15);\n",
              "      filter: drop-shadow(0px 1px 2px rgba(0, 0, 0, 0.3));\n",
              "      fill: #FFFFFF;\n",
              "    }\n",
              "  </style>\n",
              "\n",
              "      <script>\n",
              "        const buttonEl =\n",
              "          document.querySelector('#df-c015dca4-dae9-442e-a45b-f5747a0a0c05 button.colab-df-convert');\n",
              "        buttonEl.style.display =\n",
              "          google.colab.kernel.accessAllowed ? 'block' : 'none';\n",
              "\n",
              "        async function convertToInteractive(key) {\n",
              "          const element = document.querySelector('#df-c015dca4-dae9-442e-a45b-f5747a0a0c05');\n",
              "          const dataTable =\n",
              "            await google.colab.kernel.invokeFunction('convertToInteractive',\n",
              "                                                     [key], {});\n",
              "          if (!dataTable) return;\n",
              "\n",
              "          const docLinkHtml = 'Like what you see? Visit the ' +\n",
              "            '<a target=\"_blank\" href=https://colab.research.google.com/notebooks/data_table.ipynb>data table notebook</a>'\n",
              "            + ' to learn more about interactive tables.';\n",
              "          element.innerHTML = '';\n",
              "          dataTable['output_type'] = 'display_data';\n",
              "          await google.colab.output.renderOutput(dataTable, element);\n",
              "          const docLink = document.createElement('div');\n",
              "          docLink.innerHTML = docLinkHtml;\n",
              "          element.appendChild(docLink);\n",
              "        }\n",
              "      </script>\n",
              "    </div>\n",
              "  </div>\n",
              "  "
            ]
          },
          "metadata": {},
          "execution_count": 121
        }
      ]
    },
    {
      "cell_type": "code",
      "source": [
        "y=df.iloc[:,7:8]\n",
        "y.head()"
      ],
      "metadata": {
        "colab": {
          "base_uri": "https://localhost:8080/",
          "height": 206
        },
        "id": "R0rqisbSr1Wz",
        "outputId": "8c566ad3-1b44-4f31-e53f-5df2389acecb"
      },
      "execution_count": 122,
      "outputs": [
        {
          "output_type": "execute_result",
          "data": {
            "text/plain": [
              "   Chance of Admit \n",
              "0              0.92\n",
              "1              0.76\n",
              "2              0.72\n",
              "3              0.80\n",
              "4              0.65"
            ],
            "text/html": [
              "\n",
              "  <div id=\"df-2c552103-9d58-43b5-9d46-90d198c624b8\">\n",
              "    <div class=\"colab-df-container\">\n",
              "      <div>\n",
              "<style scoped>\n",
              "    .dataframe tbody tr th:only-of-type {\n",
              "        vertical-align: middle;\n",
              "    }\n",
              "\n",
              "    .dataframe tbody tr th {\n",
              "        vertical-align: top;\n",
              "    }\n",
              "\n",
              "    .dataframe thead th {\n",
              "        text-align: right;\n",
              "    }\n",
              "</style>\n",
              "<table border=\"1\" class=\"dataframe\">\n",
              "  <thead>\n",
              "    <tr style=\"text-align: right;\">\n",
              "      <th></th>\n",
              "      <th>Chance of Admit</th>\n",
              "    </tr>\n",
              "  </thead>\n",
              "  <tbody>\n",
              "    <tr>\n",
              "      <th>0</th>\n",
              "      <td>0.92</td>\n",
              "    </tr>\n",
              "    <tr>\n",
              "      <th>1</th>\n",
              "      <td>0.76</td>\n",
              "    </tr>\n",
              "    <tr>\n",
              "      <th>2</th>\n",
              "      <td>0.72</td>\n",
              "    </tr>\n",
              "    <tr>\n",
              "      <th>3</th>\n",
              "      <td>0.80</td>\n",
              "    </tr>\n",
              "    <tr>\n",
              "      <th>4</th>\n",
              "      <td>0.65</td>\n",
              "    </tr>\n",
              "  </tbody>\n",
              "</table>\n",
              "</div>\n",
              "      <button class=\"colab-df-convert\" onclick=\"convertToInteractive('df-2c552103-9d58-43b5-9d46-90d198c624b8')\"\n",
              "              title=\"Convert this dataframe to an interactive table.\"\n",
              "              style=\"display:none;\">\n",
              "        \n",
              "  <svg xmlns=\"http://www.w3.org/2000/svg\" height=\"24px\"viewBox=\"0 0 24 24\"\n",
              "       width=\"24px\">\n",
              "    <path d=\"M0 0h24v24H0V0z\" fill=\"none\"/>\n",
              "    <path d=\"M18.56 5.44l.94 2.06.94-2.06 2.06-.94-2.06-.94-.94-2.06-.94 2.06-2.06.94zm-11 1L8.5 8.5l.94-2.06 2.06-.94-2.06-.94L8.5 2.5l-.94 2.06-2.06.94zm10 10l.94 2.06.94-2.06 2.06-.94-2.06-.94-.94-2.06-.94 2.06-2.06.94z\"/><path d=\"M17.41 7.96l-1.37-1.37c-.4-.4-.92-.59-1.43-.59-.52 0-1.04.2-1.43.59L10.3 9.45l-7.72 7.72c-.78.78-.78 2.05 0 2.83L4 21.41c.39.39.9.59 1.41.59.51 0 1.02-.2 1.41-.59l7.78-7.78 2.81-2.81c.8-.78.8-2.07 0-2.86zM5.41 20L4 18.59l7.72-7.72 1.47 1.35L5.41 20z\"/>\n",
              "  </svg>\n",
              "      </button>\n",
              "      \n",
              "  <style>\n",
              "    .colab-df-container {\n",
              "      display:flex;\n",
              "      flex-wrap:wrap;\n",
              "      gap: 12px;\n",
              "    }\n",
              "\n",
              "    .colab-df-convert {\n",
              "      background-color: #E8F0FE;\n",
              "      border: none;\n",
              "      border-radius: 50%;\n",
              "      cursor: pointer;\n",
              "      display: none;\n",
              "      fill: #1967D2;\n",
              "      height: 32px;\n",
              "      padding: 0 0 0 0;\n",
              "      width: 32px;\n",
              "    }\n",
              "\n",
              "    .colab-df-convert:hover {\n",
              "      background-color: #E2EBFA;\n",
              "      box-shadow: 0px 1px 2px rgba(60, 64, 67, 0.3), 0px 1px 3px 1px rgba(60, 64, 67, 0.15);\n",
              "      fill: #174EA6;\n",
              "    }\n",
              "\n",
              "    [theme=dark] .colab-df-convert {\n",
              "      background-color: #3B4455;\n",
              "      fill: #D2E3FC;\n",
              "    }\n",
              "\n",
              "    [theme=dark] .colab-df-convert:hover {\n",
              "      background-color: #434B5C;\n",
              "      box-shadow: 0px 1px 3px 1px rgba(0, 0, 0, 0.15);\n",
              "      filter: drop-shadow(0px 1px 2px rgba(0, 0, 0, 0.3));\n",
              "      fill: #FFFFFF;\n",
              "    }\n",
              "  </style>\n",
              "\n",
              "      <script>\n",
              "        const buttonEl =\n",
              "          document.querySelector('#df-2c552103-9d58-43b5-9d46-90d198c624b8 button.colab-df-convert');\n",
              "        buttonEl.style.display =\n",
              "          google.colab.kernel.accessAllowed ? 'block' : 'none';\n",
              "\n",
              "        async function convertToInteractive(key) {\n",
              "          const element = document.querySelector('#df-2c552103-9d58-43b5-9d46-90d198c624b8');\n",
              "          const dataTable =\n",
              "            await google.colab.kernel.invokeFunction('convertToInteractive',\n",
              "                                                     [key], {});\n",
              "          if (!dataTable) return;\n",
              "\n",
              "          const docLinkHtml = 'Like what you see? Visit the ' +\n",
              "            '<a target=\"_blank\" href=https://colab.research.google.com/notebooks/data_table.ipynb>data table notebook</a>'\n",
              "            + ' to learn more about interactive tables.';\n",
              "          element.innerHTML = '';\n",
              "          dataTable['output_type'] = 'display_data';\n",
              "          await google.colab.output.renderOutput(dataTable, element);\n",
              "          const docLink = document.createElement('div');\n",
              "          docLink.innerHTML = docLinkHtml;\n",
              "          element.appendChild(docLink);\n",
              "        }\n",
              "      </script>\n",
              "    </div>\n",
              "  </div>\n",
              "  "
            ]
          },
          "metadata": {},
          "execution_count": 122
        }
      ]
    },
    {
      "cell_type": "code",
      "source": [
        "df.fillna(df.mean().round(1), inplace=True)\n",
        "df.isnull().any()"
      ],
      "metadata": {
        "colab": {
          "base_uri": "https://localhost:8080/"
        },
        "id": "PWkvq77MsAMg",
        "outputId": "7eeb85d9-b86b-403e-9296-c2c4cd2229ba"
      },
      "execution_count": 307,
      "outputs": [
        {
          "output_type": "execute_result",
          "data": {
            "text/plain": [
              "GRE Score            False\n",
              "TOEFL Score          False\n",
              "University Rating    False\n",
              "SOP                  False\n",
              "LOR                  False\n",
              "CGPA                 False\n",
              "Research             False\n",
              "Chance of Admit      False\n",
              "dtype: bool"
            ]
          },
          "metadata": {},
          "execution_count": 307
        }
      ]
    },
    {
      "cell_type": "markdown",
      "source": [
        "## **OUTLIER DETECTION**"
      ],
      "metadata": {
        "id": "8ohBhMpn11rz"
      }
    },
    {
      "cell_type": "markdown",
      "source": [
        "### **BOX PLOT**"
      ],
      "metadata": {
        "id": "5hYXb230F4aX"
      }
    },
    {
      "cell_type": "code",
      "source": [
        "plt.figure(1,figsize=(10,6))\n",
        "plt.subplot(1,4,1)\n",
        "fig1 = plt.boxplot(df['GRE Score'])\n",
        "plt.title(\"GRE Scores\")\n",
        "plt.subplot(1,4,2)\n",
        "fig2 = plt.boxplot(df['TOEFL Score'])\n",
        "plt.title(\"TOEFL Scores\")\n",
        "plt.subplot(1,4,3)\n",
        "fig3= plt.boxplot(df['University Rating'])\n",
        "plt.title('University Rating')\n",
        "plt.subplot(1,4,4)\n",
        "fig4= plt.boxplot(df['CGPA'])\n",
        "plt.title('CGPA')\n"
      ],
      "metadata": {
        "colab": {
          "base_uri": "https://localhost:8080/",
          "height": 407
        },
        "id": "Ho-LpyyOu4cx",
        "outputId": "10a203d2-78fc-4535-bcea-0b16490d9f7d"
      },
      "execution_count": 124,
      "outputs": [
        {
          "output_type": "execute_result",
          "data": {
            "text/plain": [
              "Text(0.5, 1.0, 'CGPA')"
            ]
          },
          "metadata": {},
          "execution_count": 124
        },
        {
          "output_type": "display_data",
          "data": {
            "text/plain": [
              "<Figure size 720x432 with 4 Axes>"
            ],
            "image/png": "[encoded data removed]"
          },
          "metadata": {
            "needs_background": "light"
          }
        }
      ]
    },
    {
      "cell_type": "markdown",
      "source": [
        "Above BoX-plot shows the min,median and max values for GRE,TOEFL,University rating and CGPA for the dataset."
      ],
      "metadata": {
        "id": "voropJaJvCD3"
      }
    },
    {
      "cell_type": "markdown",
      "source": [
        "### **OUTLIER HANDLING-REMOVING OUTLIERS**"
      ],
      "metadata": {
        "id": "XWHvo2KSGGtL"
      }
    },
    {
      "cell_type": "code",
      "source": [
        "import numpy as np\n"
      ],
      "metadata": {
        "id": "4K9EVylyCuV9"
      },
      "execution_count": 125,
      "outputs": []
    },
    {
      "cell_type": "code",
      "source": [
        "df"
      ],
      "metadata": {
        "colab": {
          "base_uri": "https://localhost:8080/",
          "height": 424
        },
        "id": "Gg_AyJYaC0Bd",
        "outputId": "bc4a9533-f734-4cbe-8169-59d8e0a64976"
      },
      "execution_count": 126,
      "outputs": [
        {
          "output_type": "execute_result",
          "data": {
            "text/plain": [
              "      GRE Score  TOEFL Score  University Rating  SOP  LOR   CGPA  Research  \\\n",
              "0         337.0        118.0                  4  4.5   4.5  9.65         1   \n",
              "1         264.0        107.0                  4  4.0   4.5  8.87         1   \n",
              "2         216.0        104.0                  3  3.0   3.5  8.00         1   \n",
              "3         271.0        110.0                  3  3.5   2.5  8.67         1   \n",
              "4         203.0        103.0                  2  2.0   3.0  8.21         0   \n",
              "...         ...          ...                ...  ...   ...   ...       ...   \n",
              "1193      264.0        110.0                  3  3.5   3.5  9.04         1   \n",
              "1194      105.0        107.0                  3  3.0   3.5  9.11         1   \n",
              "1195      259.0        116.0                  4  5.0   4.5  9.45         1   \n",
              "1196      202.0        103.0                  3  3.5   4.0  8.78         0   \n",
              "1197        0.0        117.0                  4  5.0   4.0  9.66         1   \n",
              "\n",
              "      Chance of Admit   \n",
              "0                 0.92  \n",
              "1                 0.76  \n",
              "2                 0.72  \n",
              "3                 0.80  \n",
              "4                 0.65  \n",
              "...                ...  \n",
              "1193              0.82  \n",
              "1194              0.84  \n",
              "1195              0.91  \n",
              "1196              0.67  \n",
              "1197              0.95  \n",
              "\n",
              "[1198 rows x 8 columns]"
            ],
            "text/html": [
              "\n",
              "  <div id=\"df-dd4017cf-085e-46bd-be62-4e893e33a307\">\n",
              "    <div class=\"colab-df-container\">\n",
              "      <div>\n",
              "<style scoped>\n",
              "    .dataframe tbody tr th:only-of-type {\n",
              "        vertical-align: middle;\n",
              "    }\n",
              "\n",
              "    .dataframe tbody tr th {\n",
              "        vertical-align: top;\n",
              "    }\n",
              "\n",
              "    .dataframe thead th {\n",
              "        text-align: right;\n",
              "    }\n",
              "</style>\n",
              "<table border=\"1\" class=\"dataframe\">\n",
              "  <thead>\n",
              "    <tr style=\"text-align: right;\">\n",
              "      <th></th>\n",
              "      <th>GRE Score</th>\n",
              "      <th>TOEFL Score</th>\n",
              "      <th>University Rating</th>\n",
              "      <th>SOP</th>\n",
              "      <th>LOR</th>\n",
              "      <th>CGPA</th>\n",
              "      <th>Research</th>\n",
              "      <th>Chance of Admit</th>\n",
              "    </tr>\n",
              "  </thead>\n",
              "  <tbody>\n",
              "    <tr>\n",
              "      <th>0</th>\n",
              "      <td>337.0</td>\n",
              "      <td>118.0</td>\n",
              "      <td>4</td>\n",
              "      <td>4.5</td>\n",
              "      <td>4.5</td>\n",
              "      <td>9.65</td>\n",
              "      <td>1</td>\n",
              "      <td>0.92</td>\n",
              "    </tr>\n",
              "    <tr>\n",
              "      <th>1</th>\n",
              "      <td>264.0</td>\n",
              "      <td>107.0</td>\n",
              "      <td>4</td>\n",
              "      <td>4.0</td>\n",
              "      <td>4.5</td>\n",
              "      <td>8.87</td>\n",
              "      <td>1</td>\n",
              "      <td>0.76</td>\n",
              "    </tr>\n",
              "    <tr>\n",
              "      <th>2</th>\n",
              "      <td>216.0</td>\n",
              "      <td>104.0</td>\n",
              "      <td>3</td>\n",
              "      <td>3.0</td>\n",
              "      <td>3.5</td>\n",
              "      <td>8.00</td>\n",
              "      <td>1</td>\n",
              "      <td>0.72</td>\n",
              "    </tr>\n",
              "    <tr>\n",
              "      <th>3</th>\n",
              "      <td>271.0</td>\n",
              "      <td>110.0</td>\n",
              "      <td>3</td>\n",
              "      <td>3.5</td>\n",
              "      <td>2.5</td>\n",
              "      <td>8.67</td>\n",
              "      <td>1</td>\n",
              "      <td>0.80</td>\n",
              "    </tr>\n",
              "    <tr>\n",
              "      <th>4</th>\n",
              "      <td>203.0</td>\n",
              "      <td>103.0</td>\n",
              "      <td>2</td>\n",
              "      <td>2.0</td>\n",
              "      <td>3.0</td>\n",
              "      <td>8.21</td>\n",
              "      <td>0</td>\n",
              "      <td>0.65</td>\n",
              "    </tr>\n",
              "    <tr>\n",
              "      <th>...</th>\n",
              "      <td>...</td>\n",
              "      <td>...</td>\n",
              "      <td>...</td>\n",
              "      <td>...</td>\n",
              "      <td>...</td>\n",
              "      <td>...</td>\n",
              "      <td>...</td>\n",
              "      <td>...</td>\n",
              "    </tr>\n",
              "    <tr>\n",
              "      <th>1193</th>\n",
              "      <td>264.0</td>\n",
              "      <td>110.0</td>\n",
              "      <td>3</td>\n",
              "      <td>3.5</td>\n",
              "      <td>3.5</td>\n",
              "      <td>9.04</td>\n",
              "      <td>1</td>\n",
              "      <td>0.82</td>\n",
              "    </tr>\n",
              "    <tr>\n",
              "      <th>1194</th>\n",
              "      <td>105.0</td>\n",
              "      <td>107.0</td>\n",
              "      <td>3</td>\n",
              "      <td>3.0</td>\n",
              "      <td>3.5</td>\n",
              "      <td>9.11</td>\n",
              "      <td>1</td>\n",
              "      <td>0.84</td>\n",
              "    </tr>\n",
              "    <tr>\n",
              "      <th>1195</th>\n",
              "      <td>259.0</td>\n",
              "      <td>116.0</td>\n",
              "      <td>4</td>\n",
              "      <td>5.0</td>\n",
              "      <td>4.5</td>\n",
              "      <td>9.45</td>\n",
              "      <td>1</td>\n",
              "      <td>0.91</td>\n",
              "    </tr>\n",
              "    <tr>\n",
              "      <th>1196</th>\n",
              "      <td>202.0</td>\n",
              "      <td>103.0</td>\n",
              "      <td>3</td>\n",
              "      <td>3.5</td>\n",
              "      <td>4.0</td>\n",
              "      <td>8.78</td>\n",
              "      <td>0</td>\n",
              "      <td>0.67</td>\n",
              "    </tr>\n",
              "    <tr>\n",
              "      <th>1197</th>\n",
              "      <td>0.0</td>\n",
              "      <td>117.0</td>\n",
              "      <td>4</td>\n",
              "      <td>5.0</td>\n",
              "      <td>4.0</td>\n",
              "      <td>9.66</td>\n",
              "      <td>1</td>\n",
              "      <td>0.95</td>\n",
              "    </tr>\n",
              "  </tbody>\n",
              "</table>\n",
              "<p>1198 rows × 8 columns</p>\n",
              "</div>\n",
              "      <button class=\"colab-df-convert\" onclick=\"convertToInteractive('df-dd4017cf-085e-46bd-be62-4e893e33a307')\"\n",
              "              title=\"Convert this dataframe to an interactive table.\"\n",
              "              style=\"display:none;\">\n",
              "        \n",
              "  <svg xmlns=\"http://www.w3.org/2000/svg\" height=\"24px\"viewBox=\"0 0 24 24\"\n",
              "       width=\"24px\">\n",
              "    <path d=\"M0 0h24v24H0V0z\" fill=\"none\"/>\n",
              "    <path d=\"M18.56 5.44l.94 2.06.94-2.06 2.06-.94-2.06-.94-.94-2.06-.94 2.06-2.06.94zm-11 1L8.5 8.5l.94-2.06 2.06-.94-2.06-.94L8.5 2.5l-.94 2.06-2.06.94zm10 10l.94 2.06.94-2.06 2.06-.94-2.06-.94-.94-2.06-.94 2.06-2.06.94z\"/><path d=\"M17.41 7.96l-1.37-1.37c-.4-.4-.92-.59-1.43-.59-.52 0-1.04.2-1.43.59L10.3 9.45l-7.72 7.72c-.78.78-.78 2.05 0 2.83L4 21.41c.39.39.9.59 1.41.59.51 0 1.02-.2 1.41-.59l7.78-7.78 2.81-2.81c.8-.78.8-2.07 0-2.86zM5.41 20L4 18.59l7.72-7.72 1.47 1.35L5.41 20z\"/>\n",
              "  </svg>\n",
              "      </button>\n",
              "      \n",
              "  <style>\n",
              "    .colab-df-container {\n",
              "      display:flex;\n",
              "      flex-wrap:wrap;\n",
              "      gap: 12px;\n",
              "    }\n",
              "\n",
              "    .colab-df-convert {\n",
              "      background-color: #E8F0FE;\n",
              "      border: none;\n",
              "      border-radius: 50%;\n",
              "      cursor: pointer;\n",
              "      display: none;\n",
              "      fill: #1967D2;\n",
              "      height: 32px;\n",
              "      padding: 0 0 0 0;\n",
              "      width: 32px;\n",
              "    }\n",
              "\n",
              "    .colab-df-convert:hover {\n",
              "      background-color: #E2EBFA;\n",
              "      box-shadow: 0px 1px 2px rgba(60, 64, 67, 0.3), 0px 1px 3px 1px rgba(60, 64, 67, 0.15);\n",
              "      fill: #174EA6;\n",
              "    }\n",
              "\n",
              "    [theme=dark] .colab-df-convert {\n",
              "      background-color: #3B4455;\n",
              "      fill: #D2E3FC;\n",
              "    }\n",
              "\n",
              "    [theme=dark] .colab-df-convert:hover {\n",
              "      background-color: #434B5C;\n",
              "      box-shadow: 0px 1px 3px 1px rgba(0, 0, 0, 0.15);\n",
              "      filter: drop-shadow(0px 1px 2px rgba(0, 0, 0, 0.3));\n",
              "      fill: #FFFFFF;\n",
              "    }\n",
              "  </style>\n",
              "\n",
              "      <script>\n",
              "        const buttonEl =\n",
              "          document.querySelector('#df-dd4017cf-085e-46bd-be62-4e893e33a307 button.colab-df-convert');\n",
              "        buttonEl.style.display =\n",
              "          google.colab.kernel.accessAllowed ? 'block' : 'none';\n",
              "\n",
              "        async function convertToInteractive(key) {\n",
              "          const element = document.querySelector('#df-dd4017cf-085e-46bd-be62-4e893e33a307');\n",
              "          const dataTable =\n",
              "            await google.colab.kernel.invokeFunction('convertToInteractive',\n",
              "                                                     [key], {});\n",
              "          if (!dataTable) return;\n",
              "\n",
              "          const docLinkHtml = 'Like what you see? Visit the ' +\n",
              "            '<a target=\"_blank\" href=https://colab.research.google.com/notebooks/data_table.ipynb>data table notebook</a>'\n",
              "            + ' to learn more about interactive tables.';\n",
              "          element.innerHTML = '';\n",
              "          dataTable['output_type'] = 'display_data';\n",
              "          await google.colab.output.renderOutput(dataTable, element);\n",
              "          const docLink = document.createElement('div');\n",
              "          docLink.innerHTML = docLinkHtml;\n",
              "          element.appendChild(docLink);\n",
              "        }\n",
              "      </script>\n",
              "    </div>\n",
              "  </div>\n",
              "  "
            ]
          },
          "metadata": {},
          "execution_count": 126
        }
      ]
    },
    {
      "cell_type": "code",
      "source": [
        "df['GRE Score'].quantile(0.25)"
      ],
      "metadata": {
        "colab": {
          "base_uri": "https://localhost:8080/"
        },
        "id": "yfe2UK45Fyoq",
        "outputId": "0da02232-e6a0-4a82-cdb6-ba97abf76e76"
      },
      "execution_count": 170,
      "outputs": [
        {
          "output_type": "execute_result",
          "data": {
            "text/plain": [
              "195.0"
            ]
          },
          "metadata": {},
          "execution_count": 170
        }
      ]
    },
    {
      "cell_type": "code",
      "source": [
        "df['GRE Score'].quantile(0.75)"
      ],
      "metadata": {
        "colab": {
          "base_uri": "https://localhost:8080/"
        },
        "id": "sjuem2x3F-uc",
        "outputId": "94b6e8de-35e5-4e96-a2f3-8c7442888fee"
      },
      "execution_count": 171,
      "outputs": [
        {
          "output_type": "execute_result",
          "data": {
            "text/plain": [
              "271.0"
            ]
          },
          "metadata": {},
          "execution_count": 171
        }
      ]
    },
    {
      "cell_type": "code",
      "source": [
        "Q1=df['GRE Score'].quantile(0.25)\n",
        "Q3=df['GRE Score'].quantile(0.75)\n",
        "IQR=Q3-Q1"
      ],
      "metadata": {
        "id": "bzsxUN6oGF8u"
      },
      "execution_count": 172,
      "outputs": []
    },
    {
      "cell_type": "code",
      "source": [
        "IQR"
      ],
      "metadata": {
        "colab": {
          "base_uri": "https://localhost:8080/"
        },
        "id": "4tRpDamDGY3c",
        "outputId": "8ffe4599-fa4f-48d9-ac62-ae8d47014031"
      },
      "execution_count": 173,
      "outputs": [
        {
          "output_type": "execute_result",
          "data": {
            "text/plain": [
              "76.0"
            ]
          },
          "metadata": {},
          "execution_count": 173
        }
      ]
    },
    {
      "cell_type": "code",
      "source": [
        "lower_lim=Q1-1.5*IQR\n",
        "upper_lim=Q3+1.5*IQR"
      ],
      "metadata": {
        "id": "jqhFnkdLGePk"
      },
      "execution_count": 131,
      "outputs": []
    },
    {
      "cell_type": "code",
      "source": [
        "lower_lim"
      ],
      "metadata": {
        "colab": {
          "base_uri": "https://localhost:8080/"
        },
        "id": "D24gt-o1G8Ot",
        "outputId": "ca3812d8-aea1-4aa8-e1bf-8e9f33e88760"
      },
      "execution_count": 178,
      "outputs": [
        {
          "output_type": "execute_result",
          "data": {
            "text/plain": [
              "6.834999999999999"
            ]
          },
          "metadata": {},
          "execution_count": 178
        }
      ]
    },
    {
      "cell_type": "code",
      "source": [
        "upper_lim"
      ],
      "metadata": {
        "colab": {
          "base_uri": "https://localhost:8080/"
        },
        "id": "wfrQ9AK5G3-j",
        "outputId": "0a61de65-6d58-43b0-f6ad-cc76ccb59f55"
      },
      "execution_count": 179,
      "outputs": [
        {
          "output_type": "execute_result",
          "data": {
            "text/plain": [
              "10.395000000000001"
            ]
          },
          "metadata": {},
          "execution_count": 179
        }
      ]
    },
    {
      "cell_type": "code",
      "source": [
        "low=(df['GRE Score']<lower_lim)\n",
        "up=(df['GRE Score']>upper_lim)"
      ],
      "metadata": {
        "id": "VikVzmxyHK8G"
      },
      "execution_count": 182,
      "outputs": []
    },
    {
      "cell_type": "code",
      "source": [
        "df=df['GRE Score'][~(low | up)]"
      ],
      "metadata": {
        "id": "nilWF8r_EaMk"
      },
      "execution_count": 183,
      "outputs": []
    },
    {
      "cell_type": "code",
      "source": [
        "df"
      ],
      "metadata": {
        "colab": {
          "base_uri": "https://localhost:8080/"
        },
        "id": "qVejycbsIzCk",
        "outputId": "7832fa27-fc0e-4e6d-8159-9e26989c7156"
      },
      "execution_count": 176,
      "outputs": [
        {
          "output_type": "execute_result",
          "data": {
            "text/plain": [
              "0       337.0\n",
              "1       264.0\n",
              "2       216.0\n",
              "3       271.0\n",
              "4       203.0\n",
              "        ...  \n",
              "1193    264.0\n",
              "1194    105.0\n",
              "1195    259.0\n",
              "1196    202.0\n",
              "1197      0.0\n",
              "Name: GRE Score, Length: 1195, dtype: float64"
            ]
          },
          "metadata": {},
          "execution_count": 176
        }
      ]
    },
    {
      "cell_type": "code",
      "source": [
        "df['CGPA'].describe()\n",
        "df['CGPA'].quantile(0.25)\n",
        "df['CGPA'].quantile(0.75)\n",
        "Q1=df['CGPA'].quantile(0.25)\n",
        "Q3=df['CGPA'].quantile(0.75)\n",
        "IQR=Q3-Q1\n",
        "print(Q1)\n",
        "print(Q3)\n",
        "print(IQR)\n",
        "lower_lim=Q1-1.5*IQR\n",
        "upper_lim=Q3+1.5*IQR\n",
        "print(lower_lim)\n",
        "print(upper_lim)\n",
        "low=(df['CGPA']<lower_lim)\n",
        "up=(df['CGPA']>upper_lim)\n",
        "df=df['CGPA'][~(low | up)]\n",
        "df"
      ],
      "metadata": {
        "colab": {
          "base_uri": "https://localhost:8080/"
        },
        "id": "P7Gc2KAHKgqu",
        "outputId": "a3bae753-4346-466d-b01d-81b6d1b0b72b"
      },
      "execution_count": 186,
      "outputs": [
        {
          "output_type": "stream",
          "name": "stdout",
          "text": [
            "8.17\n",
            "9.06\n",
            "0.8900000000000006\n",
            "6.834999999999999\n",
            "10.395000000000001\n"
          ]
        },
        {
          "output_type": "execute_result",
          "data": {
            "text/plain": [
              "0       9.65\n",
              "1       8.87\n",
              "2       8.00\n",
              "3       8.67\n",
              "4       8.21\n",
              "        ... \n",
              "1193    9.04\n",
              "1194    9.11\n",
              "1195    9.45\n",
              "1196    8.78\n",
              "1197    9.66\n",
              "Name: CGPA, Length: 1195, dtype: float64"
            ]
          },
          "metadata": {},
          "execution_count": 186
        }
      ]
    },
    {
      "cell_type": "markdown",
      "source": [
        "## **CORRELATION ANALYSIS............**"
      ],
      "metadata": {
        "id": "EFbBg8_fMs2r"
      }
    },
    {
      "cell_type": "code",
      "source": [
        "fig5=plt.gcf()\n",
        "fig5.set_size_inches(10,10)\n",
        "fig5=sns.heatmap(df.corr(),annot=True,cmap='inferno',linewidths=1,linecolor='k',square=True,mask=False,vmin=1,vmax=1)"
      ],
      "metadata": {
        "colab": {
          "base_uri": "https://localhost:8080/",
          "height": 623
        },
        "id": "WnTZIEFp8fgT",
        "outputId": "1920eeaf-8289-4e5f-a357-ccecdd074d2b"
      },
      "execution_count": 309,
      "outputs": [
        {
          "output_type": "display_data",
          "data": {
            "text/plain": [
              "<Figure size 720x720 with 2 Axes>"
            ],
            "image/png": "[encoded data removed]"
          },
          "metadata": {
            "needs_background": "light"
          }
        }
      ]
    },
    {
      "cell_type": "markdown",
      "source": [
        "Heat map gives a good pictorial representation of the correlation of features to our target value chance of admit to university.we can see that CGPA,GRE,TOEFL,University Ranking has the highest correlation with the chance of admissions to the University.The other parameters like SOP,LOR and Research has less impact on the chance of admission."
      ],
      "metadata": {
        "id": "pZ3WM7Yj8jl1"
      }
    },
    {
      "cell_type": "markdown",
      "source": [
        "### **REMOVING UNWANTED COLUMNS FROM THE DATASET**"
      ],
      "metadata": {
        "id": "dYbPOHJlIneI"
      }
    },
    {
      "cell_type": "code",
      "source": [
        "df=df.drop(df.columns[[3,4,6]],axis=1)"
      ],
      "metadata": {
        "id": "xhNX4GZiG2A2"
      },
      "execution_count": 189,
      "outputs": []
    },
    {
      "cell_type": "markdown",
      "source": [
        "\n",
        "\n",
        "#              **EXPLORATORY  DATA ANALYSIS**\n",
        "\n",
        "\n",
        "\n"
      ],
      "metadata": {
        "id": "aIlbhdX0uIF9"
      }
    },
    {
      "cell_type": "markdown",
      "source": [
        "### **DATA VISUALIZATION**"
      ],
      "metadata": {
        "id": "KYer8VMqHPFi"
      }
    },
    {
      "cell_type": "code",
      "source": [
        "df[['GRE Score','TOEFL Score','University Rating','CGPA']].hist(figsize=(10,8),bins=10,color='cyan',linewidth='1',edgecolor='k')\n",
        "plt.tight_layout()\n",
        "plt.show()"
      ],
      "metadata": {
        "colab": {
          "base_uri": "https://localhost:8080/",
          "height": 585
        },
        "id": "sylM99lRNj00",
        "outputId": "0cce2843-6f9f-49ff-bc75-be1bade447fb"
      },
      "execution_count": 144,
      "outputs": [
        {
          "output_type": "display_data",
          "data": {
            "text/plain": [
              "<Figure size 720x576 with 4 Axes>"
            ],
            "image/png": "[encoded data removed]"
          },
          "metadata": {
            "needs_background": "light"
          }
        }
      ]
    },
    {
      "cell_type": "markdown",
      "source": [
        "We could observe that Most of the students are having the GRE scores in the range of 250-280, the TOEFL scores in the range of  >105 and <113,Most of the students are are from the Universities /colleges  which are rated around 3.5 rating . Most of the students are having the CGPA around 8.5\n"
      ],
      "metadata": {
        "id": "RuXt6076nrXK"
      }
    },
    {
      "cell_type": "code",
      "source": [
        "df_sort=df.sort_values(by=df.columns[-1],ascending=False)\n",
        "df_sort.head()"
      ],
      "metadata": {
        "colab": {
          "base_uri": "https://localhost:8080/",
          "height": 206
        },
        "id": "jAVG4CFkASQz",
        "outputId": "4e6878ac-9d79-4974-c82f-39cfc079e335"
      },
      "execution_count": 145,
      "outputs": [
        {
          "output_type": "execute_result",
          "data": {
            "text/plain": [
              "     GRE Score  TOEFL Score  University Rating  CGPA  Chance of Admit \n",
              "24       234.0        119.0                  5  9.80              0.97\n",
              "941      140.0        120.0                  4  9.92              0.97\n",
              "822      180.0        119.0                  5  9.80              0.97\n",
              "423      275.0        119.0                  5  9.80              0.97\n",
              "143      140.0        120.0                  4  9.92              0.97"
            ],
            "text/html": [
              "\n",
              "  <div id=\"df-c24e86c8-f561-4b02-b129-1561b9e838b6\">\n",
              "    <div class=\"colab-df-container\">\n",
              "      <div>\n",
              "<style scoped>\n",
              "    .dataframe tbody tr th:only-of-type {\n",
              "        vertical-align: middle;\n",
              "    }\n",
              "\n",
              "    .dataframe tbody tr th {\n",
              "        vertical-align: top;\n",
              "    }\n",
              "\n",
              "    .dataframe thead th {\n",
              "        text-align: right;\n",
              "    }\n",
              "</style>\n",
              "<table border=\"1\" class=\"dataframe\">\n",
              "  <thead>\n",
              "    <tr style=\"text-align: right;\">\n",
              "      <th></th>\n",
              "      <th>GRE Score</th>\n",
              "      <th>TOEFL Score</th>\n",
              "      <th>University Rating</th>\n",
              "      <th>CGPA</th>\n",
              "      <th>Chance of Admit</th>\n",
              "    </tr>\n",
              "  </thead>\n",
              "  <tbody>\n",
              "    <tr>\n",
              "      <th>24</th>\n",
              "      <td>234.0</td>\n",
              "      <td>119.0</td>\n",
              "      <td>5</td>\n",
              "      <td>9.80</td>\n",
              "      <td>0.97</td>\n",
              "    </tr>\n",
              "    <tr>\n",
              "      <th>941</th>\n",
              "      <td>140.0</td>\n",
              "      <td>120.0</td>\n",
              "      <td>4</td>\n",
              "      <td>9.92</td>\n",
              "      <td>0.97</td>\n",
              "    </tr>\n",
              "    <tr>\n",
              "      <th>822</th>\n",
              "      <td>180.0</td>\n",
              "      <td>119.0</td>\n",
              "      <td>5</td>\n",
              "      <td>9.80</td>\n",
              "      <td>0.97</td>\n",
              "    </tr>\n",
              "    <tr>\n",
              "      <th>423</th>\n",
              "      <td>275.0</td>\n",
              "      <td>119.0</td>\n",
              "      <td>5</td>\n",
              "      <td>9.80</td>\n",
              "      <td>0.97</td>\n",
              "    </tr>\n",
              "    <tr>\n",
              "      <th>143</th>\n",
              "      <td>140.0</td>\n",
              "      <td>120.0</td>\n",
              "      <td>4</td>\n",
              "      <td>9.92</td>\n",
              "      <td>0.97</td>\n",
              "    </tr>\n",
              "  </tbody>\n",
              "</table>\n",
              "</div>\n",
              "      <button class=\"colab-df-convert\" onclick=\"convertToInteractive('df-c24e86c8-f561-4b02-b129-1561b9e838b6')\"\n",
              "              title=\"Convert this dataframe to an interactive table.\"\n",
              "              style=\"display:none;\">\n",
              "        \n",
              "  <svg xmlns=\"http://www.w3.org/2000/svg\" height=\"24px\"viewBox=\"0 0 24 24\"\n",
              "       width=\"24px\">\n",
              "    <path d=\"M0 0h24v24H0V0z\" fill=\"none\"/>\n",
              "    <path d=\"M18.56 5.44l.94 2.06.94-2.06 2.06-.94-2.06-.94-.94-2.06-.94 2.06-2.06.94zm-11 1L8.5 8.5l.94-2.06 2.06-.94-2.06-.94L8.5 2.5l-.94 2.06-2.06.94zm10 10l.94 2.06.94-2.06 2.06-.94-2.06-.94-.94-2.06-.94 2.06-2.06.94z\"/><path d=\"M17.41 7.96l-1.37-1.37c-.4-.4-.92-.59-1.43-.59-.52 0-1.04.2-1.43.59L10.3 9.45l-7.72 7.72c-.78.78-.78 2.05 0 2.83L4 21.41c.39.39.9.59 1.41.59.51 0 1.02-.2 1.41-.59l7.78-7.78 2.81-2.81c.8-.78.8-2.07 0-2.86zM5.41 20L4 18.59l7.72-7.72 1.47 1.35L5.41 20z\"/>\n",
              "  </svg>\n",
              "      </button>\n",
              "      \n",
              "  <style>\n",
              "    .colab-df-container {\n",
              "      display:flex;\n",
              "      flex-wrap:wrap;\n",
              "      gap: 12px;\n",
              "    }\n",
              "\n",
              "    .colab-df-convert {\n",
              "      background-color: #E8F0FE;\n",
              "      border: none;\n",
              "      border-radius: 50%;\n",
              "      cursor: pointer;\n",
              "      display: none;\n",
              "      fill: #1967D2;\n",
              "      height: 32px;\n",
              "      padding: 0 0 0 0;\n",
              "      width: 32px;\n",
              "    }\n",
              "\n",
              "    .colab-df-convert:hover {\n",
              "      background-color: #E2EBFA;\n",
              "      box-shadow: 0px 1px 2px rgba(60, 64, 67, 0.3), 0px 1px 3px 1px rgba(60, 64, 67, 0.15);\n",
              "      fill: #174EA6;\n",
              "    }\n",
              "\n",
              "    [theme=dark] .colab-df-convert {\n",
              "      background-color: #3B4455;\n",
              "      fill: #D2E3FC;\n",
              "    }\n",
              "\n",
              "    [theme=dark] .colab-df-convert:hover {\n",
              "      background-color: #434B5C;\n",
              "      box-shadow: 0px 1px 3px 1px rgba(0, 0, 0, 0.15);\n",
              "      filter: drop-shadow(0px 1px 2px rgba(0, 0, 0, 0.3));\n",
              "      fill: #FFFFFF;\n",
              "    }\n",
              "  </style>\n",
              "\n",
              "      <script>\n",
              "        const buttonEl =\n",
              "          document.querySelector('#df-c24e86c8-f561-4b02-b129-1561b9e838b6 button.colab-df-convert');\n",
              "        buttonEl.style.display =\n",
              "          google.colab.kernel.accessAllowed ? 'block' : 'none';\n",
              "\n",
              "        async function convertToInteractive(key) {\n",
              "          const element = document.querySelector('#df-c24e86c8-f561-4b02-b129-1561b9e838b6');\n",
              "          const dataTable =\n",
              "            await google.colab.kernel.invokeFunction('convertToInteractive',\n",
              "                                                     [key], {});\n",
              "          if (!dataTable) return;\n",
              "\n",
              "          const docLinkHtml = 'Like what you see? Visit the ' +\n",
              "            '<a target=\"_blank\" href=https://colab.research.google.com/notebooks/data_table.ipynb>data table notebook</a>'\n",
              "            + ' to learn more about interactive tables.';\n",
              "          element.innerHTML = '';\n",
              "          dataTable['output_type'] = 'display_data';\n",
              "          await google.colab.output.renderOutput(dataTable, element);\n",
              "          const docLink = document.createElement('div');\n",
              "          docLink.innerHTML = docLinkHtml;\n",
              "          element.appendChild(docLink);\n",
              "        }\n",
              "      </script>\n",
              "    </div>\n",
              "  </div>\n",
              "  "
            ]
          },
          "metadata": {},
          "execution_count": 145
        }
      ]
    },
    {
      "cell_type": "markdown",
      "source": [
        "PAIR PLOT-VISUALIZATION"
      ],
      "metadata": {
        "id": "n1xEsWyPHXTH"
      }
    },
    {
      "cell_type": "code",
      "source": [
        "sns.pairplot(data=df)"
      ],
      "metadata": {
        "colab": {
          "base_uri": "https://localhost:8080/",
          "height": 920
        },
        "id": "rRmG5cw1-U5F",
        "outputId": "4f6ca742-b49c-43a3-d0d1-93e99701d501"
      },
      "execution_count": 146,
      "outputs": [
        {
          "output_type": "execute_result",
          "data": {
            "text/plain": [
              "<seaborn.axisgrid.PairGrid at 0x7fbae7a42d90>"
            ]
          },
          "metadata": {},
          "execution_count": 146
        },
        {
          "output_type": "display_data",
          "data": {
            "text/plain": [
              "<Figure size 900x900 with 30 Axes>"
            ],
            "image/png": "[encoded data removed]"
          },
          "metadata": {
            "needs_background": "light"
          }
        }
      ]
    },
    {
      "cell_type": "markdown",
      "source": [
        "### **LINE-PLOT-VISUALIZATION**"
      ],
      "metadata": {
        "id": "RD7g76WzHjiu"
      }
    },
    {
      "cell_type": "code",
      "source": [
        "sns.lineplot(x=\"GRE Score\",y=\"TOEFL Score\",data=df,color='purple')"
      ],
      "metadata": {
        "colab": {
          "base_uri": "https://localhost:8080/",
          "height": 298
        },
        "id": "nSW3JW_kBVTn",
        "outputId": "5720ece8-34ca-4333-db9f-cf9e1ae96aa6"
      },
      "execution_count": 147,
      "outputs": [
        {
          "output_type": "execute_result",
          "data": {
            "text/plain": [
              "<matplotlib.axes._subplots.AxesSubplot at 0x7fbae59f6250>"
            ]
          },
          "metadata": {},
          "execution_count": 147
        },
        {
          "output_type": "display_data",
          "data": {
            "text/plain": [
              "<Figure size 432x288 with 1 Axes>"
            ],
            "image/png": "[encoded data removed]"
          },
          "metadata": {
            "needs_background": "light"
          }
        }
      ]
    },
    {
      "cell_type": "code",
      "source": [
        "print(sns.lineplot(x=\"University Rating\",y=\"GRE Score\",data=df,color='red'))\n"
      ],
      "metadata": {
        "colab": {
          "base_uri": "https://localhost:8080/",
          "height": 296
        },
        "id": "-SuqyPWZCS4A",
        "outputId": "0057d012-4e9e-4c57-e368-dc7ee3574e9e"
      },
      "execution_count": 38,
      "outputs": [
        {
          "output_type": "stream",
          "name": "stdout",
          "text": [
            "AxesSubplot(0.125,0.125;0.775x0.755)\n"
          ]
        },
        {
          "output_type": "display_data",
          "data": {
            "text/plain": [
              "<Figure size 432x288 with 1 Axes>"
            ],
            "image/png": "[encoded data removed]"
          },
          "metadata": {
            "needs_background": "light"
          }
        }
      ]
    },
    {
      "cell_type": "code",
      "source": [
        "print(sns.lineplot(x=\"CGPA\",y=\"GRE Score\",data=df,color='orange'))"
      ],
      "metadata": {
        "colab": {
          "base_uri": "https://localhost:8080/",
          "height": 297
        },
        "id": "SzUB78sSDgd2",
        "outputId": "06507a07-6a3e-44b2-fd35-12b33e7bc4bf"
      },
      "execution_count": 39,
      "outputs": [
        {
          "output_type": "stream",
          "name": "stdout",
          "text": [
            "AxesSubplot(0.125,0.125;0.775x0.755)\n"
          ]
        },
        {
          "output_type": "display_data",
          "data": {
            "text/plain": [
              "<Figure size 432x288 with 1 Axes>"
            ],
            "image/png": "[encoded data removed]"
          },
          "metadata": {
            "needs_background": "light"
          }
        }
      ]
    },
    {
      "cell_type": "code",
      "source": [
        "sns.lineplot(x=\"University Rating\",y=\"TOEFL Score\",data=df,color='blue')"
      ],
      "metadata": {
        "colab": {
          "base_uri": "https://localhost:8080/",
          "height": 296
        },
        "id": "z-0TPualCpn_",
        "outputId": "e19ddc14-8eec-4d7f-d738-8e7f7bea00b6"
      },
      "execution_count": 40,
      "outputs": [
        {
          "output_type": "execute_result",
          "data": {
            "text/plain": [
              "<matplotlib.axes._subplots.AxesSubplot at 0x7fbaea0eb190>"
            ]
          },
          "metadata": {},
          "execution_count": 40
        },
        {
          "output_type": "display_data",
          "data": {
            "text/plain": [
              "<Figure size 432x288 with 1 Axes>"
            ],
            "image/png": "[encoded data removed]"
          },
          "metadata": {
            "needs_background": "light"
          }
        }
      ]
    },
    {
      "cell_type": "code",
      "source": [
        "sns.lineplot(x=\"CGPA\",y=\"TOEFL Score\",data=df,color='cyan')"
      ],
      "metadata": {
        "colab": {
          "base_uri": "https://localhost:8080/",
          "height": 296
        },
        "id": "GSnzLN3_FVfd",
        "outputId": "7cafc68b-8bcd-4d23-f181-2723a17f7720"
      },
      "execution_count": 41,
      "outputs": [
        {
          "output_type": "execute_result",
          "data": {
            "text/plain": [
              "<matplotlib.axes._subplots.AxesSubplot at 0x7fbaea097190>"
            ]
          },
          "metadata": {},
          "execution_count": 41
        },
        {
          "output_type": "display_data",
          "data": {
            "text/plain": [
              "<Figure size 432x288 with 1 Axes>"
            ],
            "image/png": "[encoded data removed]"
          },
          "metadata": {
            "needs_background": "light"
          }
        }
      ]
    },
    {
      "cell_type": "markdown",
      "source": [
        "### **SCATTER PLOT-VISUALIZATION**"
      ],
      "metadata": {
        "id": "WM95y-f8Hu3r"
      }
    },
    {
      "cell_type": "code",
      "source": [
        "sns.scatterplot(x=\"CGPA\",y=\"GRE Score\",data=df,color='red')"
      ],
      "metadata": {
        "colab": {
          "base_uri": "https://localhost:8080/",
          "height": 297
        },
        "id": "04MteXddFqxn",
        "outputId": "02e70a3e-5ea3-4ab9-9b29-92bd921c2123"
      },
      "execution_count": 42,
      "outputs": [
        {
          "output_type": "execute_result",
          "data": {
            "text/plain": [
              "<matplotlib.axes._subplots.AxesSubplot at 0x7fbae9fead90>"
            ]
          },
          "metadata": {},
          "execution_count": 42
        },
        {
          "output_type": "display_data",
          "data": {
            "text/plain": [
              "<Figure size 432x288 with 1 Axes>"
            ],
            "image/png": "[encoded data removed]"
          },
          "metadata": {
            "needs_background": "light"
          }
        }
      ]
    },
    {
      "cell_type": "code",
      "source": [
        "sns.scatterplot(x=\"CGPA\",y=\"TOEFL Score\",data=df,color='B')"
      ],
      "metadata": {
        "colab": {
          "base_uri": "https://localhost:8080/",
          "height": 351
        },
        "id": "SDRUsGsPGXJw",
        "outputId": "67e75ff8-118e-4712-b241-8918f7a49f04"
      },
      "execution_count": 43,
      "outputs": [
        {
          "output_type": "stream",
          "name": "stderr",
          "text": [
            "/usr/local/lib/python3.7/dist-packages/seaborn/relational.py:608: MatplotlibDeprecationWarning: Support for uppercase single-letter colors is deprecated since Matplotlib 3.1 and will be removed in 3.3; please use lowercase instead.\n",
            "  scout = ax.scatter(scout_x, scout_y, **kws)\n"
          ]
        },
        {
          "output_type": "execute_result",
          "data": {
            "text/plain": [
              "<matplotlib.axes._subplots.AxesSubplot at 0x7fbae9fc2050>"
            ]
          },
          "metadata": {},
          "execution_count": 43
        },
        {
          "output_type": "display_data",
          "data": {
            "text/plain": [
              "<Figure size 432x288 with 1 Axes>"
            ],
            "image/png": "[encoded data removed]"
          },
          "metadata": {
            "needs_background": "light"
          }
        }
      ]
    },
    {
      "cell_type": "markdown",
      "source": [
        "### **BAR PLOT VISUALIZATION**"
      ],
      "metadata": {
        "id": "SX2SfARj0ZtI"
      }
    },
    {
      "cell_type": "code",
      "source": [
        "print(sns.barplot(x=\"University Rating\",y=\"GRE Score\",data=df,color='red'))"
      ],
      "metadata": {
        "colab": {
          "base_uri": "https://localhost:8080/",
          "height": 296
        },
        "id": "bXl1pDxZ0kaK",
        "outputId": "add35dfe-22f1-49d8-ad3d-3dc37c84157d"
      },
      "execution_count": 80,
      "outputs": [
        {
          "output_type": "stream",
          "name": "stdout",
          "text": [
            "AxesSubplot(0.125,0.125;0.775x0.755)\n"
          ]
        },
        {
          "output_type": "display_data",
          "data": {
            "text/plain": [
              "<Figure size 432x288 with 1 Axes>"
            ],
            "image/png": "[encoded data removed]"
          },
          "metadata": {
            "needs_background": "light"
          }
        }
      ]
    },
    {
      "cell_type": "code",
      "source": [
        "print(sns.barplot(x=\"CGPA\",y=\"GRE Score\",data=df,color='orange'))"
      ],
      "metadata": {
        "colab": {
          "base_uri": "https://localhost:8080/",
          "height": 297
        },
        "id": "cj6tB_Zf1KMt",
        "outputId": "e0be81f4-8b3d-421c-9dc8-2fea4adff64c"
      },
      "execution_count": 81,
      "outputs": [
        {
          "output_type": "stream",
          "name": "stdout",
          "text": [
            "AxesSubplot(0.125,0.125;0.775x0.755)\n"
          ]
        },
        {
          "output_type": "display_data",
          "data": {
            "text/plain": [
              "<Figure size 432x288 with 1 Axes>"
            ],
            "image/png": "[encoded data removed]"
          },
          "metadata": {
            "needs_background": "light"
          }
        }
      ]
    },
    {
      "cell_type": "code",
      "source": [
        "sns.barplot(x=\"CGPA\",y=\"TOEFL Score\",data=df,color='cyan')"
      ],
      "metadata": {
        "colab": {
          "base_uri": "https://localhost:8080/",
          "height": 296
        },
        "id": "NVxGIdiC1ZzX",
        "outputId": "b1de0ffd-4927-4272-a4de-003b9cde82a1"
      },
      "execution_count": 82,
      "outputs": [
        {
          "output_type": "execute_result",
          "data": {
            "text/plain": [
              "<matplotlib.axes._subplots.AxesSubplot at 0x7fbae6a8e190>"
            ]
          },
          "metadata": {},
          "execution_count": 82
        },
        {
          "output_type": "display_data",
          "data": {
            "text/plain": [
              "<Figure size 432x288 with 1 Axes>"
            ],
            "image/png": "[encoded data removed]"
          },
          "metadata": {
            "needs_background": "light"
          }
        }
      ]
    },
    {
      "cell_type": "code",
      "source": [
        "df.describe()"
      ],
      "metadata": {
        "colab": {
          "base_uri": "https://localhost:8080/",
          "height": 300
        },
        "id": "Dp1QKfwVUKjf",
        "outputId": "0a0201a0-ea6b-4223-bf41-2ac36235bdfa"
      },
      "execution_count": 194,
      "outputs": [
        {
          "output_type": "execute_result",
          "data": {
            "text/plain": [
              "         GRE Score  TOEFL Score  University Rating         CGPA  \\\n",
              "count  1198.000000  1198.000000        1198.000000  1198.000000   \n",
              "mean    224.245409   107.403339           3.085977     8.597170   \n",
              "std      71.145319     6.025231           1.143119     0.594765   \n",
              "min       0.000000    92.000000           1.000000     6.800000   \n",
              "25%     195.000000   103.000000           2.000000     8.170000   \n",
              "50%     235.000000   107.000000           3.000000     8.600000   \n",
              "75%     271.000000   112.000000           4.000000     9.060000   \n",
              "max     339.000000   120.000000           5.000000     9.920000   \n",
              "\n",
              "       Chance of Admit   \n",
              "count       1198.000000  \n",
              "mean           0.724023  \n",
              "std            0.142385  \n",
              "min            0.340000  \n",
              "25%            0.640000  \n",
              "50%            0.730000  \n",
              "75%            0.830000  \n",
              "max            0.970000  "
            ],
            "text/html": [
              "\n",
              "  <div id=\"df-a1c63ce7-95a7-4af3-bdf6-a7a28df2bc58\">\n",
              "    <div class=\"colab-df-container\">\n",
              "      <div>\n",
              "<style scoped>\n",
              "    .dataframe tbody tr th:only-of-type {\n",
              "        vertical-align: middle;\n",
              "    }\n",
              "\n",
              "    .dataframe tbody tr th {\n",
              "        vertical-align: top;\n",
              "    }\n",
              "\n",
              "    .dataframe thead th {\n",
              "        text-align: right;\n",
              "    }\n",
              "</style>\n",
              "<table border=\"1\" class=\"dataframe\">\n",
              "  <thead>\n",
              "    <tr style=\"text-align: right;\">\n",
              "      <th></th>\n",
              "      <th>GRE Score</th>\n",
              "      <th>TOEFL Score</th>\n",
              "      <th>University Rating</th>\n",
              "      <th>CGPA</th>\n",
              "      <th>Chance of Admit</th>\n",
              "    </tr>\n",
              "  </thead>\n",
              "  <tbody>\n",
              "    <tr>\n",
              "      <th>count</th>\n",
              "      <td>1198.000000</td>\n",
              "      <td>1198.000000</td>\n",
              "      <td>1198.000000</td>\n",
              "      <td>1198.000000</td>\n",
              "      <td>1198.000000</td>\n",
              "    </tr>\n",
              "    <tr>\n",
              "      <th>mean</th>\n",
              "      <td>224.245409</td>\n",
              "      <td>107.403339</td>\n",
              "      <td>3.085977</td>\n",
              "      <td>8.597170</td>\n",
              "      <td>0.724023</td>\n",
              "    </tr>\n",
              "    <tr>\n",
              "      <th>std</th>\n",
              "      <td>71.145319</td>\n",
              "      <td>6.025231</td>\n",
              "      <td>1.143119</td>\n",
              "      <td>0.594765</td>\n",
              "      <td>0.142385</td>\n",
              "    </tr>\n",
              "    <tr>\n",
              "      <th>min</th>\n",
              "      <td>0.000000</td>\n",
              "      <td>92.000000</td>\n",
              "      <td>1.000000</td>\n",
              "      <td>6.800000</td>\n",
              "      <td>0.340000</td>\n",
              "    </tr>\n",
              "    <tr>\n",
              "      <th>25%</th>\n",
              "      <td>195.000000</td>\n",
              "      <td>103.000000</td>\n",
              "      <td>2.000000</td>\n",
              "      <td>8.170000</td>\n",
              "      <td>0.640000</td>\n",
              "    </tr>\n",
              "    <tr>\n",
              "      <th>50%</th>\n",
              "      <td>235.000000</td>\n",
              "      <td>107.000000</td>\n",
              "      <td>3.000000</td>\n",
              "      <td>8.600000</td>\n",
              "      <td>0.730000</td>\n",
              "    </tr>\n",
              "    <tr>\n",
              "      <th>75%</th>\n",
              "      <td>271.000000</td>\n",
              "      <td>112.000000</td>\n",
              "      <td>4.000000</td>\n",
              "      <td>9.060000</td>\n",
              "      <td>0.830000</td>\n",
              "    </tr>\n",
              "    <tr>\n",
              "      <th>max</th>\n",
              "      <td>339.000000</td>\n",
              "      <td>120.000000</td>\n",
              "      <td>5.000000</td>\n",
              "      <td>9.920000</td>\n",
              "      <td>0.970000</td>\n",
              "    </tr>\n",
              "  </tbody>\n",
              "</table>\n",
              "</div>\n",
              "      <button class=\"colab-df-convert\" onclick=\"convertToInteractive('df-a1c63ce7-95a7-4af3-bdf6-a7a28df2bc58')\"\n",
              "              title=\"Convert this dataframe to an interactive table.\"\n",
              "              style=\"display:none;\">\n",
              "        \n",
              "  <svg xmlns=\"http://www.w3.org/2000/svg\" height=\"24px\"viewBox=\"0 0 24 24\"\n",
              "       width=\"24px\">\n",
              "    <path d=\"M0 0h24v24H0V0z\" fill=\"none\"/>\n",
              "    <path d=\"M18.56 5.44l.94 2.06.94-2.06 2.06-.94-2.06-.94-.94-2.06-.94 2.06-2.06.94zm-11 1L8.5 8.5l.94-2.06 2.06-.94-2.06-.94L8.5 2.5l-.94 2.06-2.06.94zm10 10l.94 2.06.94-2.06 2.06-.94-2.06-.94-.94-2.06-.94 2.06-2.06.94z\"/><path d=\"M17.41 7.96l-1.37-1.37c-.4-.4-.92-.59-1.43-.59-.52 0-1.04.2-1.43.59L10.3 9.45l-7.72 7.72c-.78.78-.78 2.05 0 2.83L4 21.41c.39.39.9.59 1.41.59.51 0 1.02-.2 1.41-.59l7.78-7.78 2.81-2.81c.8-.78.8-2.07 0-2.86zM5.41 20L4 18.59l7.72-7.72 1.47 1.35L5.41 20z\"/>\n",
              "  </svg>\n",
              "      </button>\n",
              "      \n",
              "  <style>\n",
              "    .colab-df-container {\n",
              "      display:flex;\n",
              "      flex-wrap:wrap;\n",
              "      gap: 12px;\n",
              "    }\n",
              "\n",
              "    .colab-df-convert {\n",
              "      background-color: #E8F0FE;\n",
              "      border: none;\n",
              "      border-radius: 50%;\n",
              "      cursor: pointer;\n",
              "      display: none;\n",
              "      fill: #1967D2;\n",
              "      height: 32px;\n",
              "      padding: 0 0 0 0;\n",
              "      width: 32px;\n",
              "    }\n",
              "\n",
              "    .colab-df-convert:hover {\n",
              "      background-color: #E2EBFA;\n",
              "      box-shadow: 0px 1px 2px rgba(60, 64, 67, 0.3), 0px 1px 3px 1px rgba(60, 64, 67, 0.15);\n",
              "      fill: #174EA6;\n",
              "    }\n",
              "\n",
              "    [theme=dark] .colab-df-convert {\n",
              "      background-color: #3B4455;\n",
              "      fill: #D2E3FC;\n",
              "    }\n",
              "\n",
              "    [theme=dark] .colab-df-convert:hover {\n",
              "      background-color: #434B5C;\n",
              "      box-shadow: 0px 1px 3px 1px rgba(0, 0, 0, 0.15);\n",
              "      filter: drop-shadow(0px 1px 2px rgba(0, 0, 0, 0.3));\n",
              "      fill: #FFFFFF;\n",
              "    }\n",
              "  </style>\n",
              "\n",
              "      <script>\n",
              "        const buttonEl =\n",
              "          document.querySelector('#df-a1c63ce7-95a7-4af3-bdf6-a7a28df2bc58 button.colab-df-convert');\n",
              "        buttonEl.style.display =\n",
              "          google.colab.kernel.accessAllowed ? 'block' : 'none';\n",
              "\n",
              "        async function convertToInteractive(key) {\n",
              "          const element = document.querySelector('#df-a1c63ce7-95a7-4af3-bdf6-a7a28df2bc58');\n",
              "          const dataTable =\n",
              "            await google.colab.kernel.invokeFunction('convertToInteractive',\n",
              "                                                     [key], {});\n",
              "          if (!dataTable) return;\n",
              "\n",
              "          const docLinkHtml = 'Like what you see? Visit the ' +\n",
              "            '<a target=\"_blank\" href=https://colab.research.google.com/notebooks/data_table.ipynb>data table notebook</a>'\n",
              "            + ' to learn more about interactive tables.';\n",
              "          element.innerHTML = '';\n",
              "          dataTable['output_type'] = 'display_data';\n",
              "          await google.colab.output.renderOutput(dataTable, element);\n",
              "          const docLink = document.createElement('div');\n",
              "          docLink.innerHTML = docLinkHtml;\n",
              "          element.appendChild(docLink);\n",
              "        }\n",
              "      </script>\n",
              "    </div>\n",
              "  </div>\n",
              "  "
            ]
          },
          "metadata": {},
          "execution_count": 194
        }
      ]
    },
    {
      "cell_type": "code",
      "source": [
        "x=df.iloc[0:1185,0:-1]\n",
        "y=df.iloc[0:1185,4:5]"
      ],
      "metadata": {
        "id": "RuULLzthYw94"
      },
      "execution_count": 231,
      "outputs": []
    },
    {
      "cell_type": "code",
      "source": [
        "x.tail()\n"
      ],
      "metadata": {
        "colab": {
          "base_uri": "https://localhost:8080/",
          "height": 206
        },
        "id": "F8_rddjvN0NU",
        "outputId": "f76152dd-cd90-45e5-89c0-66a7a138f4ea"
      },
      "execution_count": 168,
      "outputs": [
        {
          "output_type": "execute_result",
          "data": {
            "text/plain": [
              "      GRE Score  TOEFL Score  University Rating  SOP  LOR   CGPA  Research\n",
              "1180      264.0        110.0                  4  4.5   4.0  9.15         1\n",
              "1181      300.0        100.0                  3  3.0   3.5  8.26         0\n",
              "1182      140.0        113.0                  4  5.0   5.0  9.74         1\n",
              "1183      335.0        117.0                  5  5.0   5.0  9.82         1\n",
              "1184      302.0        101.0                  2  2.5   3.5  7.96         0"
            ],
            "text/html": [
              "\n",
              "  <div id=\"df-b7043d5d-f5b5-4574-936d-cf26afe19dbd\">\n",
              "    <div class=\"colab-df-container\">\n",
              "      <div>\n",
              "<style scoped>\n",
              "    .dataframe tbody tr th:only-of-type {\n",
              "        vertical-align: middle;\n",
              "    }\n",
              "\n",
              "    .dataframe tbody tr th {\n",
              "        vertical-align: top;\n",
              "    }\n",
              "\n",
              "    .dataframe thead th {\n",
              "        text-align: right;\n",
              "    }\n",
              "</style>\n",
              "<table border=\"1\" class=\"dataframe\">\n",
              "  <thead>\n",
              "    <tr style=\"text-align: right;\">\n",
              "      <th></th>\n",
              "      <th>GRE Score</th>\n",
              "      <th>TOEFL Score</th>\n",
              "      <th>University Rating</th>\n",
              "      <th>SOP</th>\n",
              "      <th>LOR</th>\n",
              "      <th>CGPA</th>\n",
              "      <th>Research</th>\n",
              "    </tr>\n",
              "  </thead>\n",
              "  <tbody>\n",
              "    <tr>\n",
              "      <th>1180</th>\n",
              "      <td>264.0</td>\n",
              "      <td>110.0</td>\n",
              "      <td>4</td>\n",
              "      <td>4.5</td>\n",
              "      <td>4.0</td>\n",
              "      <td>9.15</td>\n",
              "      <td>1</td>\n",
              "    </tr>\n",
              "    <tr>\n",
              "      <th>1181</th>\n",
              "      <td>300.0</td>\n",
              "      <td>100.0</td>\n",
              "      <td>3</td>\n",
              "      <td>3.0</td>\n",
              "      <td>3.5</td>\n",
              "      <td>8.26</td>\n",
              "      <td>0</td>\n",
              "    </tr>\n",
              "    <tr>\n",
              "      <th>1182</th>\n",
              "      <td>140.0</td>\n",
              "      <td>113.0</td>\n",
              "      <td>4</td>\n",
              "      <td>5.0</td>\n",
              "      <td>5.0</td>\n",
              "      <td>9.74</td>\n",
              "      <td>1</td>\n",
              "    </tr>\n",
              "    <tr>\n",
              "      <th>1183</th>\n",
              "      <td>335.0</td>\n",
              "      <td>117.0</td>\n",
              "      <td>5</td>\n",
              "      <td>5.0</td>\n",
              "      <td>5.0</td>\n",
              "      <td>9.82</td>\n",
              "      <td>1</td>\n",
              "    </tr>\n",
              "    <tr>\n",
              "      <th>1184</th>\n",
              "      <td>302.0</td>\n",
              "      <td>101.0</td>\n",
              "      <td>2</td>\n",
              "      <td>2.5</td>\n",
              "      <td>3.5</td>\n",
              "      <td>7.96</td>\n",
              "      <td>0</td>\n",
              "    </tr>\n",
              "  </tbody>\n",
              "</table>\n",
              "</div>\n",
              "      <button class=\"colab-df-convert\" onclick=\"convertToInteractive('df-b7043d5d-f5b5-4574-936d-cf26afe19dbd')\"\n",
              "              title=\"Convert this dataframe to an interactive table.\"\n",
              "              style=\"display:none;\">\n",
              "        \n",
              "  <svg xmlns=\"http://www.w3.org/2000/svg\" height=\"24px\"viewBox=\"0 0 24 24\"\n",
              "       width=\"24px\">\n",
              "    <path d=\"M0 0h24v24H0V0z\" fill=\"none\"/>\n",
              "    <path d=\"M18.56 5.44l.94 2.06.94-2.06 2.06-.94-2.06-.94-.94-2.06-.94 2.06-2.06.94zm-11 1L8.5 8.5l.94-2.06 2.06-.94-2.06-.94L8.5 2.5l-.94 2.06-2.06.94zm10 10l.94 2.06.94-2.06 2.06-.94-2.06-.94-.94-2.06-.94 2.06-2.06.94z\"/><path d=\"M17.41 7.96l-1.37-1.37c-.4-.4-.92-.59-1.43-.59-.52 0-1.04.2-1.43.59L10.3 9.45l-7.72 7.72c-.78.78-.78 2.05 0 2.83L4 21.41c.39.39.9.59 1.41.59.51 0 1.02-.2 1.41-.59l7.78-7.78 2.81-2.81c.8-.78.8-2.07 0-2.86zM5.41 20L4 18.59l7.72-7.72 1.47 1.35L5.41 20z\"/>\n",
              "  </svg>\n",
              "      </button>\n",
              "      \n",
              "  <style>\n",
              "    .colab-df-container {\n",
              "      display:flex;\n",
              "      flex-wrap:wrap;\n",
              "      gap: 12px;\n",
              "    }\n",
              "\n",
              "    .colab-df-convert {\n",
              "      background-color: #E8F0FE;\n",
              "      border: none;\n",
              "      border-radius: 50%;\n",
              "      cursor: pointer;\n",
              "      display: none;\n",
              "      fill: #1967D2;\n",
              "      height: 32px;\n",
              "      padding: 0 0 0 0;\n",
              "      width: 32px;\n",
              "    }\n",
              "\n",
              "    .colab-df-convert:hover {\n",
              "      background-color: #E2EBFA;\n",
              "      box-shadow: 0px 1px 2px rgba(60, 64, 67, 0.3), 0px 1px 3px 1px rgba(60, 64, 67, 0.15);\n",
              "      fill: #174EA6;\n",
              "    }\n",
              "\n",
              "    [theme=dark] .colab-df-convert {\n",
              "      background-color: #3B4455;\n",
              "      fill: #D2E3FC;\n",
              "    }\n",
              "\n",
              "    [theme=dark] .colab-df-convert:hover {\n",
              "      background-color: #434B5C;\n",
              "      box-shadow: 0px 1px 3px 1px rgba(0, 0, 0, 0.15);\n",
              "      filter: drop-shadow(0px 1px 2px rgba(0, 0, 0, 0.3));\n",
              "      fill: #FFFFFF;\n",
              "    }\n",
              "  </style>\n",
              "\n",
              "      <script>\n",
              "        const buttonEl =\n",
              "          document.querySelector('#df-b7043d5d-f5b5-4574-936d-cf26afe19dbd button.colab-df-convert');\n",
              "        buttonEl.style.display =\n",
              "          google.colab.kernel.accessAllowed ? 'block' : 'none';\n",
              "\n",
              "        async function convertToInteractive(key) {\n",
              "          const element = document.querySelector('#df-b7043d5d-f5b5-4574-936d-cf26afe19dbd');\n",
              "          const dataTable =\n",
              "            await google.colab.kernel.invokeFunction('convertToInteractive',\n",
              "                                                     [key], {});\n",
              "          if (!dataTable) return;\n",
              "\n",
              "          const docLinkHtml = 'Like what you see? Visit the ' +\n",
              "            '<a target=\"_blank\" href=https://colab.research.google.com/notebooks/data_table.ipynb>data table notebook</a>'\n",
              "            + ' to learn more about interactive tables.';\n",
              "          element.innerHTML = '';\n",
              "          dataTable['output_type'] = 'display_data';\n",
              "          await google.colab.output.renderOutput(dataTable, element);\n",
              "          const docLink = document.createElement('div');\n",
              "          docLink.innerHTML = docLinkHtml;\n",
              "          element.appendChild(docLink);\n",
              "        }\n",
              "      </script>\n",
              "    </div>\n",
              "  </div>\n",
              "  "
            ]
          },
          "metadata": {},
          "execution_count": 168
        }
      ]
    },
    {
      "cell_type": "code",
      "source": [
        "y"
      ],
      "metadata": {
        "colab": {
          "base_uri": "https://localhost:8080/",
          "height": 424
        },
        "id": "O780ymosN1gy",
        "outputId": "96eeee38-8925-4de7-8072-e55251f6142d"
      },
      "execution_count": 151,
      "outputs": [
        {
          "output_type": "execute_result",
          "data": {
            "text/plain": [
              "      Chance of Admit \n",
              "0                 0.92\n",
              "1                 0.76\n",
              "2                 0.72\n",
              "3                 0.80\n",
              "4                 0.65\n",
              "...                ...\n",
              "1180              0.82\n",
              "1181              0.62\n",
              "1182              0.96\n",
              "1183              0.96\n",
              "1184              0.46\n",
              "\n",
              "[1185 rows x 1 columns]"
            ],
            "text/html": [
              "\n",
              "  <div id=\"df-bfa74154-ce6d-4d06-b017-ac431e706b63\">\n",
              "    <div class=\"colab-df-container\">\n",
              "      <div>\n",
              "<style scoped>\n",
              "    .dataframe tbody tr th:only-of-type {\n",
              "        vertical-align: middle;\n",
              "    }\n",
              "\n",
              "    .dataframe tbody tr th {\n",
              "        vertical-align: top;\n",
              "    }\n",
              "\n",
              "    .dataframe thead th {\n",
              "        text-align: right;\n",
              "    }\n",
              "</style>\n",
              "<table border=\"1\" class=\"dataframe\">\n",
              "  <thead>\n",
              "    <tr style=\"text-align: right;\">\n",
              "      <th></th>\n",
              "      <th>Chance of Admit</th>\n",
              "    </tr>\n",
              "  </thead>\n",
              "  <tbody>\n",
              "    <tr>\n",
              "      <th>0</th>\n",
              "      <td>0.92</td>\n",
              "    </tr>\n",
              "    <tr>\n",
              "      <th>1</th>\n",
              "      <td>0.76</td>\n",
              "    </tr>\n",
              "    <tr>\n",
              "      <th>2</th>\n",
              "      <td>0.72</td>\n",
              "    </tr>\n",
              "    <tr>\n",
              "      <th>3</th>\n",
              "      <td>0.80</td>\n",
              "    </tr>\n",
              "    <tr>\n",
              "      <th>4</th>\n",
              "      <td>0.65</td>\n",
              "    </tr>\n",
              "    <tr>\n",
              "      <th>...</th>\n",
              "      <td>...</td>\n",
              "    </tr>\n",
              "    <tr>\n",
              "      <th>1180</th>\n",
              "      <td>0.82</td>\n",
              "    </tr>\n",
              "    <tr>\n",
              "      <th>1181</th>\n",
              "      <td>0.62</td>\n",
              "    </tr>\n",
              "    <tr>\n",
              "      <th>1182</th>\n",
              "      <td>0.96</td>\n",
              "    </tr>\n",
              "    <tr>\n",
              "      <th>1183</th>\n",
              "      <td>0.96</td>\n",
              "    </tr>\n",
              "    <tr>\n",
              "      <th>1184</th>\n",
              "      <td>0.46</td>\n",
              "    </tr>\n",
              "  </tbody>\n",
              "</table>\n",
              "<p>1185 rows × 1 columns</p>\n",
              "</div>\n",
              "      <button class=\"colab-df-convert\" onclick=\"convertToInteractive('df-bfa74154-ce6d-4d06-b017-ac431e706b63')\"\n",
              "              title=\"Convert this dataframe to an interactive table.\"\n",
              "              style=\"display:none;\">\n",
              "        \n",
              "  <svg xmlns=\"http://www.w3.org/2000/svg\" height=\"24px\"viewBox=\"0 0 24 24\"\n",
              "       width=\"24px\">\n",
              "    <path d=\"M0 0h24v24H0V0z\" fill=\"none\"/>\n",
              "    <path d=\"M18.56 5.44l.94 2.06.94-2.06 2.06-.94-2.06-.94-.94-2.06-.94 2.06-2.06.94zm-11 1L8.5 8.5l.94-2.06 2.06-.94-2.06-.94L8.5 2.5l-.94 2.06-2.06.94zm10 10l.94 2.06.94-2.06 2.06-.94-2.06-.94-.94-2.06-.94 2.06-2.06.94z\"/><path d=\"M17.41 7.96l-1.37-1.37c-.4-.4-.92-.59-1.43-.59-.52 0-1.04.2-1.43.59L10.3 9.45l-7.72 7.72c-.78.78-.78 2.05 0 2.83L4 21.41c.39.39.9.59 1.41.59.51 0 1.02-.2 1.41-.59l7.78-7.78 2.81-2.81c.8-.78.8-2.07 0-2.86zM5.41 20L4 18.59l7.72-7.72 1.47 1.35L5.41 20z\"/>\n",
              "  </svg>\n",
              "      </button>\n",
              "      \n",
              "  <style>\n",
              "    .colab-df-container {\n",
              "      display:flex;\n",
              "      flex-wrap:wrap;\n",
              "      gap: 12px;\n",
              "    }\n",
              "\n",
              "    .colab-df-convert {\n",
              "      background-color: #E8F0FE;\n",
              "      border: none;\n",
              "      border-radius: 50%;\n",
              "      cursor: pointer;\n",
              "      display: none;\n",
              "      fill: #1967D2;\n",
              "      height: 32px;\n",
              "      padding: 0 0 0 0;\n",
              "      width: 32px;\n",
              "    }\n",
              "\n",
              "    .colab-df-convert:hover {\n",
              "      background-color: #E2EBFA;\n",
              "      box-shadow: 0px 1px 2px rgba(60, 64, 67, 0.3), 0px 1px 3px 1px rgba(60, 64, 67, 0.15);\n",
              "      fill: #174EA6;\n",
              "    }\n",
              "\n",
              "    [theme=dark] .colab-df-convert {\n",
              "      background-color: #3B4455;\n",
              "      fill: #D2E3FC;\n",
              "    }\n",
              "\n",
              "    [theme=dark] .colab-df-convert:hover {\n",
              "      background-color: #434B5C;\n",
              "      box-shadow: 0px 1px 3px 1px rgba(0, 0, 0, 0.15);\n",
              "      filter: drop-shadow(0px 1px 2px rgba(0, 0, 0, 0.3));\n",
              "      fill: #FFFFFF;\n",
              "    }\n",
              "  </style>\n",
              "\n",
              "      <script>\n",
              "        const buttonEl =\n",
              "          document.querySelector('#df-bfa74154-ce6d-4d06-b017-ac431e706b63 button.colab-df-convert');\n",
              "        buttonEl.style.display =\n",
              "          google.colab.kernel.accessAllowed ? 'block' : 'none';\n",
              "\n",
              "        async function convertToInteractive(key) {\n",
              "          const element = document.querySelector('#df-bfa74154-ce6d-4d06-b017-ac431e706b63');\n",
              "          const dataTable =\n",
              "            await google.colab.kernel.invokeFunction('convertToInteractive',\n",
              "                                                     [key], {});\n",
              "          if (!dataTable) return;\n",
              "\n",
              "          const docLinkHtml = 'Like what you see? Visit the ' +\n",
              "            '<a target=\"_blank\" href=https://colab.research.google.com/notebooks/data_table.ipynb>data table notebook</a>'\n",
              "            + ' to learn more about interactive tables.';\n",
              "          element.innerHTML = '';\n",
              "          dataTable['output_type'] = 'display_data';\n",
              "          await google.colab.output.renderOutput(dataTable, element);\n",
              "          const docLink = document.createElement('div');\n",
              "          docLink.innerHTML = docLinkHtml;\n",
              "          element.appendChild(docLink);\n",
              "        }\n",
              "      </script>\n",
              "    </div>\n",
              "  </div>\n",
              "  "
            ]
          },
          "metadata": {},
          "execution_count": 151
        }
      ]
    },
    {
      "cell_type": "markdown",
      "source": [
        "### **DATA MODELLING**"
      ],
      "metadata": {
        "id": "f94Ap_B-I4vL"
      }
    },
    {
      "cell_type": "code",
      "source": [
        "from sklearn.model_selection import train_test_split"
      ],
      "metadata": {
        "id": "2XqcUP0uN6Ob"
      },
      "execution_count": 240,
      "outputs": []
    },
    {
      "cell_type": "code",
      "source": [
        "x_train,x_test,y_train,y_test=train_test_split(x,y,test_size=0.2,random_state=15)\n"
      ],
      "metadata": {
        "id": "BwNjyi0rOICR"
      },
      "execution_count": 241,
      "outputs": []
    },
    {
      "cell_type": "markdown",
      "source": [
        "### **APPLYING SCALING TECHNIQUES**"
      ],
      "metadata": {
        "id": "785vaeSdI_k7"
      }
    },
    {
      "cell_type": "code",
      "source": [
        "from sklearn.preprocessing import StandardScaler\n",
        "sc=StandardScaler()\n",
        "x_train_scaled=sc.fit_transform(x_train)\n",
        "x_test_scaled=sc.transform(x_test)\n",
        "y_train_scaled=sc.fit_transform(y_train)\n",
        "y_test_scaled=sc.transform(y_test)"
      ],
      "metadata": {
        "id": "rv8rR4LGbfTI"
      },
      "execution_count": 232,
      "outputs": []
    },
    {
      "cell_type": "code",
      "source": [
        "print(x_train_scaled)"
      ],
      "metadata": {
        "colab": {
          "base_uri": "https://localhost:8080/"
        },
        "id": "upAI-jnnb1GM",
        "outputId": "82229899-d1b7-474e-c217-2c47b17e97c4"
      },
      "execution_count": 156,
      "outputs": [
        {
          "output_type": "stream",
          "name": "stdout",
          "text": [
            "[[ 1.15206551 -0.72000406 -0.94253335 -0.38558683]\n",
            " [ 0.58929356  0.59481637 -0.06824605  0.40445303]\n",
            " [ 1.15206551 -0.72000406 -0.94253335 -0.16706517]\n",
            " ...\n",
            " [-0.15637927 -0.39129895 -0.06824605 -0.41920555]\n",
            " [-1.21157668  0.92352148  0.80604124  1.93410468]\n",
            " [-0.14230997 -0.39129895 -0.06824605  0.23635944]]\n"
          ]
        }
      ]
    },
    {
      "cell_type": "code",
      "source": [
        "print(x_test_scaled)"
      ],
      "metadata": {
        "colab": {
          "base_uri": "https://localhost:8080/"
        },
        "id": "F9fCFdYaaiWM",
        "outputId": "0c97ff52-6891-4855-a85e-e8f26b850469"
      },
      "execution_count": 157,
      "outputs": [
        {
          "output_type": "stream",
          "name": "stdout",
          "text": [
            "[[ 5.89293561e-01  7.59168922e-01  1.68032854e+00  7.91068282e-01]\n",
            " [-1.67586354e+00 -5.55651505e-01 -9.42533351e-01 -2.00683884e-01]\n",
            " [ 5.89293561e-01  4.30463815e-01 -6.82460548e-02  4.38071748e-01]\n",
            " [ 1.10985761e+00 -8.84356612e-01 -9.42533351e-01 -6.88155288e-01]\n",
            " [-1.56379273e-01 -5.55651505e-01 -6.82460548e-02 -4.36014907e-01]\n",
            " [-3.39280157e-01 -3.91298951e-01 -9.42533351e-01 -2.34302602e-01]\n",
            " [-1.56379273e-01 -6.25938448e-02 -9.42533351e-01 -1.50255808e-01]\n",
            " [ 6.31501457e-01  4.30463815e-01 -6.82460548e-02  6.22974694e-01]\n",
            " [ 1.44752078e+00  9.23521475e-01  1.68032854e+00  1.44663327e+00]\n",
            " [-4.37765248e-01 -6.25938448e-02 -9.42533351e-01 -1.16637091e-01]\n",
            " [-1.67586354e+00  4.30463815e-01 -6.82460548e-02  8.75115076e-01]\n",
            " [ 5.33016366e-01  1.08787403e+00  1.68032854e+00  8.24686999e-01]\n",
            " [ 1.25006702e-01 -5.55651505e-01  1.68032854e+00  4.21262389e-01]\n",
            " [ 4.90808469e-01  1.01758709e-01  1.68032854e+00  9.08733793e-01]\n",
            " [ 4.90808469e-01  2.66111262e-01 -6.82460548e-02  3.03596878e-01]\n",
            " [ 4.90808469e-01 -5.55651505e-01  1.68032854e+00  4.21262389e-01]\n",
            " [ 9.69164627e-01             nan -9.42533351e-01 -1.57905130e+00]\n",
            " [ 1.05358042e+00 -1.21306172e+00 -6.82460548e-02 -9.23486310e-01]\n",
            " [ 1.02544182e+00 -1.21306172e+00 -1.81682065e+00 -1.17562669e+00]\n",
            " [-1.56862858e-02  1.08787403e+00 -6.82460548e-02  7.23830847e-01]\n",
            " [-3.39280157e-01  4.30463815e-01 -9.42533351e-01 -9.98277318e-02]\n",
            " [ 1.44752078e+00  4.30463815e-01 -9.42533351e-01  9.42352511e-01]\n",
            " [-4.37765248e-01  7.59168922e-01 -6.82460548e-02  8.58305717e-01]\n",
            " [-1.42309975e-01 -1.21306172e+00 -9.42533351e-01 -7.21774005e-01]\n",
            " [ 1.08171902e+00 -8.84356612e-01 -6.82460548e-02 -1.50255808e-01]\n",
            " [ 1.67214598e-01  4.30463815e-01  1.68032854e+00  1.02639930e+00]\n",
            " [ 1.03951112e+00 -3.91298951e-01 -1.81682065e+00 -1.32691092e+00]\n",
            " [ 5.33016366e-01  7.59168922e-01  8.06041242e-01  3.03596878e-01]\n",
            " [-3.67418755e-01 -5.55651505e-01 -9.42533351e-01 -5.53680418e-01]\n",
            " [ 1.44752078e+00  9.23521475e-01  1.68032854e+00  1.44663327e+00]\n",
            " [-1.67586354e+00 -2.26946398e-01 -6.82460548e-02 -1.50255808e-01]\n",
            " [ 5.89293561e-01 -8.84356612e-01 -6.82460548e-02 -1.99928527e+00]\n",
            " [-3.39280157e-01 -6.25938448e-02  8.06041242e-01  1.01884573e-01]\n",
            " [-1.70400214e+00  1.01758709e-01  8.06041242e-01  7.91068282e-01]\n",
            " [-1.21157668e+00  2.07398935e+00  1.68032854e+00  1.69877365e+00]\n",
            " [-1.14123019e+00  9.23521475e-01 -6.82460548e-02  1.22811161e+00]\n",
            " [-1.61958634e+00 -6.25938448e-02  8.06041242e-01  6.90212129e-01]\n",
            " [ 1.56007517e+00  1.74528424e+00  8.06041242e-01  1.78282045e+00]\n",
            " [-3.25210858e-01 -2.26946398e-01 -9.42533351e-01 -2.67921319e-01]\n",
            " [-1.70400214e+00  5.94816369e-01  8.06041242e-01  8.75115076e-01]\n",
            " [-1.76027933e+00 -3.91298951e-01 -6.82460548e-02  1.35503291e-01]\n",
            " [-3.39280157e-01  2.66111262e-01 -6.82460548e-02  1.69122008e-01]\n",
            " [ 1.51786728e+00  1.08787403e+00  8.06041242e-01  1.41301456e+00]\n",
            " [ 5.47085664e-01  1.58093169e+00  1.68032854e+00  1.63153622e+00]\n",
            " [-1.21157668e+00  2.07398935e+00  1.68032854e+00  1.69877365e+00]\n",
            " [-3.39280157e-01 -1.37741427e+00 -1.81682065e+00 -9.73914387e-01]\n",
            " [-4.23695950e-01  4.30463815e-01 -9.42533351e-01 -2.34302602e-01]\n",
            " [ 1.03951112e+00 -5.55651505e-01 -6.82460548e-02 -7.21774005e-01]\n",
            " [ 5.33016366e-01  4.30463815e-01  8.06041242e-01  6.39784053e-01]\n",
            " [ 6.87778652e-01  1.90963680e+00  1.68032854e+00  2.03496083e+00]\n",
            " [ 5.47085664e-01 -3.91298951e-01 -1.81682065e+00 -1.83119168e+00]\n",
            " [ 2.79768988e-01  9.23521475e-01 -9.42533351e-01  8.50752144e-02]\n",
            " [            nan -1.70611938e+00 -9.42533351e-01 -1.59586066e+00]\n",
            " [-3.67418755e-01 -2.26946398e-01 -9.42533351e-01 -9.90723745e-01]\n",
            " [-3.67418755e-01 -6.25938448e-02 -6.82460548e-02 -2.17493243e-01]\n",
            " [ 1.44752078e+00  1.08787403e+00  1.68032854e+00  1.00958995e+00]\n",
            " [-3.25210858e-01 -3.91298951e-01 -9.42533351e-01 -1.59586066e+00]\n",
            " [-3.53349456e-01 -7.20004058e-01 -9.42533351e-01 -5.87299135e-01]\n",
            " [ 5.18947067e-01  1.01758709e-01  8.06041242e-01  9.92780587e-01]\n",
            " [-3.18127851e+00  9.23521475e-01  1.68032854e+00  1.16087417e+00]\n",
            " [ 5.18947067e-01  1.25222658e+00  8.06041242e-01  9.59161869e-01]\n",
            " [ 1.03951112e+00 -8.84356612e-01 -9.42533351e-01 -1.20924541e+00]\n",
            " [-1.70400214e+00  1.08787403e+00 -6.82460548e-02  7.57449564e-01]\n",
            " [-1.80248723e+00 -2.52788215e+00 -1.81682065e+00 -1.19243605e+00]\n",
            " [-1.76027933e+00 -3.91298951e-01 -6.82460548e-02  1.35503291e-01]\n",
            " [ 2.09422494e-01 -1.21306172e+00 -6.82460548e-02  1.18693932e-01]\n",
            " [-1.76027933e+00 -2.26946398e-01 -6.82460548e-02 -4.36014907e-01]\n",
            " [ 9.83233926e-01 -1.37741427e+00 -9.42533351e-01 -9.40295669e-01]\n",
            " [-4.37765248e-01             nan -6.82460548e-02 -9.90723745e-01]\n",
            " [-1.01460650e+00 -1.37741427e+00 -6.82460548e-02 -1.56224194e+00]\n",
            " [-1.42309975e-01 -1.37741427e+00 -9.42533351e-01  6.90212129e-01]\n",
            " [ 5.33016366e-01  1.58093169e+00  1.68032854e+00  2.06857955e+00]\n",
            " [ 6.31501457e-01  4.30463815e-01 -6.82460548e-02  8.50752144e-02]\n",
            " [ 5.89293561e-01  2.66111262e-01 -6.82460548e-02  3.54024954e-01]\n",
            " [ 5.18947067e-01  4.30463815e-01  8.06041242e-01  7.23830847e-01]\n",
            " [ 1.51786728e+00             nan  8.06041242e-01 -9.90723745e-01]\n",
            " [ 1.53193658e+00  1.74528424e+00  1.68032854e+00  1.42982391e+00]\n",
            " [-1.70448572e-01 -3.91298951e-01 -6.82460548e-02 -4.86442983e-01]\n",
            " [ 5.89293561e-01  2.66111262e-01  8.06041242e-01  9.08733793e-01]\n",
            " [ 5.47085664e-01  1.41657914e+00 -6.82460548e-02  9.25543152e-01]\n",
            " [ 1.10985761e+00 -3.91298951e-01 -9.42533351e-01 -7.72202082e-01]\n",
            " [ 6.31501457e-01 -3.91298951e-01 -9.42533351e-01 -2.34302602e-01]\n",
            " [ 1.06764972e+00 -1.04870916e+00 -9.42533351e-01 -1.05796118e+00]\n",
            " [-1.76027933e+00  4.30463815e-01 -6.82460548e-02  7.57449564e-01]\n",
            " [ 5.89293561e-01  2.66111262e-01 -6.82460548e-02 -8.30183731e-02]\n",
            " [-1.70400214e+00             nan -6.82460548e-02 -3.18349396e-01]\n",
            " [ 9.97303225e-01 -1.21306172e+00 -1.81682065e+00 -1.15881733e+00]\n",
            " [-1.47889336e+00  1.58093169e+00  8.06041242e-01  8.58305717e-01]\n",
            " [ 1.44752078e+00  5.94816369e-01  8.06041242e-01  1.07682738e+00]\n",
            " [ 8.56610237e-01  2.66111262e-01  1.68032854e+00  3.54024954e-01]\n",
            " [ 3.92323378e-01 -8.84356612e-01 -9.42533351e-01 -5.87299135e-01]\n",
            " [ 1.10985761e+00 -2.26946398e-01 -9.42533351e-01 -7.21774005e-01]\n",
            " [ 1.02544182e+00 -2.26946398e-01 -9.42533351e-01 -3.18349396e-01]\n",
            " [            nan -1.21306172e+00 -9.42533351e-01 -8.73058234e-01]\n",
            " [-1.42309975e-01  2.66111262e-01  8.06041242e-01  2.86787519e-01]\n",
            " [-1.67586354e+00 -6.25938448e-02 -6.82460548e-02  1.52312649e-01]\n",
            " [-1.47889336e+00  1.74528424e+00 -9.42533351e-01  1.29534904e+00]\n",
            " [ 2.79768988e-01  5.94816369e-01  8.06041242e-01  4.71690466e-01]\n",
            " [ 1.53193658e+00  1.58093169e+00  1.68032854e+00  2.06857955e+00]\n",
            " [-3.25210858e-01 -1.54176682e+00 -6.82460548e-02 -4.86442983e-01]\n",
            " [-3.25210858e-01 -8.84356612e-01 -6.82460548e-02 -5.36871059e-01]\n",
            " [ 5.75224262e-01 -1.37741427e+00 -9.42533351e-01 -2.16737886e+00]\n",
            " [-3.39280157e-01 -5.55651505e-01 -6.82460548e-02 -8.39439517e-01]\n",
            " [-3.67418755e-01 -1.21306172e+00 -9.42533351e-01 -8.22630158e-01]\n",
            " [-1.21157668e+00  7.59168922e-01  8.06041242e-01  1.79962981e+00]\n",
            " [ 5.47085664e-01  1.01758709e-01 -6.82460548e-02  5.05309183e-01]\n",
            " [ 1.25006702e-01 -5.55651505e-01 -6.82460548e-02 -9.90723745e-01]\n",
            " [-3.39280157e-01 -1.54176682e+00 -1.81682065e+00 -6.88155288e-01]\n",
            " [-3.67418755e-01 -3.91298951e-01  1.68032854e+00 -4.93996556e-02]\n",
            " [-4.37765248e-01 -3.91298951e-01 -9.42533351e-01 -1.57905130e+00]\n",
            " [ 1.01137252e+00  5.94816369e-01  8.06041242e-01 -3.18349396e-01]\n",
            " [-1.70400214e+00 -6.25938448e-02 -6.82460548e-02  8.75115076e-01]\n",
            " [-3.67418755e-01 -2.26946398e-01 -9.42533351e-01 -9.90723745e-01]\n",
            " [-1.28240676e-01  1.08787403e+00  1.68032854e+00  1.69877365e+00]\n",
            " [ 1.05358042e+00 -5.55651505e-01 -6.82460548e-02 -7.89011440e-01]\n",
            " [ 1.25006702e-01 -1.70611938e+00 -9.42533351e-01 -1.32691092e+00]\n",
            " [-3.53349456e-01 -2.26946398e-01  8.06041242e-01 -3.85586831e-01]\n",
            " [ 5.33016366e-01  5.94816369e-01  8.06041242e-01  7.07021488e-01]\n",
            " [-3.39280157e-01  1.01758709e-01 -6.82460548e-02 -9.98277318e-02]\n",
            " [ 5.47085664e-01  7.59168922e-01 -6.82460548e-02  8.58305717e-01]\n",
            " [-3.95557352e-01 -1.21306172e+00 -9.42533351e-01 -1.15881733e+00]\n",
            " [-1.09902229e+00 -1.70611938e+00 -6.82460548e-02 -1.56224194e+00]\n",
            " [ 2.79768988e-01 -5.55651505e-01 -6.82460548e-02  2.53168802e-01]\n",
            " [-4.37765248e-01 -3.91298951e-01 -9.42533351e-01 -1.57905130e+00]\n",
            " [-1.47889336e+00  1.41657914e+00  1.68032854e+00  1.16087417e+00]\n",
            " [ 1.25006702e-01 -6.25938448e-02 -6.82460548e-02 -1.15881733e+00]\n",
            " [ 4.90808469e-01  5.94816369e-01  8.06041242e-01 -3.18349396e-01]\n",
            " [-1.76027933e+00  1.01758709e-01 -6.82460548e-02 -8.30183731e-02]\n",
            " [ 9.55095328e-01 -2.03482449e+00 -1.81682065e+00 -1.59586066e+00]\n",
            " [-3.25210858e-01  2.66111262e-01 -6.82460548e-02  6.90212129e-01]\n",
            " [-6.48804730e-01  1.90963680e+00  8.06041242e-01  1.73239237e+00]\n",
            " [-1.61698708e-03  7.59168922e-01 -6.82460548e-02  1.35503291e-01]\n",
            " [-1.74621003e+00 -5.55651505e-01 -6.82460548e-02 -2.51111961e-01]\n",
            " [-1.67586354e+00 -2.26946398e-01 -6.82460548e-02 -1.50255808e-01]\n",
            " [-1.67586354e+00 -1.21306172e+00 -9.42533351e-01 -3.25902968e-02]\n",
            " [-1.70400214e+00  5.94816369e-01 -6.82460548e-02  1.85931367e-01]\n",
            " [-1.61958634e+00 -1.37741427e+00 -1.81682065e+00 -2.67921319e-01]\n",
            " [ 7.58125146e-01  4.30463815e-01 -6.82460548e-02 -9.90723745e-01]\n",
            " [-1.80248723e+00 -1.37741427e+00 -1.81682065e+00 -1.89842912e+00]\n",
            " [ 5.47085664e-01  7.59168922e-01  8.06041242e-01  8.91924434e-01]\n",
            " [-1.76027933e+00  1.01758709e-01 -6.82460548e-02 -8.30183731e-02]\n",
            " [-8.59844211e-01 -3.91298951e-01 -6.82460548e-02 -9.57105028e-01]\n",
            " [ 5.47085664e-01  9.23521475e-01  1.68032854e+00  1.36258648e+00]\n",
            " [ 5.47085664e-01  1.08787403e+00 -6.82460548e-02  8.75115076e-01]\n",
            " [-1.70400214e+00  7.59168922e-01  8.06041242e-01  6.90212129e-01]\n",
            " [-6.48804730e-01  1.90963680e+00  8.06041242e-01  1.73239237e+00]\n",
            " [ 1.05358042e+00 -1.54176682e+00 -1.81682065e+00 -9.40295669e-01]\n",
            " [-8.59844211e-01 -6.25938448e-02 -9.42533351e-01  8.50752144e-02]\n",
            " [-4.51834547e-01 -1.37741427e+00 -1.81682065e+00 -3.00784680e+00]\n",
            " [ 5.33016366e-01  5.94816369e-01  1.68032854e+00  9.59161869e-01]\n",
            " [-6.48804730e-01 -6.25938448e-02 -9.42533351e-01 -1.50255808e-01]\n",
            " [-3.53349456e-01 -5.55651505e-01 -6.82460548e-02 -3.68777472e-01]\n",
            " [-3.25210858e-01  2.66111262e-01 -6.82460548e-02  6.90212129e-01]\n",
            " [-1.42309975e-01  2.66111262e-01  8.06041242e-01  2.86787519e-01]\n",
            " [-3.25210858e-01 -8.84356612e-01 -6.82460548e-02  1.52312649e-01]\n",
            " [ 5.89293561e-01  1.01758709e-01 -9.42533351e-01 -1.49500451e+00]\n",
            " [-3.39280157e-01 -7.20004058e-01 -6.82460548e-02 -2.34302602e-01]\n",
            " [-1.80248723e+00 -2.52788215e+00 -1.81682065e+00 -1.19243605e+00]\n",
            " [ 1.51786728e+00  1.08787403e+00  8.06041242e-01  1.41301456e+00]\n",
            " [ 4.90808469e-01  9.23521475e-01 -6.82460548e-02  1.18693932e-01]\n",
            " [ 1.51786728e+00  1.90963680e+00  1.68032854e+00  1.86686724e+00]\n",
            " [-1.76027933e+00  7.59168922e-01 -6.82460548e-02  2.02740726e-01]\n",
            " [ 1.02544182e+00 -1.70611938e+00 -6.82460548e-02 -1.56224194e+00]\n",
            " [ 1.44752078e+00  5.94816369e-01  8.06041242e-01  7.07021488e-01]\n",
            " [-1.42309975e-01 -8.84356612e-01 -6.82460548e-02 -1.99928527e+00]\n",
            " [-1.56379273e-01 -2.26946398e-01 -6.82460548e-02 -2.84730678e-01]\n",
            " [-1.76027933e+00  4.30463815e-01 -6.82460548e-02  3.37215596e-01]\n",
            " [ 6.31501457e-01 -6.25938448e-02 -6.82460548e-02 -2.17493243e-01]\n",
            " [-1.70400214e+00  7.59168922e-01  8.06041242e-01  6.90212129e-01]\n",
            " [-6.48804730e-01  1.74528424e+00  1.68032854e+00  1.58110814e+00]\n",
            " [-4.23695950e-01 -3.91298951e-01 -6.82460548e-02 -1.83874526e-01]\n",
            " [ 5.47085664e-01 -8.84356612e-01  8.06041242e-01  2.86787519e-01]\n",
            " [ 9.97303225e-01 -1.87047193e+00 -9.42533351e-01 -1.17562669e+00]\n",
            " [-3.67418755e-01  1.01758709e-01 -6.82460548e-02 -7.89011440e-01]\n",
            " [ 4.76739171e-01  2.07398935e+00 -6.82460548e-02  6.22974694e-01]\n",
            " [-1.61698708e-03 -2.26946398e-01 -9.42533351e-01 -1.12519862e+00]\n",
            " [-1.74621003e+00  1.01758709e-01  1.68032854e+00  2.53168802e-01]\n",
            " [-3.81488053e-01 -8.84356612e-01 -6.82460548e-02  5.14564969e-02]\n",
            " [ 5.89293561e-01 -6.25938448e-02 -9.42533351e-01 -2.51111961e-01]\n",
            " [-8.59844211e-01 -5.55651505e-01 -9.42533351e-01 -2.00683884e-01]\n",
            " [ 5.33016366e-01  5.94816369e-01 -6.82460548e-02  3.37215596e-01]\n",
            " [-1.47889336e+00  1.41657914e+00  1.68032854e+00  1.16087417e+00]\n",
            " [-3.25210858e-01 -2.26946398e-01 -9.42533351e-01 -5.70489777e-01]\n",
            " [-1.61958634e+00 -1.37741427e+00 -9.42533351e-01 -1.02434246e+00]\n",
            " [-3.18127851e+00  9.23521475e-01  1.68032854e+00  1.16087417e+00]\n",
            " [ 4.76739171e-01  1.90963680e+00  8.06041242e-01  1.26173033e+00]\n",
            " [-3.53349456e-01 -7.20004058e-01 -9.42533351e-01 -5.87299135e-01]\n",
            " [-3.39280157e-01 -1.21306172e+00 -9.42533351e-01 -1.15881733e+00]\n",
            " [-1.61958634e+00 -3.91298951e-01 -9.42533351e-01 -7.89011440e-01]\n",
            " [-1.09902229e+00  1.25222658e+00  1.68032854e+00  1.44663327e+00]\n",
            " [-3.67418755e-01 -1.21306172e+00 -9.42533351e-01 -8.22630158e-01]\n",
            " [-3.25210858e-01  4.30463815e-01 -6.82460548e-02  3.54024954e-01]\n",
            " [            nan -1.70611938e+00 -9.42533351e-01 -1.59586066e+00]\n",
            " [-1.74621003e+00  9.23521475e-01 -6.82460548e-02  4.88499824e-01]\n",
            " [ 5.89293561e-01  2.66111262e-01  8.06041242e-01  9.08733793e-01]\n",
            " [ 4.90808469e-01  9.23521475e-01  8.06041242e-01  8.75115076e-01]\n",
            " [-3.53349456e-01 -1.37741427e+00 -9.42533351e-01 -2.16737886e+00]\n",
            " [-1.76027933e+00             nan -9.42533351e-01  2.86787519e-01]\n",
            " [-1.74621003e+00  4.30463815e-01  1.68032854e+00  6.56593412e-01]\n",
            " [ 4.76739171e-01  7.59168922e-01  1.68032854e+00  2.03496083e+00]\n",
            " [ 5.33016366e-01  1.25222658e+00 -6.82460548e-02  2.86787519e-01]\n",
            " [ 1.06764972e+00 -8.84356612e-01 -1.81682065e+00 -9.90723745e-01]\n",
            " [ 4.62669872e-01  9.23521475e-01  1.68032854e+00  1.21130225e+00]\n",
            " [ 1.51786728e+00  1.90963680e+00  1.68032854e+00  1.49706135e+00]\n",
            " [-1.70400214e+00  4.30463815e-01  8.06041242e-01  1.35503291e-01]\n",
            " [ 6.31501457e-01  4.30463815e-01  1.68032854e+00  6.39784053e-01]\n",
            " [ 9.97303225e-01 -1.54176682e+00 -6.82460548e-02 -4.86442983e-01]\n",
            " [ 1.06764972e+00 -1.37741427e+00 -1.81682065e+00 -2.25142565e+00]\n",
            " [-1.42309975e-01  4.30463815e-01 -6.82460548e-02 -4.93996556e-02]\n",
            " [-1.42309975e-01  2.66111262e-01 -6.82460548e-02  2.86787519e-01]\n",
            " [ 1.15206551e+00  4.30463815e-01  8.06041242e-01  1.78377794e-02]\n",
            " [ 1.02544182e+00 -1.21306172e+00 -6.82460548e-02 -9.57105028e-01]\n",
            " [ 5.18947067e-01  4.30463815e-01  8.06041242e-01  9.25543152e-01]\n",
            " [ 5.33016366e-01 -3.91298951e-01 -6.82460548e-02  2.69978161e-01]\n",
            " [ 5.75224262e-01 -6.25938448e-02 -6.82460548e-02  1.85931367e-01]\n",
            " [ 4.90808469e-01  5.94816369e-01  8.06041242e-01  6.90212129e-01]\n",
            " [ 1.03951112e+00 -8.84356612e-01 -6.82460548e-02 -7.04964647e-01]\n",
            " [ 1.51786728e+00  1.58093169e+00  1.68032854e+00  8.07877641e-01]\n",
            " [-1.67586354e+00 -1.21306172e+00 -9.42533351e-01 -3.25902968e-02]\n",
            " [ 1.58821377e+00  1.41657914e+00  8.06041242e-01  2.03496083e+00]\n",
            " [-1.21157668e+00  2.07398935e+00  8.06041242e-01  2.23667313e+00]\n",
            " [-3.25210858e-01 -6.25938448e-02 -6.82460548e-02  1.69122008e-01]\n",
            " [-1.42309975e-01 -3.91298951e-01 -6.82460548e-02  2.36359443e-01]\n",
            " [-1.77434863e+00 -2.26946398e-01 -9.42533351e-01 -3.18349396e-01]\n",
            " [-8.59844211e-01 -6.25938448e-02 -9.42533351e-01 -1.50255808e-01]\n",
            " [ 4.76739171e-01  1.25222658e+00  1.68032854e+00  1.42982391e+00]\n",
            " [-1.56379273e-01 -7.20004058e-01 -1.81682065e+00 -1.22605477e+00]\n",
            " [-5.50319639e-01 -1.37741427e+00 -9.42533351e-01 -6.20917853e-01]\n",
            " [-9.30190705e-01  9.23521475e-01  1.68032854e+00  1.36258648e+00]\n",
            " [ 1.03951112e+00 -8.84356612e-01 -6.82460548e-02 -7.04964647e-01]\n",
            " [-3.53349456e-01 -2.26946398e-01 -9.42533351e-01 -4.36014907e-01]\n",
            " [-3.25210858e-01 -2.26946398e-01 -9.42533351e-01 -5.70489777e-01]\n",
            " [-1.67586354e+00 -2.26946398e-01 -6.82460548e-02 -1.50255808e-01]\n",
            " [-3.25210858e-01 -5.55651505e-01  8.06041242e-01  7.23830847e-01]\n",
            " [ 4.76739171e-01  1.25222658e+00  1.68032854e+00  1.42982391e+00]\n",
            " [ 1.44752078e+00  1.08787403e+00  1.68032854e+00  1.00958995e+00]\n",
            " [-3.25210858e-01 -7.20004058e-01 -6.82460548e-02  2.69978161e-01]]\n"
          ]
        }
      ]
    },
    {
      "cell_type": "code",
      "source": [
        "print(y_train_scaled)\n",
        "print(y_train_scaled.shape)"
      ],
      "metadata": {
        "colab": {
          "base_uri": "https://localhost:8080/"
        },
        "id": "y_OmF1XSapHe",
        "outputId": "2b4d951d-3911-4ca6-b314-6e10a8ca8567"
      },
      "execution_count": 233,
      "outputs": [
        {
          "output_type": "stream",
          "name": "stdout",
          "text": [
            "[[-0.15907176]\n",
            " [ 0.33031174]\n",
            " [-0.43871947]\n",
            " [-1.83695804]\n",
            " [ 1.51881452]\n",
            " [ 0.05066402]\n",
            " [ 1.16925487]\n",
            " [-1.06792683]\n",
            " [ 1.7285503 ]\n",
            " [-0.71836719]\n",
            " [-0.71836719]\n",
            " [ 1.44890259]\n",
            " [ 1.09934295]\n",
            " [-1.62722225]\n",
            " [-0.5086314 ]\n",
            " [ 0.81969523]\n",
            " [-1.06792683]\n",
            " [ 0.95951909]\n",
            " [-0.08915983]\n",
            " [-0.0192479 ]\n",
            " [ 0.26039981]\n",
            " [ 0.19048788]\n",
            " [-0.43871947]\n",
            " [-0.15907176]\n",
            " [ 0.12057595]\n",
            " [-0.92810297]\n",
            " [ 0.81969523]\n",
            " [ 0.47013559]\n",
            " [ 0.54004752]\n",
            " [ 1.09934295]\n",
            " [-0.0192479 ]\n",
            " [-1.62722225]\n",
            " [-0.15907176]\n",
            " [ 0.88960716]\n",
            " [ 0.95951909]\n",
            " [ 1.37899066]\n",
            " [ 0.12057595]\n",
            " [ 0.88960716]\n",
            " [-1.76704611]\n",
            " [ 0.74978331]\n",
            " [-1.06792683]\n",
            " [ 1.7285503 ]\n",
            " [ 0.40022366]\n",
            " [ 0.54004752]\n",
            " [ 0.12057595]\n",
            " [-0.29889562]\n",
            " [ 0.60995945]\n",
            " [ 0.54004752]\n",
            " [ 1.51881452]\n",
            " [ 0.33031174]\n",
            " [-0.9980149 ]\n",
            " [-0.43871947]\n",
            " [-0.15907176]\n",
            " [-1.83695804]\n",
            " [ 0.26039981]\n",
            " [-1.27766261]\n",
            " [ 1.30907873]\n",
            " [ 1.51881452]\n",
            " [-0.43871947]\n",
            " [-1.13783876]\n",
            " [ 0.05066402]\n",
            " [-1.4873984 ]\n",
            " [ 0.88960716]\n",
            " [ 0.33031174]\n",
            " [-1.97678189]\n",
            " [-0.64845526]\n",
            " [-0.57854333]\n",
            " [ 1.30907873]\n",
            " [-0.5086314 ]\n",
            " [-0.36880755]\n",
            " [ 0.05066402]\n",
            " [ 0.12057595]\n",
            " [ 0.67987138]\n",
            " [ 1.16925487]\n",
            " [-1.55731032]\n",
            " [-0.36880755]\n",
            " [-0.08915983]\n",
            " [ 0.95951909]\n",
            " [-0.22898369]\n",
            " [-0.64845526]\n",
            " [ 1.65863837]\n",
            " [ 1.02943102]\n",
            " [-1.83695804]\n",
            " [-0.5086314 ]\n",
            " [ 0.60995945]\n",
            " [-2.39625346]\n",
            " [-0.78827911]\n",
            " [-0.29889562]\n",
            " [-0.64845526]\n",
            " [-0.71836719]\n",
            " [-1.83695804]\n",
            " [ 0.12057595]\n",
            " [ 1.65863837]\n",
            " [-0.22898369]\n",
            " [-1.41748647]\n",
            " [ 0.05066402]\n",
            " [-0.43871947]\n",
            " [ 0.26039981]\n",
            " [ 1.58872644]\n",
            " [ 0.12057595]\n",
            " [-0.43871947]\n",
            " [-0.0192479 ]\n",
            " [ 1.65863837]\n",
            " [-1.13783876]\n",
            " [-0.78827911]\n",
            " [-0.64845526]\n",
            " [ 0.05066402]\n",
            " [ 0.60995945]\n",
            " [ 0.88960716]\n",
            " [-0.57854333]\n",
            " [-1.27766261]\n",
            " [ 0.12057595]\n",
            " [-0.92810297]\n",
            " [ 1.2391668 ]\n",
            " [-2.67590118]\n",
            " [ 0.54004752]\n",
            " [ 1.02943102]\n",
            " [ 1.09934295]\n",
            " [ 0.81969523]\n",
            " [-1.41748647]\n",
            " [ 0.40022366]\n",
            " [ 1.16925487]\n",
            " [ 0.95951909]\n",
            " [ 0.47013559]\n",
            " [ 1.2391668 ]\n",
            " [-1.27766261]\n",
            " [ 0.81969523]\n",
            " [ 0.26039981]\n",
            " [-0.08915983]\n",
            " [ 0.40022366]\n",
            " [ 0.26039981]\n",
            " [ 0.40022366]\n",
            " [-0.71836719]\n",
            " [ 1.16925487]\n",
            " [-1.13783876]\n",
            " [-1.76704611]\n",
            " [ 0.12057595]\n",
            " [-0.15907176]\n",
            " [-1.76704611]\n",
            " [ 0.05066402]\n",
            " [ 0.12057595]\n",
            " [-0.22898369]\n",
            " [ 1.51881452]\n",
            " [-0.71836719]\n",
            " [ 0.54004752]\n",
            " [-2.11660575]\n",
            " [ 0.26039981]\n",
            " [-0.29889562]\n",
            " [ 0.05066402]\n",
            " [ 0.12057595]\n",
            " [-2.11660575]\n",
            " [ 0.60995945]\n",
            " [-0.5086314 ]\n",
            " [-0.92810297]\n",
            " [-1.34757454]\n",
            " [-0.57854333]\n",
            " [-0.36880755]\n",
            " [-0.71836719]\n",
            " [ 0.47013559]\n",
            " [-1.41748647]\n",
            " [-1.06792683]\n",
            " [ 0.40022366]\n",
            " [ 0.12057595]\n",
            " [ 0.26039981]\n",
            " [ 1.02943102]\n",
            " [-1.76704611]\n",
            " [-0.15907176]\n",
            " [ 0.88960716]\n",
            " [ 0.40022366]\n",
            " [ 0.40022366]\n",
            " [ 0.54004752]\n",
            " [-0.15907176]\n",
            " [-0.08915983]\n",
            " [-0.57854333]\n",
            " [ 0.40022366]\n",
            " [ 1.2391668 ]\n",
            " [ 1.16925487]\n",
            " [-0.64845526]\n",
            " [ 1.37899066]\n",
            " [ 0.19048788]\n",
            " [ 1.2391668 ]\n",
            " [-0.0192479 ]\n",
            " [ 0.88960716]\n",
            " [ 0.54004752]\n",
            " [ 0.67987138]\n",
            " [ 1.65863837]\n",
            " [ 0.05066402]\n",
            " [-0.64845526]\n",
            " [-0.57854333]\n",
            " [ 1.37899066]\n",
            " [-0.22898369]\n",
            " [ 0.47013559]\n",
            " [ 1.2391668 ]\n",
            " [ 1.09934295]\n",
            " [-1.34757454]\n",
            " [ 1.02943102]\n",
            " [-0.0192479 ]\n",
            " [ 0.19048788]\n",
            " [ 0.33031174]\n",
            " [-0.29889562]\n",
            " [ 0.19048788]\n",
            " [ 1.44890259]\n",
            " [-0.92810297]\n",
            " [ 1.16925487]\n",
            " [ 1.58872644]\n",
            " [ 1.7285503 ]\n",
            " [ 0.05066402]\n",
            " [ 0.26039981]\n",
            " [-0.0192479 ]\n",
            " [-0.9980149 ]\n",
            " [ 1.30907873]\n",
            " [ 1.7285503 ]\n",
            " [-2.32634153]\n",
            " [ 0.40022366]\n",
            " [ 0.05066402]\n",
            " [-0.43871947]\n",
            " [ 0.67987138]\n",
            " [ 0.47013559]\n",
            " [ 0.05066402]\n",
            " [ 1.16925487]\n",
            " [ 1.37899066]\n",
            " [-1.06792683]\n",
            " [ 0.54004752]\n",
            " [ 1.44890259]\n",
            " [-0.5086314 ]\n",
            " [ 0.67987138]\n",
            " [ 0.26039981]\n",
            " [-1.06792683]\n",
            " [ 0.19048788]\n",
            " [-0.0192479 ]\n",
            " [-1.97678189]\n",
            " [ 0.67987138]\n",
            " [-0.15907176]\n",
            " [-0.57854333]\n",
            " [ 1.44890259]\n",
            " [ 1.30907873]\n",
            " [-0.78827911]\n",
            " [-1.55731032]\n",
            " [ 1.30907873]\n",
            " [ 1.37899066]\n",
            " [-0.57854333]\n",
            " [-1.06792683]\n",
            " [-0.57854333]\n",
            " [ 0.12057595]\n",
            " [-0.5086314 ]\n",
            " [-0.78827911]\n",
            " [-0.57854333]\n",
            " [ 0.81969523]\n",
            " [ 0.47013559]\n",
            " [-1.90686997]\n",
            " [-0.64845526]\n",
            " [ 0.40022366]\n",
            " [-2.67590118]\n",
            " [ 1.2391668 ]\n",
            " [ 0.26039981]\n",
            " [-0.15907176]\n",
            " [-0.08915983]\n",
            " [ 0.67987138]\n",
            " [-0.92810297]\n",
            " [-0.29889562]\n",
            " [-0.9980149 ]\n",
            " [-2.53607732]\n",
            " [-1.69713418]\n",
            " [-0.08915983]\n",
            " [-1.76704611]\n",
            " [-0.57854333]\n",
            " [-0.15907176]\n",
            " [-0.15907176]\n",
            " [-2.32634153]\n",
            " [ 0.26039981]\n",
            " [-0.57854333]\n",
            " [-0.0192479 ]\n",
            " [ 0.12057595]\n",
            " [-1.83695804]\n",
            " [ 1.16925487]\n",
            " [ 0.05066402]\n",
            " [ 0.33031174]\n",
            " [ 0.95951909]\n",
            " [ 0.54004752]\n",
            " [-0.08915983]\n",
            " [-0.15907176]\n",
            " [-0.29889562]\n",
            " [-0.5086314 ]\n",
            " [ 1.30907873]\n",
            " [-1.76704611]\n",
            " [ 1.51881452]\n",
            " [-0.9980149 ]\n",
            " [ 0.05066402]\n",
            " [ 0.05066402]\n",
            " [ 0.67987138]\n",
            " [ 0.47013559]\n",
            " [-0.15907176]\n",
            " [ 0.33031174]\n",
            " [-2.11660575]\n",
            " [ 0.40022366]\n",
            " [ 0.05066402]\n",
            " [ 1.65863837]\n",
            " [-0.22898369]\n",
            " [ 0.54004752]\n",
            " [ 1.44890259]\n",
            " [-1.34757454]\n",
            " [ 1.51881452]\n",
            " [-1.06792683]\n",
            " [ 0.74978331]\n",
            " [-1.76704611]\n",
            " [-0.92810297]\n",
            " [ 0.54004752]\n",
            " [-0.9980149 ]\n",
            " [-1.06792683]\n",
            " [-2.53607732]\n",
            " [ 0.47013559]\n",
            " [-0.0192479 ]\n",
            " [-0.57854333]\n",
            " [ 0.40022366]\n",
            " [-0.29889562]\n",
            " [-1.13783876]\n",
            " [ 1.65863837]\n",
            " [-0.08915983]\n",
            " [ 0.05066402]\n",
            " [ 0.26039981]\n",
            " [-0.15907176]\n",
            " [-0.15907176]\n",
            " [-0.29889562]\n",
            " [ 1.16925487]\n",
            " [-0.57854333]\n",
            " [ 0.54004752]\n",
            " [ 0.60995945]\n",
            " [ 1.58872644]\n",
            " [ 0.60995945]\n",
            " [-0.71836719]\n",
            " [-0.85819104]\n",
            " [-0.0192479 ]\n",
            " [-0.29889562]\n",
            " [-0.08915983]\n",
            " [ 0.26039981]\n",
            " [ 0.12057595]\n",
            " [ 0.05066402]\n",
            " [ 1.30907873]\n",
            " [-0.08915983]\n",
            " [-0.43871947]\n",
            " [-0.0192479 ]\n",
            " [-0.57854333]\n",
            " [-0.57854333]\n",
            " [ 0.33031174]\n",
            " [ 0.67987138]\n",
            " [-0.57854333]\n",
            " [-0.43871947]\n",
            " [ 0.74978331]\n",
            " [-1.06792683]\n",
            " [ 0.60995945]\n",
            " [-0.43871947]\n",
            " [ 0.54004752]\n",
            " [ 0.81969523]\n",
            " [ 1.2391668 ]\n",
            " [ 1.30907873]\n",
            " [-1.55731032]\n",
            " [ 0.95951909]\n",
            " [ 0.19048788]\n",
            " [ 1.2391668 ]\n",
            " [-0.22898369]\n",
            " [-0.64845526]\n",
            " [-1.76704611]\n",
            " [ 0.26039981]\n",
            " [-0.43871947]\n",
            " [-0.0192479 ]\n",
            " [-0.36880755]\n",
            " [-1.27766261]\n",
            " [-0.29889562]\n",
            " [-0.57854333]\n",
            " [-0.29889562]\n",
            " [-2.53607732]\n",
            " [-0.57854333]\n",
            " [-2.11660575]\n",
            " [-1.55731032]\n",
            " [-0.5086314 ]\n",
            " [-1.06792683]\n",
            " [-2.11660575]\n",
            " [ 1.51881452]\n",
            " [ 1.51881452]\n",
            " [ 1.51881452]\n",
            " [-0.0192479 ]\n",
            " [ 0.40022366]\n",
            " [-0.0192479 ]\n",
            " [-1.62722225]\n",
            " [ 0.26039981]\n",
            " [ 0.12057595]\n",
            " [-0.71836719]\n",
            " [-1.41748647]\n",
            " [-2.39625346]\n",
            " [ 1.44890259]\n",
            " [ 1.44890259]\n",
            " [ 1.51881452]\n",
            " [-0.57854333]\n",
            " [-2.32634153]\n",
            " [ 0.88960716]\n",
            " [ 1.44890259]\n",
            " [ 0.05066402]\n",
            " [-0.64845526]\n",
            " [-1.90686997]\n",
            " [-0.0192479 ]\n",
            " [ 0.33031174]\n",
            " [-1.62722225]\n",
            " [ 1.2391668 ]\n",
            " [ 0.47013559]\n",
            " [ 1.51881452]\n",
            " [ 0.81969523]\n",
            " [-0.08915983]\n",
            " [-0.78827911]\n",
            " [-1.97678189]\n",
            " [-1.90686997]\n",
            " [ 1.02943102]\n",
            " [ 0.67987138]\n",
            " [ 1.7285503 ]\n",
            " [ 0.54004752]\n",
            " [ 0.26039981]\n",
            " [-0.5086314 ]\n",
            " [-0.08915983]\n",
            " [-0.22898369]\n",
            " [ 1.51881452]\n",
            " [-0.5086314 ]\n",
            " [ 0.26039981]\n",
            " [-0.71836719]\n",
            " [ 1.51881452]\n",
            " [ 0.54004752]\n",
            " [-0.0192479 ]\n",
            " [ 0.88960716]\n",
            " [-0.0192479 ]\n",
            " [ 0.54004752]\n",
            " [-0.15907176]\n",
            " [ 0.47013559]\n",
            " [-0.0192479 ]\n",
            " [ 1.51881452]\n",
            " [-0.22898369]\n",
            " [-0.71836719]\n",
            " [-1.62722225]\n",
            " [ 0.05066402]\n",
            " [ 1.65863837]\n",
            " [ 0.05066402]\n",
            " [ 0.47013559]\n",
            " [-2.39625346]\n",
            " [ 0.88960716]\n",
            " [-0.78827911]\n",
            " [-0.0192479 ]\n",
            " [-0.22898369]\n",
            " [-1.06792683]\n",
            " [ 1.2391668 ]\n",
            " [-0.08915983]\n",
            " [ 0.81969523]\n",
            " [-1.41748647]\n",
            " [ 0.54004752]\n",
            " [ 1.65863837]\n",
            " [-2.67590118]\n",
            " [ 1.16925487]\n",
            " [-0.15907176]\n",
            " [ 0.81969523]\n",
            " [ 0.95951909]\n",
            " [ 1.37899066]\n",
            " [ 0.47013559]\n",
            " [-1.20775068]\n",
            " [-0.78827911]\n",
            " [-0.43871947]\n",
            " [ 1.2391668 ]\n",
            " [ 1.16925487]\n",
            " [-0.15907176]\n",
            " [-2.67590118]\n",
            " [-2.11660575]\n",
            " [ 0.47013559]\n",
            " [ 1.02943102]\n",
            " [-0.0192479 ]\n",
            " [-1.83695804]\n",
            " [ 0.47013559]\n",
            " [-1.06792683]\n",
            " [ 0.19048788]\n",
            " [ 0.12057595]\n",
            " [-0.29889562]\n",
            " [-2.11660575]\n",
            " [-0.0192479 ]\n",
            " [ 0.54004752]\n",
            " [ 1.65863837]\n",
            " [ 1.30907873]\n",
            " [-0.78827911]\n",
            " [ 1.16925487]\n",
            " [ 1.44890259]\n",
            " [ 0.95951909]\n",
            " [ 0.81969523]\n",
            " [ 0.47013559]\n",
            " [ 1.51881452]\n",
            " [-0.08915983]\n",
            " [-0.29889562]\n",
            " [-1.83695804]\n",
            " [-0.57854333]\n",
            " [-0.0192479 ]\n",
            " [ 1.16925487]\n",
            " [-1.83695804]\n",
            " [-1.69713418]\n",
            " [-0.64845526]\n",
            " [ 1.09934295]\n",
            " [ 1.02943102]\n",
            " [ 0.95951909]\n",
            " [ 0.95951909]\n",
            " [ 0.33031174]\n",
            " [-0.36880755]\n",
            " [ 0.12057595]\n",
            " [-1.62722225]\n",
            " [ 1.44890259]\n",
            " [-0.57854333]\n",
            " [ 0.26039981]\n",
            " [-0.57854333]\n",
            " [-1.13783876]\n",
            " [-0.29889562]\n",
            " [-0.29889562]\n",
            " [ 0.95951909]\n",
            " [ 1.16925487]\n",
            " [-2.39625346]\n",
            " [-0.5086314 ]\n",
            " [-1.27766261]\n",
            " [ 0.47013559]\n",
            " [ 0.33031174]\n",
            " [-0.57854333]\n",
            " [ 1.09934295]\n",
            " [ 0.12057595]\n",
            " [-0.0192479 ]\n",
            " [-0.43871947]\n",
            " [ 1.44890259]\n",
            " [ 0.60995945]\n",
            " [-0.43871947]\n",
            " [ 0.40022366]\n",
            " [ 0.74978331]\n",
            " [ 1.02943102]\n",
            " [ 0.95951909]\n",
            " [ 0.81969523]\n",
            " [ 0.95951909]\n",
            " [ 1.02943102]\n",
            " [ 0.26039981]\n",
            " [ 0.05066402]\n",
            " [-0.29889562]\n",
            " [ 0.47013559]\n",
            " [-0.36880755]\n",
            " [ 0.26039981]\n",
            " [-0.71836719]\n",
            " [-0.29889562]\n",
            " [-0.57854333]\n",
            " [ 1.44890259]\n",
            " [ 0.47013559]\n",
            " [ 0.54004752]\n",
            " [-0.0192479 ]\n",
            " [ 1.44890259]\n",
            " [-0.08915983]\n",
            " [-0.57854333]\n",
            " [-0.08915983]\n",
            " [ 0.12057595]\n",
            " [ 0.40022366]\n",
            " [-0.57854333]\n",
            " [-0.78827911]\n",
            " [-1.13783876]\n",
            " [-1.83695804]\n",
            " [ 0.12057595]\n",
            " [-0.5086314 ]\n",
            " [-1.27766261]\n",
            " [-0.71836719]\n",
            " [ 0.95951909]\n",
            " [-1.69713418]\n",
            " [-0.08915983]\n",
            " [ 0.19048788]\n",
            " [-0.71836719]\n",
            " [-0.57854333]\n",
            " [-0.36880755]\n",
            " [ 1.7285503 ]\n",
            " [ 1.2391668 ]\n",
            " [-0.78827911]\n",
            " [ 0.40022366]\n",
            " [-0.08915983]\n",
            " [ 1.09934295]\n",
            " [ 0.19048788]\n",
            " [-0.08915983]\n",
            " [-0.29889562]\n",
            " [-1.27766261]\n",
            " [ 0.67987138]\n",
            " [-1.76704611]\n",
            " [-1.13783876]\n",
            " [-0.22898369]\n",
            " [-2.11660575]\n",
            " [ 1.44890259]\n",
            " [ 1.58872644]\n",
            " [-1.41748647]\n",
            " [ 1.30907873]\n",
            " [ 1.09934295]\n",
            " [-0.92810297]\n",
            " [ 0.67987138]\n",
            " [ 1.37899066]\n",
            " [ 0.47013559]\n",
            " [ 0.60995945]\n",
            " [ 0.95951909]\n",
            " [-1.34757454]\n",
            " [-1.90686997]\n",
            " [-0.08915983]\n",
            " [-1.27766261]\n",
            " [ 1.16925487]\n",
            " [ 1.02943102]\n",
            " [-0.15907176]\n",
            " [-0.08915983]\n",
            " [-0.9980149 ]\n",
            " [ 0.67987138]\n",
            " [ 0.60995945]\n",
            " [ 1.44890259]\n",
            " [ 0.54004752]\n",
            " [-0.15907176]\n",
            " [ 1.65863837]\n",
            " [-0.15907176]\n",
            " [ 0.19048788]\n",
            " [ 0.05066402]\n",
            " [-0.22898369]\n",
            " [-0.78827911]\n",
            " [-0.5086314 ]\n",
            " [ 1.51881452]\n",
            " [-0.36880755]\n",
            " [ 0.74978331]\n",
            " [-0.78827911]\n",
            " [ 1.58872644]\n",
            " [-0.43871947]\n",
            " [-0.08915983]\n",
            " [ 0.19048788]\n",
            " [-0.29889562]\n",
            " [-0.0192479 ]\n",
            " [ 0.05066402]\n",
            " [-0.0192479 ]\n",
            " [ 0.40022366]\n",
            " [ 0.33031174]\n",
            " [-0.15907176]\n",
            " [ 0.40022366]\n",
            " [-0.29889562]\n",
            " [-0.08915983]\n",
            " [-0.08915983]\n",
            " [ 0.47013559]\n",
            " [ 0.05066402]\n",
            " [-2.04669382]\n",
            " [ 0.26039981]\n",
            " [ 1.09934295]\n",
            " [-0.22898369]\n",
            " [-0.64845526]\n",
            " [-1.27766261]\n",
            " [ 0.26039981]\n",
            " [-0.29889562]\n",
            " [ 0.95951909]\n",
            " [-1.83695804]\n",
            " [ 0.12057595]\n",
            " [-0.22898369]\n",
            " [ 0.60995945]\n",
            " [ 0.54004752]\n",
            " [ 1.44890259]\n",
            " [-1.76704611]\n",
            " [-0.29889562]\n",
            " [ 0.54004752]\n",
            " [ 1.02943102]\n",
            " [ 1.30907873]\n",
            " [-1.06792683]\n",
            " [ 0.26039981]\n",
            " [ 0.47013559]\n",
            " [-0.22898369]\n",
            " [-1.69713418]\n",
            " [-1.06792683]\n",
            " [-0.92810297]\n",
            " [ 1.51881452]\n",
            " [-0.71836719]\n",
            " [-1.27766261]\n",
            " [-0.92810297]\n",
            " [ 0.81969523]\n",
            " [-1.13783876]\n",
            " [-1.13783876]\n",
            " [-0.22898369]\n",
            " [ 0.54004752]\n",
            " [-0.9980149 ]\n",
            " [-0.43871947]\n",
            " [-0.5086314 ]\n",
            " [-1.13783876]\n",
            " [-0.08915983]\n",
            " [ 0.67987138]\n",
            " [-0.29889562]\n",
            " [-0.64845526]\n",
            " [ 1.65863837]\n",
            " [-0.9980149 ]\n",
            " [ 1.09934295]\n",
            " [ 0.47013559]\n",
            " [ 0.54004752]\n",
            " [ 1.2391668 ]\n",
            " [ 1.30907873]\n",
            " [-0.71836719]\n",
            " [ 0.33031174]\n",
            " [ 0.12057595]\n",
            " [ 0.95951909]\n",
            " [-0.0192479 ]\n",
            " [ 1.51881452]\n",
            " [ 0.33031174]\n",
            " [-0.57854333]\n",
            " [ 1.37899066]\n",
            " [ 1.2391668 ]\n",
            " [-1.83695804]\n",
            " [ 1.65863837]\n",
            " [ 1.58872644]\n",
            " [-0.57854333]\n",
            " [ 0.40022366]\n",
            " [-0.36880755]\n",
            " [ 0.40022366]\n",
            " [-1.41748647]\n",
            " [-1.83695804]\n",
            " [ 0.26039981]\n",
            " [ 0.60995945]\n",
            " [ 0.33031174]\n",
            " [ 1.44890259]\n",
            " [ 1.51881452]\n",
            " [ 0.12057595]\n",
            " [-0.78827911]\n",
            " [-0.0192479 ]\n",
            " [ 0.33031174]\n",
            " [ 0.47013559]\n",
            " [ 0.12057595]\n",
            " [ 1.2391668 ]\n",
            " [-1.62722225]\n",
            " [ 1.7285503 ]\n",
            " [ 1.51881452]\n",
            " [-0.36880755]\n",
            " [-0.92810297]\n",
            " [ 0.33031174]\n",
            " [ 0.95951909]\n",
            " [ 1.44890259]\n",
            " [ 0.05066402]\n",
            " [-0.71836719]\n",
            " [-0.0192479 ]\n",
            " [ 1.51881452]\n",
            " [-0.29889562]\n",
            " [-0.15907176]\n",
            " [-1.34757454]\n",
            " [ 0.05066402]\n",
            " [ 1.7285503 ]\n",
            " [-1.69713418]\n",
            " [-0.0192479 ]\n",
            " [ 0.40022366]\n",
            " [-0.08915983]\n",
            " [-1.90686997]\n",
            " [-0.5086314 ]\n",
            " [-1.76704611]\n",
            " [-0.22898369]\n",
            " [ 0.74978331]\n",
            " [ 0.47013559]\n",
            " [-0.57854333]\n",
            " [ 0.40022366]\n",
            " [ 1.58872644]\n",
            " [-0.0192479 ]\n",
            " [-1.83695804]\n",
            " [ 0.05066402]\n",
            " [ 1.44890259]\n",
            " [-0.57854333]\n",
            " [ 0.19048788]\n",
            " [-2.67590118]\n",
            " [ 0.19048788]\n",
            " [ 0.26039981]\n",
            " [-1.27766261]\n",
            " [ 0.81969523]\n",
            " [-0.9980149 ]\n",
            " [ 0.12057595]\n",
            " [-0.0192479 ]\n",
            " [ 1.2391668 ]\n",
            " [ 0.19048788]\n",
            " [ 0.40022366]\n",
            " [-0.29889562]\n",
            " [ 0.95951909]\n",
            " [ 1.44890259]\n",
            " [ 0.40022366]\n",
            " [-0.15907176]\n",
            " [ 1.65863837]\n",
            " [-1.90686997]\n",
            " [-0.57854333]\n",
            " [ 1.44890259]\n",
            " [-1.13783876]\n",
            " [-1.97678189]\n",
            " [-0.0192479 ]\n",
            " [-0.36880755]\n",
            " [-0.22898369]\n",
            " [-1.97678189]\n",
            " [-1.13783876]\n",
            " [-1.97678189]\n",
            " [-0.36880755]\n",
            " [ 1.30907873]\n",
            " [-0.43871947]\n",
            " [-0.36880755]\n",
            " [ 0.40022366]\n",
            " [ 1.2391668 ]\n",
            " [ 1.37899066]\n",
            " [-0.5086314 ]\n",
            " [ 0.88960716]\n",
            " [-0.5086314 ]\n",
            " [-0.08915983]\n",
            " [ 0.81969523]\n",
            " [-0.29889562]\n",
            " [ 1.65863837]\n",
            " [ 0.05066402]\n",
            " [ 1.30907873]\n",
            " [ 1.16925487]\n",
            " [ 1.51881452]\n",
            " [-0.5086314 ]\n",
            " [ 0.40022366]\n",
            " [-0.08915983]\n",
            " [ 1.58872644]\n",
            " [-0.15907176]\n",
            " [-2.11660575]\n",
            " [ 0.60995945]\n",
            " [-1.20775068]\n",
            " [-0.15907176]\n",
            " [ 0.88960716]\n",
            " [ 1.30907873]\n",
            " [-1.41748647]\n",
            " [-0.36880755]\n",
            " [ 1.65863837]\n",
            " [-1.76704611]\n",
            " [-0.5086314 ]\n",
            " [ 1.37899066]\n",
            " [-0.43871947]\n",
            " [ 1.16925487]\n",
            " [-1.97678189]\n",
            " [-0.78827911]\n",
            " [-0.36880755]\n",
            " [-1.97678189]\n",
            " [-2.53607732]\n",
            " [ 0.60995945]\n",
            " [ 0.54004752]\n",
            " [ 0.67987138]\n",
            " [-0.5086314 ]\n",
            " [ 0.95951909]\n",
            " [ 0.47013559]\n",
            " [ 1.51881452]\n",
            " [-1.62722225]\n",
            " [-0.08915983]\n",
            " [-0.22898369]\n",
            " [ 1.16925487]\n",
            " [ 0.54004752]\n",
            " [ 0.40022366]\n",
            " [-0.9980149 ]\n",
            " [ 1.44890259]\n",
            " [ 1.09934295]\n",
            " [-1.34757454]\n",
            " [-0.08915983]\n",
            " [ 1.2391668 ]\n",
            " [ 0.12057595]\n",
            " [ 0.88960716]\n",
            " [-0.22898369]\n",
            " [-1.41748647]\n",
            " [-0.64845526]\n",
            " [-0.64845526]\n",
            " [ 0.19048788]\n",
            " [ 1.30907873]\n",
            " [ 0.60995945]\n",
            " [ 0.05066402]\n",
            " [-1.97678189]\n",
            " [ 1.44890259]\n",
            " [-0.9980149 ]\n",
            " [-0.08915983]\n",
            " [-0.0192479 ]\n",
            " [ 0.33031174]\n",
            " [-0.5086314 ]\n",
            " [-0.22898369]\n",
            " [ 1.44890259]\n",
            " [-0.92810297]\n",
            " [ 1.51881452]\n",
            " [-0.9980149 ]\n",
            " [-1.41748647]\n",
            " [-1.06792683]\n",
            " [-0.78827911]\n",
            " [-1.20775068]\n",
            " [ 1.51881452]\n",
            " [ 1.2391668 ]\n",
            " [ 0.60995945]\n",
            " [ 1.51881452]\n",
            " [-1.06792683]\n",
            " [-0.57854333]\n",
            " [-1.76704611]\n",
            " [ 1.37899066]\n",
            " [-0.85819104]\n",
            " [-1.62722225]\n",
            " [-0.15907176]\n",
            " [-2.04669382]\n",
            " [-0.36880755]\n",
            " [ 1.2391668 ]\n",
            " [ 1.30907873]\n",
            " [ 1.65863837]\n",
            " [ 1.7285503 ]\n",
            " [-1.27766261]\n",
            " [ 1.37899066]\n",
            " [-0.36880755]\n",
            " [ 0.60995945]\n",
            " [-0.78827911]\n",
            " [ 0.19048788]\n",
            " [ 0.47013559]\n",
            " [-0.15907176]\n",
            " [ 1.65863837]\n",
            " [ 0.88960716]\n",
            " [ 0.81969523]\n",
            " [ 0.67987138]\n",
            " [-0.57854333]\n",
            " [ 0.19048788]\n",
            " [ 0.47013559]\n",
            " [-0.85819104]\n",
            " [ 0.33031174]\n",
            " [-0.29889562]\n",
            " [-0.08915983]\n",
            " [ 0.67987138]\n",
            " [ 0.33031174]\n",
            " [ 0.81969523]\n",
            " [-0.78827911]\n",
            " [ 1.02943102]\n",
            " [ 0.05066402]\n",
            " [ 0.67987138]\n",
            " [ 0.12057595]\n",
            " [ 0.67987138]\n",
            " [-0.57854333]\n",
            " [-0.71836719]\n",
            " [ 0.54004752]\n",
            " [-0.57854333]\n",
            " [ 0.05066402]\n",
            " [-0.15907176]\n",
            " [-1.69713418]\n",
            " [-2.67590118]\n",
            " [ 0.26039981]\n",
            " [ 0.26039981]\n",
            " [-0.5086314 ]\n",
            " [-0.71836719]\n",
            " [-0.78827911]\n",
            " [ 0.47013559]\n",
            " [-0.78827911]\n",
            " [-0.71836719]\n",
            " [-0.08915983]\n",
            " [-0.0192479 ]\n",
            " [ 0.05066402]\n",
            " [ 1.7285503 ]\n",
            " [-0.08915983]\n",
            " [ 0.47013559]\n",
            " [-0.5086314 ]\n",
            " [ 0.33031174]\n",
            " [ 1.37899066]\n",
            " [ 0.12057595]\n",
            " [-0.5086314 ]\n",
            " [ 0.19048788]\n",
            " [ 0.60995945]\n",
            " [ 0.12057595]\n",
            " [ 0.26039981]\n",
            " [ 0.74978331]\n",
            " [-0.15907176]\n",
            " [ 1.65863837]\n",
            " [-0.0192479 ]]\n",
            "(948, 1)\n"
          ]
        }
      ]
    },
    {
      "cell_type": "code",
      "source": [
        "print(y_test)\n"
      ],
      "metadata": {
        "colab": {
          "base_uri": "https://localhost:8080/"
        },
        "id": "d92cVyn3awE7",
        "outputId": "ded4b0b2-f985-4196-8c36-ff5da3286f6c"
      },
      "execution_count": 234,
      "outputs": [
        {
          "output_type": "stream",
          "name": "stdout",
          "text": [
            "      Chance of Admit \n",
            "551               0.86\n",
            "901               0.57\n",
            "846               0.82\n",
            "1121              0.62\n",
            "723               0.67\n",
            "...                ...\n",
            "719               0.75\n",
            "288               0.82\n",
            "142               0.92\n",
            "636               0.86\n",
            "1018              0.76\n",
            "\n",
            "[237 rows x 1 columns]\n"
          ]
        }
      ]
    },
    {
      "cell_type": "code",
      "source": [
        "from sklearn.svm import SVR\n",
        "from sklearn.metrics import mean_squared_error as MSE\n",
        "svm_regression=SVR()\n",
        "svm_regression.fit(x_train_scaled,y_train_scaled)\n",
        "yfit=svm_regression.predict(x)\n",
        "score=svm_regression.score(x,y)\n",
        "svm_mean=MSE(y,yfit)\n"
      ],
      "metadata": {
        "colab": {
          "base_uri": "https://localhost:8080/"
        },
        "id": "YtyvKTBag2Vj",
        "outputId": "a8c5e99f-5434-43d8-cf4b-85a35ab64146"
      },
      "execution_count": 271,
      "outputs": [
        {
          "output_type": "stream",
          "name": "stderr",
          "text": [
            "/usr/local/lib/python3.7/dist-packages/sklearn/utils/validation.py:993: DataConversionWarning: A column-vector y was passed when a 1d array was expected. Please change the shape of y to (n_samples, ), for example using ravel().\n",
            "  y = column_or_1d(y, warn=True)\n",
            "/usr/local/lib/python3.7/dist-packages/sklearn/base.py:444: UserWarning: X has feature names, but SVR was fitted without feature names\n",
            "  f\"X has feature names, but {self.__class__.__name__} was fitted without\"\n",
            "/usr/local/lib/python3.7/dist-packages/sklearn/base.py:444: UserWarning: X has feature names, but SVR was fitted without feature names\n",
            "  f\"X has feature names, but {self.__class__.__name__} was fitted without\"\n"
          ]
        }
      ]
    },
    {
      "cell_type": "code",
      "source": [
        "print(svm_mean)"
      ],
      "metadata": {
        "colab": {
          "base_uri": "https://localhost:8080/"
        },
        "id": "dLooPCz0mwQ6",
        "outputId": "2a84deb6-ae70-4eaa-fc45-b6db11e6a2af"
      },
      "execution_count": 272,
      "outputs": [
        {
          "output_type": "stream",
          "name": "stdout",
          "text": [
            "0.4030493879163979\n"
          ]
        }
      ]
    },
    {
      "cell_type": "code",
      "source": [
        "from sklearn.ensemble import RandomForestRegressor\n",
        "rf=RandomForestRegressor()\n",
        "cc=rf.fit(x_train_scaled,y_train_scaled)\n",
        "from sklearn.metrics import mean_squared_error as MSE\n",
        "yp=rf.predict(x_test_scaled)\n",
        "mse_rf=MSE(y_test_scaled,yp)\n",
        "rms=mse_rf**(1/2)\n"
      ],
      "metadata": {
        "colab": {
          "base_uri": "https://localhost:8080/"
        },
        "id": "GXZu9K6jmW_w",
        "outputId": "07b577f2-45f0-4060-b964-d5732f4f4e69"
      },
      "execution_count": 304,
      "outputs": [
        {
          "output_type": "stream",
          "name": "stderr",
          "text": [
            "/usr/local/lib/python3.7/dist-packages/ipykernel_launcher.py:3: DataConversionWarning: A column-vector y was passed when a 1d array was expected. Please change the shape of y to (n_samples,), for example using ravel().\n",
            "  This is separate from the ipykernel package so we can avoid doing imports until\n"
          ]
        }
      ]
    },
    {
      "cell_type": "code",
      "source": [
        "print(rms)"
      ],
      "metadata": {
        "colab": {
          "base_uri": "https://localhost:8080/"
        },
        "id": "yadZDd1Pp9Wo",
        "outputId": "eb920821-33fd-4684-aa6f-6a5b0ddf0ffd"
      },
      "execution_count": 305,
      "outputs": [
        {
          "output_type": "stream",
          "name": "stdout",
          "text": [
            "0.32545045223319813\n"
          ]
        }
      ]
    },
    {
      "cell_type": "code",
      "source": [
        "yp"
      ],
      "metadata": {
        "colab": {
          "base_uri": "https://localhost:8080/"
        },
        "id": "waSgjLymnH1q",
        "outputId": "6bb9e25e-e247-4075-a3db-e4422c51d165"
      },
      "execution_count": 212,
      "outputs": [
        {
          "output_type": "execute_result",
          "data": {
            "text/plain": [
              "array([ 9.28058723e-01, -7.98066784e-01,  5.12082750e-01, -7.12774232e-01,\n",
              "       -3.84887289e-01, -5.90977033e-02, -6.75720910e-01,  4.35878748e-01,\n",
              "        1.25524655e+00,  2.47815661e-01,  5.51233430e-01,  1.15457337e+00,\n",
              "        7.30358409e-02,  1.01195304e+00,  4.10710454e-01,  9.40094194e-02,\n",
              "       -1.59086805e+00, -4.00267913e-01, -9.47678310e-01, -4.24037968e-01,\n",
              "       -4.77870153e-01,  8.05013729e-01,  5.34454567e-01, -1.54877045e-01,\n",
              "       -6.85508580e-01,  1.17275047e+00, -9.64457173e-01,  5.33056328e-01,\n",
              "       -4.52002740e-01,  1.25524655e+00, -3.60418114e-01, -2.07955243e+00,\n",
              "        5.69560974e-02,  4.98100364e-01,  1.56355815e+00,  1.00006801e+00,\n",
              "        3.95329830e-01,  1.49714182e+00, -6.21888725e-01,  7.42092994e-01,\n",
              "        9.61067772e-02,  2.99550488e-01,  1.40625631e+00,  1.51392068e+00,\n",
              "        1.56355815e+00, -1.35666309e+00, -5.47082962e-01, -1.36000824e-01,\n",
              "        8.10606683e-01,  1.70687760e+00, -1.72370071e+00,  4.98100364e-01,\n",
              "       -1.85513514e+00, -7.35146049e-01,  1.04496209e-01,  1.04690900e+00,\n",
              "       -3.45736609e-01, -2.16399542e-01,  7.29508847e-01,  1.07836937e+00,\n",
              "        5.69410531e-01, -9.79138678e-01,  1.95381715e-01, -1.64959407e+00,\n",
              "        9.61067772e-02, -3.00992975e-01, -5.83985841e-02, -7.65208178e-01,\n",
              "       -6.84110341e-01, -1.83975451e+00, -5.49029876e-02,  1.66143485e+00,\n",
              "        7.76349838e-01,  1.42248650e-01,  6.28835670e-01, -1.42797326e+00,\n",
              "        1.43701756e+00, -8.60288400e-01,  8.63739749e-01,  6.23242716e-01,\n",
              "       -4.57595694e-01, -5.07932282e-01, -1.60345220e+00,  6.56101322e-01,\n",
              "        2.13558817e-01, -4.66684245e-01, -1.33499039e+00,  8.95899236e-01,\n",
              "        1.14898042e+00, -1.39496421e-01, -6.40065826e-01, -5.35897054e-01,\n",
              "       -6.30278157e-01, -5.77145091e-01,  3.86241279e-01,  7.05738791e-01,\n",
              "        1.25944126e+00,  7.53278902e-01,  1.66213397e+00, -5.42189127e-01,\n",
              "       -5.63162706e-01, -2.04739294e+00, -1.77947981e-01, -5.08631402e-01,\n",
              "        1.49574358e+00,  4.95303887e-01, -2.44364313e-01, -5.64560944e-01,\n",
              "       -2.34576643e-01, -8.88253172e-01, -1.76549743e-01,  6.57499560e-01,\n",
              "       -7.35146049e-01,  1.31606992e+00, -2.81417635e-01, -8.08553573e-01,\n",
              "       -6.47057019e-01,  6.79172258e-01, -1.85638293e-01,  6.75676662e-01,\n",
              "       -1.19027270e+00, -1.89288758e+00,  2.68789240e-01, -8.88253172e-01,\n",
              "        1.43561932e+00, -5.70153898e-01,  9.61067772e-02, -1.53478806e-01,\n",
              "       -1.61953194e+00,  4.07913977e-01,  1.56215991e+00, -6.53897769e-02,\n",
              "       -2.06461428e-02, -3.60418114e-01, -2.51355506e-01, -6.30977276e-01,\n",
              "       -9.54519060e-02, -3.75798738e-01, -1.33848599e+00,  7.08535268e-01,\n",
              "       -1.53478806e-01, -1.15252026e+00,  1.37479594e+00,  7.39995636e-01,\n",
              "        4.30285794e-01,  1.56215991e+00, -5.52675916e-01, -5.22613787e-01,\n",
              "       -1.39441553e+00,  1.19721965e+00, -2.10107468e-01, -1.45788494e-01,\n",
              "        4.07913977e-01,  3.86241279e-01, -5.42038684e-02, -1.26717582e+00,\n",
              "        2.28240321e-01, -1.64959407e+00,  1.40625631e+00,  5.40047521e-01,\n",
              "        1.51811540e+00,  8.63191073e-02, -2.36059838e+00,  6.09959449e-01,\n",
              "       -1.80829415e+00, -1.02443099e-01, -2.41417392e-02, -3.18470957e-01,\n",
              "        4.30285794e-01,  1.51881452e+00, -1.76992223e-03,  3.05143442e-01,\n",
              "       -1.99286164e+00, -9.75492638e-02,  5.94578825e-01, -5.65260063e-01,\n",
              "        5.37251044e-01, -7.64509059e-01,  4.02321023e-01, -4.51303620e-01,\n",
              "       -8.63633553e-02,  1.43561932e+00, -4.12152941e-01, -7.44234599e-01,\n",
              "        1.07836937e+00,  1.24895447e+00, -2.16399542e-01, -9.29501209e-01,\n",
              "       -1.92479043e-02,  1.46428321e+00, -5.08631402e-01,  8.70182266e-02,\n",
              "       -1.85513514e+00,  4.51958492e-01,  8.63739749e-01,  1.10773238e+00,\n",
              "       -1.10358191e+00, -3.59718995e-01,  9.41341989e-01,  1.54118633e+00,\n",
              "       -1.03142218e-01, -1.46153098e+00,  1.25105183e+00,  1.50413301e+00,\n",
              "        3.17878033e-02,  4.53356730e-01, -6.01614266e-01, -1.24829960e+00,\n",
              "        1.76505495e-01,  2.84868983e-01, -2.55550222e-01, -6.87605938e-01,\n",
              "        6.79172258e-01,  4.51958492e-01, -6.88853733e-02,  7.33004443e-01,\n",
              "       -4.95348135e-01,  1.17205135e+00, -2.51355506e-01,  1.65514278e+00,\n",
              "        1.72855030e+00,  2.75930876e-02, -2.46904151e-03, -5.68056540e-01,\n",
              "       -2.11505707e-01,  1.40136248e+00, -1.07142242e+00, -4.74374557e-01,\n",
              "        1.34753029e+00, -4.95348135e-01,  1.50089405e-02, -4.12152941e-01,\n",
              "       -3.60418114e-01,  5.70109650e-01,  1.40136248e+00,  1.04690900e+00,\n",
              "        2.19850890e-01])"
            ]
          },
          "metadata": {},
          "execution_count": 212
        }
      ]
    },
    {
      "cell_type": "markdown",
      "source": [
        "### **RESULT**"
      ],
      "metadata": {
        "id": "mBii7OuEJJ14"
      }
    },
    {
      "cell_type": "code",
      "source": [
        "#Order GRE, TOEFL, University Rating, SOP, LOR, CGPA, Research\n",
        "print('Chance of getting into university is {}%'.format(round(rf.predict([[0,110, 3, 8.65]])[0]*100, 3)))"
      ],
      "metadata": {
        "colab": {
          "base_uri": "https://localhost:8080/"
        },
        "id": "LU29XqpVAIjB",
        "outputId": "b8aaf294-86cb-4a3b-ef9b-79c1cf5d9c71"
      },
      "execution_count": 298,
      "outputs": [
        {
          "output_type": "stream",
          "name": "stdout",
          "text": [
            "Chance of getting into university is 73.96%\n"
          ]
        },
        {
          "output_type": "stream",
          "name": "stderr",
          "text": [
            "/usr/local/lib/python3.7/dist-packages/sklearn/base.py:451: UserWarning: X does not have valid feature names, but RandomForestRegressor was fitted with feature names\n",
            "  \"X does not have valid feature names, but\"\n"
          ]
        }
      ]
    },
    {
      "cell_type": "code",
      "source": [
        "#Order GRE, TOEFL, University Rating,CGPA\n",
        "print('Chance of getting into university is {}%'.format(round(rf.predict([[330,0, 4, 8.5]])[0]*100, 3)))"
      ],
      "metadata": {
        "colab": {
          "base_uri": "https://localhost:8080/"
        },
        "id": "jLKD0BvoAe60",
        "outputId": "d4fc8ce7-f6c0-446d-f8a6-61908827b461"
      },
      "execution_count": 277,
      "outputs": [
        {
          "output_type": "stream",
          "name": "stdout",
          "text": [
            "Chance of getting into university is 64.75%\n"
          ]
        },
        {
          "output_type": "stream",
          "name": "stderr",
          "text": [
            "/usr/local/lib/python3.7/dist-packages/sklearn/base.py:451: UserWarning: X does not have valid feature names, but RandomForestRegressor was fitted with feature names\n",
            "  \"X does not have valid feature names, but\"\n"
          ]
        }
      ]
    },
    {
      "cell_type": "code",
      "source": [
        "#Order GRE, TOEFL, University Rating,CGPA\n",
        "print('Chance of getting into university is {}%'.format(round(rf.predict([[330,0, 0, 8.5]])[0]*100, 3)))"
      ],
      "metadata": {
        "colab": {
          "base_uri": "https://localhost:8080/"
        },
        "id": "x_rfKm9yB0Vn",
        "outputId": "ee48af82-bd62-4bd2-cb85-e88c2ddad77f"
      },
      "execution_count": 278,
      "outputs": [
        {
          "output_type": "stream",
          "name": "stdout",
          "text": [
            "Chance of getting into university is 64.93%\n"
          ]
        },
        {
          "output_type": "stream",
          "name": "stderr",
          "text": [
            "/usr/local/lib/python3.7/dist-packages/sklearn/base.py:451: UserWarning: X does not have valid feature names, but RandomForestRegressor was fitted with feature names\n",
            "  \"X does not have valid feature names, but\"\n"
          ]
        }
      ]
    },
    {
      "cell_type": "code",
      "source": [
        "#Order GRE, TOEFL, University Rating,CGPA\n",
        "print('Chance of getting into university is {}%'.format(round(rf.predict([[290,0, 4, 9.2]])[0]*100, 3)))"
      ],
      "metadata": {
        "colab": {
          "base_uri": "https://localhost:8080/"
        },
        "id": "vUTs5GlRgVnc",
        "outputId": "e24dd687-c994-49a5-cf0e-a620a98f4fb7"
      },
      "execution_count": 302,
      "outputs": [
        {
          "output_type": "stream",
          "name": "stdout",
          "text": [
            "Chance of getting into university is 77.73%\n"
          ]
        },
        {
          "output_type": "stream",
          "name": "stderr",
          "text": [
            "/usr/local/lib/python3.7/dist-packages/sklearn/base.py:451: UserWarning: X does not have valid feature names, but RandomForestRegressor was fitted with feature names\n",
            "  \"X does not have valid feature names, but\"\n"
          ]
        }
      ]
    }
  ]
}